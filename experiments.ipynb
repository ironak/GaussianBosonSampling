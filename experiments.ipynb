{
 "cells": [
  {
   "cell_type": "code",
   "execution_count": 24,
   "metadata": {},
   "outputs": [],
   "source": [
    "from ipynb.fs.full.gbs import *"
   ]
  },
  {
   "cell_type": "markdown",
   "metadata": {},
   "source": [
    "# Experiments"
   ]
  },
  {
   "cell_type": "markdown",
   "metadata": {},
   "source": [
    "### Experimental Setup\n",
    "\n",
    "```\n",
    "                       ┌─────────────┐\n",
    "[Detector] ◄──[ent]──► │             │──► [Detector]\n",
    "[Detector] ◄──[ent]──► │             │──► [Detector]\n",
    "[Detector] ◄──[ent]──► │ Haar-Random │──► [Detector]\n",
    "[Detector] ◄──[ent]──► │   Unitary   │──► [Detector]\n",
    "[Detector] ◄──[ent]──► │             │──► [Detector]\n",
    "[Detector] ◄──[ent]──► │             │──► [Detector]\n",
    "                       └─────────────┘\n",
    "```"
   ]
  },
  {
   "cell_type": "markdown",
   "metadata": {},
   "source": [
    "### QM Simulation\n",
    "\n",
    "Let $k$ be the number of entanglement sources. \n",
    "Then, the initial state is \n",
    "$$2^{-k/2}(|HH\\rangle+|VV\\rangle)^{\\otimes k} = 2^{-k/2}(|1010\\rangle+|0101\\rangle)^{\\otimes k},$$\n",
    "but reordered so the left (first two) modes of each ent come first, followed by all the right (second two) modes. \n",
    "Mathematically, this is \n",
    "$$\\frac{1}{\\sqrt{2^{k}}} \\sum_{x \\in S} | xx \\rangle$$\n",
    "Where \n",
    "$S \n",
    ":= \\left\\{ x \\in \\{0,1\\}^{2k} : \\forall i \\in \\{1, \\dots, k\\},\\ x_{2i-1} \\ne x_{2i} \\right\\} \n",
    "= \\{01,10\\}^{k}$.\n",
    "\n",
    "We then apply a $2k \\times 2k$ Haar-random unitary $U_\\text{haar}$ to the right modes by applying the $4k \\times 4k$ unitary $U = I \\oplus U_\\text{haar}$.\n",
    "\n",
    "Note that there are $2k$ photons in the system, with $k$ of those passing through $U_\\text{haar}$, and no mode has more than one photon in it initially.\n"
   ]
  },
  {
   "cell_type": "code",
   "execution_count": 8,
   "metadata": {},
   "outputs": [
    {
     "name": "stdout",
     "output_type": "stream",
     "text": [
      "[0 1 1 0 1 0 0]\n",
      "[(0.5, 'z'), (1, 'e'), (2.4, 'a')]\n",
      "[(1, 'e'), (2.4, 'a'), (0.5, 'z')]\n"
     ]
    }
   ],
   "source": [
    "state = np.array([0,2,1,0,4,0,0])\n",
    "print((state > 0).astype(int))\n",
    "a = [(1,'e'), (2.4,'a'), (0.5, 'z')]\n",
    "print(sorted(a))\n",
    "print(a)"
   ]
  },
  {
   "cell_type": "code",
   "execution_count": 26,
   "metadata": {},
   "outputs": [],
   "source": [
    "from collections import defaultdict"
   ]
  },
  {
   "cell_type": "code",
   "execution_count": null,
   "metadata": {},
   "outputs": [],
   "source": [
    "def name_this_later(num_src, haar_U=None, N=1000):\n",
    "    \n",
    "    m = 4*num_src  # there are 4 modes per entanglement source (rH,rV,lH,lV)\n",
    "    rm = 2*num_src # two modes exit the right side of each ent (rH,rV)\n",
    "    n = 2*num_src  # each ent sends one photon out each side\n",
    "\n",
    "    if not haar_U:\n",
    "        haar_U = qr_haar(rm)\n",
    "    if not is_unitary(haar_U):\n",
    "        raise ValueError('haar_U must be unitary.')\n",
    "    if haar_U.shape != (rm, rm):\n",
    "        raise ValueError(f'Unitary must act on {rm} modes.')\n",
    "        \n",
    "    #### print(haar_U)\n",
    "\n",
    "    # Simulate haar_U using QM (\"theory\")\n",
    "    # prepare initial state\n",
    "    all_states = get_fock_basis_states(n, m)\n",
    "    non_zero_amp_states = []\n",
    "    for i in range(2**num_src):\n",
    "        state = np.zeros(m, dtype=int)\n",
    "        for digit in range(num_src):\n",
    "            # each entanglement source either releases H light\n",
    "            # in both directions or V light in both directions\n",
    "            ent_index = 2*digit\n",
    "            h_or_v = (i % 2)\n",
    "            state[ent_index + h_or_v] = 1\n",
    "            state[rm + ent_index + h_or_v] = 1\n",
    "            i >> 1\n",
    "        non_zero_amp_states.append(tuple(state))\n",
    "        \n",
    "    #### print(non_zero_amp_states)\n",
    "\n",
    "    initial_state = np.array([(tuple(state) in non_zero_amp_states) for state in all_states], dtype=complex) / sqrt(2**num_src)\n",
    "    #### print('init', initial_state)\n",
    "    U = direct_sum(np.eye(rm), haar_U) # unitary acting on all modes\n",
    "    hsu_mat = get_hilbert_space_unitary_matrix(U, n)\n",
    "    #### print(hsu_mat)\n",
    "    final_state = hsu_mat @ initial_state\n",
    "    \n",
    "    final_probs = conj(final_state) * final_state\n",
    "    qm_distr = defaultdict(lambda: 0)\n",
    "    for i,state in enumerate(all_states):\n",
    "        qm_distr[tuple((state[rm:] > 0).astype(int))] += final_probs[i]\n",
    "\n",
    "    # Spoof haar_U using stochastic mechanics (\"experiment\")\n",
    "    ents = [ent(N, r=1) for i in range(num_src)]\n",
    "    l_ents = np.concatenate(tuple([ent[0] for ent in ents]))\n",
    "    r_ents = np.concatenate(tuple([ent[1] for ent in ents]))\n",
    "    r_ents = haar_U @ r_ents\n",
    "    dl = threshold_detector(l_ents)\n",
    "    dr = threshold_detector(r_ents)\n",
    "    \n",
    "    stoch_distr = Counter(map(tuple, dr.T))\n",
    "    stoch_normalization = N - stoch_distr[tuple(np.zeros(rm))]\n",
    "    \n",
    "    distrs_sorted = []\n",
    "    for det_event in qm_distr:\n",
    "        distrs_sorted.append((qm_distr[det_event], stoch_distr[det_event]/N, ''.join(map(str,det_event))))\n",
    "    distrs_sorted = sorted(distrs_sorted)\n",
    "    \n",
    "    labels = []\n",
    "    qm_data = []\n",
    "    stoch_data = []\n",
    "    for qm_pt, stoch_pt, det_event in distrs_sorted:\n",
    "        labels.append(det_event)\n",
    "        qm_data.append(qm_pt)\n",
    "        stoch_data.append(stoch_pt)\n",
    "        \n",
    "    x = np.arange(len(labels))  # the label locations\n",
    "    width = 0.35  # the width of the bars\n",
    "\n",
    "    fig, ax = plt.subplots()\n",
    "    rects1 = ax.bar(x - width/2, qm_data, width, label='QM')\n",
    "    rects2 = ax.bar(x + width/2, stoch_data, width, label='Spoof')\n",
    "\n",
    "    # Add some text for labels, title and custom x-axis tick labels, etc.\n",
    "    ax.set_ylabel('Probabilities')\n",
    "    ax.set_title('Comparing QM and Spoof')\n",
    "    ax.set_xticks(x, labels)\n",
    "    ax.legend()\n",
    "\n",
    "    ax.bar_label(rects1, padding=3)\n",
    "    ax.bar_label(rects2, padding=3)\n",
    "\n",
    "    fig.tight_layout()\n",
    "\n",
    "    plt.show()\n",
    "    \n",
    "    # sort by what's heralded\n",
    "#     counts = defaultdict(lambda: defaultdict(lambda: 0))\n",
    "#     for i in range(N):\n",
    "#         counts[tuple(dl[i])][tuple(dr[i])] += 1\n",
    "    \n",
    "    #options\n",
    "    # 1) assume heralded state (eg [0,1,0,1]) is true Fock state (not something indistinguishable like [0,3,0,3])\n",
    "    # 2) assume true state is (equal?) superposition of all states consistent with heralded state (unconserved photon number means many hsu's)\n",
    "    # 3) assume true state is (equal?) superposition of all states with num_src photons consistent with heralded state\n",
    "    \n",
    "    #QM sim it, turn amps to probs, then graph output pr distr behind stochastic sim raw counts normalized\n",
    "    \n",
    "name_this_later(3, N=1000)"
   ]
  },
  {
   "cell_type": "code",
   "execution_count": null,
   "metadata": {},
   "outputs": [],
   "source": [
    "def simulate_ethru(num_src, haar_U=None, N=1000):\n",
    "    '''Simulate Ent to Haar-Random Unitary (ETHRU experiment)\n",
    "    using standard quantum mechanics (Fock states + permanent).\n",
    "    \n",
    "    num_src = number of entanglement sources (ents)\n",
    "    m := 2*num_src, the number of modes exiting one side of the ents\n",
    "        (one horizontal and one vertical component per ent per side)\n",
    "    haar_U : m x m haar-random unitary \n",
    "        = a unitary to apply on one side of the ents\n",
    "    \n",
    "    Returns a '''\n",
    "    \n",
    "    m = 2*num_src\n",
    "\n",
    "    if not haar_U:\n",
    "        haar_U = qr_haar(m)\n",
    "    if not is_unitary(haar_U):\n",
    "        raise ValueError('haar_U must be unitary.')\n",
    "    if haar_U.shape != (m, m):\n",
    "        raise ValueError(f'Unitary must act on {m} modes.')"
   ]
  },
  {
   "cell_type": "code",
   "execution_count": null,
   "metadata": {},
   "outputs": [],
   "source": [
    "def spoof_ethru(num_src, haar_U=None, N=1000):\n",
    "    '''Simulate Ent to Haar-Random Unitary (ETHRU experiment)\n",
    "    using stochastics (Squeezed states + threshold detectors).\n",
    "\n",
    "    num_src = number of entanglement sources (ents)\n",
    "    m := 2*num_src, the number of modes exiting one side of the ents\n",
    "        (one horizontal and one vertical component per ent per side)\n",
    "    haar_U : m x m haar-random unitary \n",
    "        = a unitary to apply on one side of the ents\n",
    "    \n",
    "    Returns a tuple with two m x N arrays of boolean values \n",
    "    representing detections on the left and right side of \n",
    "    the experiment respectively.'''\n",
    "\n",
    "    m = 2*num_src\n",
    "\n",
    "    if not haar_U:\n",
    "        haar_U = qr_haar(m)\n",
    "    if not is_unitary(haar_U):\n",
    "        raise ValueError('haar_U must be unitary.')\n",
    "    if haar_U.shape != (m, m):\n",
    "        raise ValueError(f'Unitary must act on {m} modes.')\n",
    "\n",
    "    ents = [ent(N, r=1) for i in range(num_src)]\n",
    "    l_ents = np.concatenate(tuple([ent[0] for ent in ents]))\n",
    "    r_ents = np.concatenate(tuple([ent[1] for ent in ents]))\n",
    "    r_ents = haar_U @ r_ents\n",
    "    \n",
    "    return threshold_detector(l_ents), threshold_detector(r_ents)"
   ]
  },
  {
   "cell_type": "code",
   "execution_count": null,
   "metadata": {},
   "outputs": [],
   "source": [
    "spoof_ethru()"
   ]
  },
  {
   "cell_type": "code",
   "execution_count": null,
   "metadata": {},
   "outputs": [],
   "source": [
    "l_res, r_res = spoof_ethru(10, N=100)\n",
    "print(l_res)\n",
    "\n",
    "def tup_to_bin(tup):\n",
    "    return \"\".join(str(int(item)) for item in tup)\n",
    "\n",
    "lcounts = get_all_coincidence_counts(l_res)\n",
    "sortedCounts = []\n",
    "bins = []\n",
    "counts = []\n",
    "for tup in lcounts:\n",
    "    bins.append(tup_to_bin(tup))\n",
    "    counts.append(lcounts[tup])\n",
    "    sortedCounts.append((lcounts[tup], tup_to_bin(tup)))\n",
    "plt.bar(bins, counts)\n",
    "plt.show()\n",
    "# print(sorted(sortedCounts, reverse=True))\n",
    "# print(get_all_coincidence_counts(r_res))\n",
    "# print_all_coincidence_counts(l_res)\n",
    "# print_all_coincidence_counts(r_res)"
   ]
  },
  {
   "cell_type": "code",
   "execution_count": null,
   "metadata": {},
   "outputs": [],
   "source": [
    "# print(ent(17,r=1))\n",
    "print(list(lcounts.keys())[0])"
   ]
  }
 ],
 "metadata": {
  "kernelspec": {
   "display_name": "Python 3 (ipykernel)",
   "language": "python",
   "name": "python3"
  },
  "language_info": {
   "codemirror_mode": {
    "name": "ipython",
    "version": 3
   },
   "file_extension": ".py",
   "mimetype": "text/x-python",
   "name": "python",
   "nbconvert_exporter": "python",
   "pygments_lexer": "ipython3",
   "version": "3.10.4"
  },
  "vscode": {
   "interpreter": {
    "hash": "eaba163e9a8852b62833323186c9b1ec3be888b762b728d20972db8b5137f3e8"
   }
  }
 },
 "nbformat": 4,
 "nbformat_minor": 2
}
