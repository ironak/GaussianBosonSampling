{
 "cells": [
  {
   "cell_type": "code",
   "execution_count": 1,
   "metadata": {},
   "outputs": [],
   "source": [
    "from ipynb.fs.full.gbs import *"
   ]
  },
  {
   "cell_type": "markdown",
   "id": "18318e98",
   "metadata": {},
   "source": [
    "# Experiments"
   ]
  },
  {
   "attachments": {},
   "cell_type": "markdown",
   "id": "ba2c6605",
   "metadata": {},
   "source": [
    "### Spoof Haar\n",
    "\n",
    "```\n",
    "                       ┌─────────────┐\n",
    "[Detector] ◄──[ent]──► │             │──► [Detector]\n",
    "[Detector] ◄──[ent]──► │             │──► [Detector]\n",
    "[Detector] ◄──[ent]──► │ Haar-Random │──► [Detector]\n",
    "[Detector] ◄──[ent]──► │   Unitary   │──► [Detector]\n",
    "[Detector] ◄──[ent]──► │             │──► [Detector]\n",
    "[Detector] ◄──[ent]──► │             │──► [Detector]\n",
    "                       └─────────────┘\n",
    "```"
   ]
  },
  {
   "cell_type": "code",
   "execution_count": 2,
   "id": "d8c847b1",
   "metadata": {},
   "outputs": [],
   "source": [
    "def spoof_haar(num_src, N=1000):\n",
    "    m = 2*num_src\n",
    "    ents = [ent(N, r=1) for i in range(num_src)]\n",
    "    l_ents = np.concatenate(tuple([ent[0] for ent in ents]))\n",
    "    r_ents = np.concatenate(tuple([ent[1] for ent in ents]))\n",
    "    haar_U = qr_haar(m)\n",
    "    r_ents = haar_U @ r_ents\n",
    "    return threshold_detector(l_ents), threshold_detector(r_ents)"
   ]
  },
  {
   "cell_type": "code",
   "execution_count": 3,
   "id": "5705aaac",
   "metadata": {},
   "outputs": [
    {
     "name": "stdout",
     "output_type": "stream",
     "text": [
      "[[False False False ... False False False]\n",
      " [False False  True ... False False False]\n",
      " [False False  True ... False False False]\n",
      " ...\n",
      " [False False  True ... False False False]\n",
      " [False False False ... False False False]\n",
      " [False False  True ... False False False]]\n"
     ]
    },
    {
     "data": {
      "image/png": "[encoded data removed]",
      "text/plain": [
       "<Figure size 432x288 with 1 Axes>"
      ]
     },
     "metadata": {
      "needs_background": "light"
     },
     "output_type": "display_data"
    }
   ],
   "source": [
    "l_res, r_res = spoof_haar(10, N=100)\n",
    "print(l_res)\n",
    "\n",
    "def tup_to_bin(tup):\n",
    "    return \"\".join(str(int(item)) for item in tup)\n",
    "\n",
    "lcounts = get_all_coincidence_counts(l_res)\n",
    "sortedCounts = []\n",
    "bins = []\n",
    "counts = []\n",
    "for tup in lcounts:\n",
    "    bins.append(tup_to_bin(tup))\n",
    "    counts.append(lcounts[tup])\n",
    "    sortedCounts.append((lcounts[tup], tup_to_bin(tup)))\n",
    "plt.bar(bins, counts)\n",
    "plt.show()\n",
    "# print(sorted(sortedCounts, reverse=True))\n",
    "# print(get_all_coincidence_counts(r_res))\n",
    "# print_all_coincidence_counts(l_res)\n",
    "# print_all_coincidence_counts(r_res)"
   ]
  },
  {
   "cell_type": "code",
   "execution_count": 4,
   "id": "6232537f",
   "metadata": {},
   "outputs": [
    {
     "name": "stdout",
     "output_type": "stream",
     "text": [
      "(array([[ 0.11136694+0.47724436j,  0.61414232+0.36114136j,\n",
      "         1.41801047+0.11299122j,  0.02825179-1.36228373j,\n",
      "        -0.89732345-0.49516147j,  0.36961072+0.23748155j,\n",
      "         0.3543429 +0.87134714j, -0.20243765-0.22650619j,\n",
      "        -0.74474007-0.28389338j, -0.61146432-0.22867604j,\n",
      "        -1.37543327+0.12268877j, -1.02451456-0.71406556j,\n",
      "        -0.76034249+0.51441913j,  0.15194204-0.01149708j,\n",
      "        -1.42553324+1.33495609j, -1.0198147 -1.14237091j,\n",
      "        -0.2517038 +0.04601729j],\n",
      "       [ 0.15063213+1.17465602j,  0.37694143-1.22994718j,\n",
      "        -1.0315867 +0.63971937j, -0.76512111+0.46408315j,\n",
      "        -2.95520966+0.10090665j,  0.25417264-0.13560092j,\n",
      "         1.28460248+0.20799916j,  0.83910738-0.79980619j,\n",
      "        -0.04451082-1.37779309j, -1.5882843 -1.018503j  ,\n",
      "         0.10554326+0.81970552j,  1.22296082+0.16946055j,\n",
      "        -0.47164514-0.23908127j,  0.03138973-0.42592158j,\n",
      "        -0.52018377+0.30888046j,  0.1210724 +0.36450625j,\n",
      "         0.01159918+1.99993815j]]), array([[-0.0629988 -0.7201316j ,  0.8528268 +0.28193355j,\n",
      "         1.39079809+0.4003839j ,  0.49831366+1.2369065j ,\n",
      "        -1.24563679+0.83223092j,  0.4778779 -0.53427627j,\n",
      "         0.36400614-1.12981005j, -0.01683657+0.21417826j,\n",
      "        -1.09457443-0.2058284j , -0.96374521+0.41754777j,\n",
      "        -1.8299506 -0.2125628j , -1.1519322 +0.71122239j,\n",
      "        -0.00716755-0.11730383j,  0.14990375-0.04836744j,\n",
      "        -1.6750599 -1.38972906j, -1.09518098+1.26571823j,\n",
      "        -0.02651954+0.0634678j ],\n",
      "       [-0.6036725 -1.4560787j ,  0.46295295+1.01691499j,\n",
      "        -1.17992956-0.53322607j, -0.93806482-0.06649728j,\n",
      "        -3.23576515-0.17047723j,  0.43782066+0.31904898j,\n",
      "         1.00753873+0.15498422j,  0.82087537+0.95406482j,\n",
      "         0.32360588+1.19095702j, -1.49400905+1.16595454j,\n",
      "        -0.08214359-0.76425565j,  0.8422627 +0.21928272j,\n",
      "        -0.36167299-0.02990203j, -0.19583006+0.54741213j,\n",
      "        -0.1769084 -0.1682538j ,  0.09964812+0.37949619j,\n",
      "         0.08075859-2.25097419j]]))\n"
     ]
    }
   ],
   "source": [
    "print(ent(17,r=1))"
   ]
  }
 ],
 "metadata": {
  "kernelspec": {
   "display_name": "ronakr",
   "language": "python",
   "name": "python3"
  },
  "language_info": {
   "codemirror_mode": {
    "name": "ipython",
    "version": 3
   },
   "file_extension": ".py",
   "mimetype": "text/x-python",
   "name": "python",
   "nbconvert_exporter": "python",
   "pygments_lexer": "ipython3",
   "version": "3.10.4"
  },
  "orig_nbformat": 4,
  "vscode": {
   "interpreter": {
    "hash": "eaba163e9a8852b62833323186c9b1ec3be888b762b728d20972db8b5137f3e8"
   }
  }
 },
 "nbformat": 4,
 "nbformat_minor": 2
}
