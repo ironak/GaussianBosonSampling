{
 "cells": [
  {
   "cell_type": "code",
   "execution_count": 1,
   "metadata": {},
   "outputs": [],
   "source": [
    "from ipynb.fs.full.gbs import *"
   ]
  },
  {
   "cell_type": "markdown",
   "metadata": {},
   "source": [
    "# Experiments"
   ]
  },
  {
   "cell_type": "markdown",
   "metadata": {},
   "source": [
    "### Experimental Setup\n",
    "\n",
    "```\n",
    "                       ┌─────────────┐\n",
    "[Detector] ◄──[ent]──► │             │──► [Detector]\n",
    "[Detector] ◄──[ent]──► │             │──► [Detector]\n",
    "[Detector] ◄──[ent]──► │ Haar-Random │──► [Detector]\n",
    "[Detector] ◄──[ent]──► │   Unitary   │──► [Detector]\n",
    "[Detector] ◄──[ent]──► │             │──► [Detector]\n",
    "[Detector] ◄──[ent]──► │             │──► [Detector]\n",
    "                       └─────────────┘\n",
    "```"
   ]
  },
  {
   "cell_type": "markdown",
   "metadata": {},
   "source": [
    "### QM Simulation\n",
    "\n",
    "Let $k$ be the number of entanglement sources. \n",
    "Then, the initial state is \n",
    "$$2^{-k/2}(|HH\\rangle+|VV\\rangle)^{\\otimes k} = 2^{-k/2}(|1010\\rangle+|0101\\rangle)^{\\otimes k},$$\n",
    "but reordered so the left (first two) modes of each ent come first, followed by all the right (second two) modes. \n",
    "Mathematically, this is \n",
    "$$\\frac{1}{\\sqrt{2^{k}}} \\sum_{x \\in S} | xx \\rangle$$\n",
    "Where \n",
    "$S \n",
    ":= \\left\\{ x \\in \\{0,1\\}^{2k} : \\forall i \\in \\{1, \\dots, k\\},\\ x_{2i-1} \\ne x_{2i} \\right\\} \n",
    "= \\{01,10\\}^{k}$.\n",
    "\n",
    "We then apply a $2k \\times 2k$ Haar-random unitary $U_\\text{haar}$ to the right modes by applying the $4k \\times 4k$ unitary $U = I \\oplus U_\\text{haar}$.\n",
    "\n",
    "Note that there are $2k$ photons in the system, with $k$ of those passing through $U_\\text{haar}$, and no mode has more than one photon in it initially.\n"
   ]
  },
  {
   "cell_type": "code",
   "execution_count": 2,
   "metadata": {},
   "outputs": [
    {
     "name": "stderr",
     "output_type": "stream",
     "text": [
      "/home/ronakr/installations/anaconda3/envs/ronakr/lib/python3.10/site-packages/matplotlib/transforms.py:775: ComplexWarning: Casting complex values to real discards the imaginary part\n",
      "  points = np.asarray(points, float)\n"
     ]
    },
    {
     "data": {
      "image/png": "[encoded data removed]",
      "text/plain": [
       "<Figure size 432x288 with 1 Axes>"
      ]
     },
     "metadata": {
      "needs_background": "light"
     },
     "output_type": "display_data"
    }
   ],
   "source": [
    "def esthru_no_heralding_or_postselection(num_src, haar_U=None, N=1000):\n",
    "    '''Entanglement Sources Through Haar-Random Unitary (ESTHRU) experiment.\n",
    "    Compares probability distributions for QM and Stochastic simulation models.\n",
    "    Simulates entanglement sources instead of using them for heralding.\n",
    "    No postselection. '''\n",
    "    \n",
    "    m = 4*num_src  # there are 4 modes per entanglement source (rH,rV,lH,lV)\n",
    "    rm = 2*num_src # two modes exit the right side of each ent (rH,rV)\n",
    "    n = 2*num_src  # each ent sends one photon out each side\n",
    "    rn = num_src   # on the right side, there is one photon per ent\n",
    "\n",
    "    if not haar_U:\n",
    "        haar_U = qr_haar(rm)\n",
    "    if not is_unitary(haar_U):\n",
    "        raise ValueError('haar_U must be unitary.')\n",
    "    if haar_U.shape != (rm, rm):\n",
    "        raise ValueError(f'Unitary must act on {rm} modes.')\n",
    "        \n",
    "    #### print(haar_U)\n",
    "\n",
    "    # Simulate haar_U using QM (\"theory\")\n",
    "    # prepare initial state\n",
    "    basis_states = get_fock_basis_states(n, m)\n",
    "    non_zero_amp_states = []\n",
    "    for i in range(2**num_src):\n",
    "        state = np.zeros(m, dtype=int)\n",
    "        for digit in range(num_src):\n",
    "            # each entanglement source either releases H light\n",
    "            # in both directions or V light in both directions\n",
    "            ent_index = 2*digit\n",
    "            h_or_v = (i % 2)\n",
    "            state[ent_index + h_or_v] = 1\n",
    "            state[rm + ent_index + h_or_v] = 1\n",
    "            i >> 1\n",
    "        non_zero_amp_states.append(tuple(state))\n",
    "        \n",
    "    #### print(non_zero_amp_states)\n",
    "\n",
    "    initial_state = np.array([(state in non_zero_amp_states) for state in basis_states], dtype=complex) / sqrt(2**num_src)\n",
    "    #### print('init', initial_state)\n",
    "    U = direct_sum(np.eye(rm), haar_U) # unitary acting on all modes\n",
    "    hsu_mat = get_hilbert_space_unitary_matrix(U, n)\n",
    "    #### print(hsu_mat)\n",
    "    final_state = hsu_mat @ initial_state\n",
    "    \n",
    "    final_probs = conj(final_state) * final_state\n",
    "    qm_distr = defaultdict(lambda: 0)\n",
    "    for i,state in enumerate(basis_states):\n",
    "        detection_event = tuple([(1 if x > 0 else 0) for x in state[rm:]]) \n",
    "        qm_distr[detection_event] += final_probs[i]\n",
    "\n",
    "    # Spoof haar_U using stochastic mechanics (\"experiment\")\n",
    "    ents = [ent(N, r=1) for i in range(num_src)]\n",
    "    l_ents = np.concatenate(tuple([ent[0] for ent in ents]))\n",
    "    r_ents = np.concatenate(tuple([ent[1] for ent in ents]))\n",
    "    r_ents = haar_U @ r_ents\n",
    "    dl = threshold_detector(l_ents)\n",
    "    dr = threshold_detector(r_ents)\n",
    "    \n",
    "    stoch_distr = Counter(map(tuple, dr.T))\n",
    "    stoch_normalization = N - stoch_distr[tuple(np.zeros(rm))]\n",
    "    \n",
    "    distrs_sorted = []\n",
    "    for det_event in qm_distr:\n",
    "        distrs_sorted.append((qm_distr[det_event], stoch_distr[det_event]/N, ''.join(map(str,det_event))))\n",
    "    distrs_sorted = sorted(distrs_sorted)\n",
    "    \n",
    "    labels = []\n",
    "    qm_data = []\n",
    "    stoch_data = []\n",
    "    for qm_pt, stoch_pt, det_event in distrs_sorted:\n",
    "        labels.append(det_event)\n",
    "        qm_data.append(qm_pt)\n",
    "        stoch_data.append(stoch_pt)\n",
    "        \n",
    "    x = np.arange(len(labels))  # the label locations\n",
    "    width = 0.35  # the width of the bars\n",
    "\n",
    "    fig, ax = plt.subplots()\n",
    "    rects1 = ax.bar(x - width/2, qm_data, width, label='QM')\n",
    "    rects2 = ax.bar(x + width/2, stoch_data, width, label='Spoof')\n",
    "\n",
    "    # Add some text for labels, title and custom x-axis tick labels, etc.\n",
    "    ax.set_ylabel('Probabilities')\n",
    "    ax.set_title('Comparing QM and Spoof')\n",
    "    ax.set_xticks(x, labels, rotation=90)\n",
    "    ax.legend()\n",
    "\n",
    "    #ax.bar_label(rects1, padding=3)\n",
    "    #ax.bar_label(rects2, padding=3)\n",
    "\n",
    "    fig.tight_layout()\n",
    "\n",
    "    plt.show()\n",
    "    \n",
    "    # sort by what's heralded\n",
    "#     counts = defaultdict(lambda: defaultdict(lambda: 0))\n",
    "#     for i in range(N):\n",
    "#         counts[tuple(dl[i])][tuple(dr[i])] += 1\n",
    "    \n",
    "    #options\n",
    "    # 1) assume heralded state (eg [0,1,0,1]) is true Fock state (not something indistinguishable like [0,3,0,3])\n",
    "    # 2) assume true state is (equal?) superposition of all states consistent with heralded state (unconserved photon number means many hsu's)\n",
    "    # 3) assume true state is (equal?) superposition of all states with num_src photons consistent with heralded state\n",
    "    \n",
    "    #QM sim it, turn amps to probs, then graph output pr distr behind stochastic sim raw counts normalized\n",
    "    \n",
    "esthru_no_heralding_or_postselection(2, N=1000000)"
   ]
  }
 ],
 "metadata": {
  "kernelspec": {
   "display_name": "Python 3 (ipykernel)",
   "language": "python",
   "name": "python3"
  },
  "language_info": {
   "codemirror_mode": {
    "name": "ipython",
    "version": 3
   },
   "file_extension": ".py",
   "mimetype": "text/x-python",
   "name": "python",
   "nbconvert_exporter": "python",
   "pygments_lexer": "ipython3",
   "version": "3.10.4"
  },
  "vscode": {
   "interpreter": {
    "hash": "eaba163e9a8852b62833323186c9b1ec3be888b762b728d20972db8b5137f3e8"
   }
  }
 },
 "nbformat": 4,
 "nbformat_minor": 2
}
