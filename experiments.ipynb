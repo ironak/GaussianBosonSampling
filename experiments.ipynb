{
 "cells": [
  {
   "cell_type": "code",
   "execution_count": 1,
   "metadata": {},
   "outputs": [],
   "source": [
    "from ipynb.fs.full.gbs import *"
   ]
  },
  {
   "cell_type": "markdown",
   "id": "18318e98",
   "metadata": {},
   "source": [
    "# Experiments"
   ]
  },
  {
   "attachments": {},
   "cell_type": "markdown",
   "id": "ba2c6605",
   "metadata": {},
   "source": [
    "### Spoof Haar\n",
    "\n",
    "```\n",
    "                       ┌─────────────┐\n",
    "[Detector] ◄──[ent]──► │             │──► [Detector]\n",
    "[Detector] ◄──[ent]──► │             │──► [Detector]\n",
    "[Detector] ◄──[ent]──► │ Haar-Random │──► [Detector]\n",
    "[Detector] ◄──[ent]──► │   Unitary   │──► [Detector]\n",
    "[Detector] ◄──[ent]──► │             │──► [Detector]\n",
    "[Detector] ◄──[ent]──► │             │──► [Detector]\n",
    "                       └─────────────┘\n",
    "```"
   ]
  },
  {
   "cell_type": "code",
   "execution_count": 2,
   "id": "d8c847b1",
   "metadata": {},
   "outputs": [],
   "source": [
    "def spoof_haar(num_src, N=1000):\n",
    "    m = 2*num_src\n",
    "    ents = [ent(N, r=1) for i in range(num_src)]\n",
    "    l_ents = np.concatenate(tuple([ent[0] for ent in ents]))\n",
    "    r_ents = np.concatenate(tuple([ent[1] for ent in ents]))\n",
    "    haar_U = qr_haar(m)\n",
    "    r_ents = haar_U @ r_ents\n",
    "    return threshold_detector(l_ents), threshold_detector(r_ents)"
   ]
  },
  {
   "cell_type": "code",
   "execution_count": 3,
   "id": "5705aaac",
   "metadata": {},
   "outputs": [
    {
     "name": "stdout",
     "output_type": "stream",
     "text": [
      "[[False False  True ... False False False]\n",
      " [False False False ... False False False]\n",
      " [ True False False ... False False False]\n",
      " ...\n",
      " [False False False ... False False False]\n",
      " [False False False ... False False False]\n",
      " [False False False ... False False  True]]\n"
     ]
    },
    {
     "data": {
      "image/png": "[encoded data removed]",
      "text/plain": [
       "<Figure size 432x288 with 1 Axes>"
      ]
     },
     "metadata": {
      "needs_background": "light"
     },
     "output_type": "display_data"
    }
   ],
   "source": [
    "l_res, r_res = spoof_haar(10, N=100)\n",
    "print(l_res)\n",
    "\n",
    "def tup_to_bin(tup):\n",
    "    return \"\".join(str(int(item)) for item in tup)\n",
    "\n",
    "lcounts = get_all_coincidence_counts(l_res)\n",
    "sortedCounts = []\n",
    "bins = []\n",
    "counts = []\n",
    "for tup in lcounts:\n",
    "    bins.append(tup_to_bin(tup))\n",
    "    counts.append(lcounts[tup])\n",
    "    sortedCounts.append((lcounts[tup], tup_to_bin(tup)))\n",
    "plt.bar(bins, counts)\n",
    "plt.show()\n",
    "# print(sorted(sortedCounts, reverse=True))\n",
    "# print(get_all_coincidence_counts(r_res))\n",
    "# print_all_coincidence_counts(l_res)\n",
    "# print_all_coincidence_counts(r_res)"
   ]
  },
  {
   "cell_type": "code",
   "execution_count": 4,
   "id": "6232537f",
   "metadata": {},
   "outputs": [
    {
     "name": "stdout",
     "output_type": "stream",
     "text": [
      "(array([[-1.25647215-1.25231846j, -0.35434847+0.15023187j,\n",
      "        -0.51308033-0.53780023j,  0.91783103+0.12810959j,\n",
      "         0.48658029-0.40490021j, -0.21201508+0.49907842j,\n",
      "        -0.85984929+0.13433901j, -0.84767611+0.50846433j,\n",
      "         2.33517501+1.65922367j, -0.6208866 -0.52286391j,\n",
      "        -0.8867792 -1.00115216j, -0.23675854-0.90608269j,\n",
      "        -1.34764699+1.076299j  , -1.67728715-0.60906823j,\n",
      "         1.04065054+1.10036619j, -0.34611347-0.48598907j,\n",
      "         1.26294607-0.24600546j],\n",
      "       [ 0.31616708-0.27724422j, -0.91230052-2.02355336j,\n",
      "         0.26209533-0.89408795j,  1.4238355 -0.16616751j,\n",
      "        -0.36565045+1.6738055j , -0.9411861 +0.73412822j,\n",
      "        -1.21378688-0.4418689j , -1.09058713+1.4033607j ,\n",
      "         0.45562012+0.03523013j,  0.7753312 -2.49741377j,\n",
      "        -1.36745863-0.3454972j ,  0.60628454+1.32558095j,\n",
      "         1.48652943+0.88784495j, -0.26608669-0.46854823j,\n",
      "        -0.4662798 +2.04559614j, -0.81859141+1.26176201j,\n",
      "         0.24272641-1.27293022j]]), array([[-1.13552053+1.4311196j , -0.6068012 -0.25748562j,\n",
      "        -1.10910587+1.08929889j,  1.06860085+0.04892025j,\n",
      "         0.48049814+0.44482794j, -0.34794048-0.39163671j,\n",
      "        -0.64438998-0.30947185j, -0.66606233-0.3417695j ,\n",
      "         2.03442532-1.86061839j, -0.44246899+0.5596633j ,\n",
      "        -0.68638884+0.98971332j, -0.1235701 +0.87136736j,\n",
      "        -1.00695341-0.82204732j, -1.68254968+0.7560229j ,\n",
      "         1.37832761-1.11786157j,  0.38375562+0.82260061j,\n",
      "         1.16569636+0.77355872j],\n",
      "       [ 0.14497118+0.19735757j, -1.05038324+1.66623824j,\n",
      "         0.55543148+0.87267967j,  1.15811234+0.40705087j,\n",
      "        -0.1564335 -1.54742981j, -0.17310767-0.51586141j,\n",
      "        -1.58993967+0.4153582j , -1.19229858-1.43824345j,\n",
      "         0.79087612+0.59569419j,  0.51956315+2.79055352j,\n",
      "        -1.23897936+0.69227889j,  0.4294029 -1.32655724j,\n",
      "         1.35686152-0.96666752j,  0.00815287+0.03761204j,\n",
      "        -0.61586428-2.32377255j, -0.54466706-0.94529477j,\n",
      "         0.24845683+1.4263753j ]]))\n"
     ]
    }
   ],
   "source": [
    "print(ent(17,r=1))"
   ]
  }
 ],
 "metadata": {
  "kernelspec": {
   "display_name": "ronakr",
   "language": "python",
   "name": "python3"
  },
  "language_info": {
   "codemirror_mode": {
    "name": "ipython",
    "version": 3
   },
   "file_extension": ".py",
   "mimetype": "text/x-python",
   "name": "python",
   "nbconvert_exporter": "python",
   "pygments_lexer": "ipython3",
   "version": "3.10.4"
  },
  "orig_nbformat": 4,
  "vscode": {
   "interpreter": {
    "hash": "eaba163e9a8852b62833323186c9b1ec3be888b762b728d20972db8b5137f3e8"
   }
  }
 },
 "nbformat": 4,
 "nbformat_minor": 2
}
