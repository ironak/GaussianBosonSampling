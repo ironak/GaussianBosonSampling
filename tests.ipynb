{
 "cells": [
  {
   "cell_type": "code",
   "execution_count": 1,
   "metadata": {},
   "outputs": [],
   "source": [
    "from ipynb.fs.full.arl_libq import *"
   ]
  },
  {
   "cell_type": "markdown",
   "metadata": {
    "id": "49b6b2aa"
   },
   "source": [
    "## Stochastic Tests\n",
    "\n",
    "Tests are not currently comprehensive nor rigorous. Outputs need to be checked by eye.\n",
    "\n",
    "TESTS ARE ABLE TO RUN != CODE IS WORKING CORRECTLY"
   ]
  },
  {
   "cell_type": "markdown",
   "metadata": {},
   "source": [
    "### test `zpf`"
   ]
  },
  {
   "cell_type": "code",
   "execution_count": 2,
   "metadata": {
    "id": "53b5136e"
   },
   "outputs": [],
   "source": [
    "def check_expectations(arr: np.ndarray):\n",
    "    # avg z\n",
    "    exp_val = arr.mean()\n",
    "\n",
    "    # avg z^T z for every column z in arr\n",
    "    # if statement optimizes speed\n",
    "    trans = np.trace((arr @ arr.T if arr.shape[0] < arr.shape[1] else arr.T @ arr)) / arr.shape[1]\n",
    "\n",
    "    # avg z^H z for every column z in arr\n",
    "    herm = np.linalg.norm(arr, axis=0).mean()\n",
    "    \n",
    "    print(f\"E[z] = {exp_val} should be 0.\")\n",
    "    print(f\"E[z^T z] = {trans} should be 0.\")\n",
    "    print(f\"E[z^H z] = {herm} should be 1.\")"
   ]
  },
  {
   "cell_type": "code",
   "execution_count": 3,
   "metadata": {
    "colab": {
     "base_uri": "https://localhost:8080/"
    },
    "id": "110fc168",
    "outputId": "7f282307-2f3a-439f-915b-38442c431a16"
   },
   "outputs": [
    {
     "name": "stdout",
     "output_type": "stream",
     "text": [
      "E[z] = (2.8633120139797902e-05+0.00016382948479257993j) should be 0.\n",
      "E[z^T z] = (-0.0011180090355414314-0.0007353419101726742j) should be 0.\n",
      "E[z^H z] = 0.9394192775580593 should be 1.\n"
     ]
    }
   ],
   "source": [
    "vac = zpf(1000000, 2)\n",
    "check_expectations(vac)"
   ]
  },
  {
   "cell_type": "markdown",
   "metadata": {},
   "source": [
    "### test `threshold_detector` and `h_or_v_detector`"
   ]
  },
  {
   "cell_type": "code",
   "execution_count": 4,
   "metadata": {
    "colab": {
     "base_uri": "https://localhost:8080/"
    },
    "id": "9a4bf8d6",
    "outputId": "7218db8b-5b54-4e9e-ae64-8e06d1bbf3a9"
   },
   "outputs": [
    {
     "name": "stdout",
     "output_type": "stream",
     "text": [
      "[[False False  True False  True False False False False False False False\n",
      "  False False False False False False False False False False False False\n",
      "  False False False  True  True False False False  True False False False\n",
      "  False False False False  True False False False False False False False\n",
      "   True False False False False False  True False False False False False\n",
      "  False False False False False False  True False False False False False\n",
      "  False False False False False  True False False False  True False False\n",
      "  False  True False  True  True False False False False False False False\n",
      "   True False False False]\n",
      " [False False False False False False False False False  True False  True\n",
      "  False False False False False  True False False False False False False\n",
      "  False False False False False False False False False False False False\n",
      "  False False  True False False False False False False False False False\n",
      "   True  True False False False False False False  True False  True False\n",
      "  False False False False False False False False False False False False\n",
      "  False False False  True False False  True False False False False False\n",
      "  False False False False False False False False False False False False\n",
      "  False False False  True]]\n",
      "[False False  True False  True False False False False  True False  True\n",
      " False False False False False  True False False False False False False\n",
      " False False False  True  True False False False  True False False False\n",
      " False False  True False  True False False False False False False False\n",
      "  True  True False False False False  True False  True False  True False\n",
      " False False False False False False  True False False False False False\n",
      " False False False  True False  True  True False False  True False False\n",
      " False  True False  True  True False False False False False False False\n",
      "  True False False  True]\n"
     ]
    }
   ],
   "source": [
    "a = zpf(100,2)\n",
    "\n",
    "#print(a)\n",
    "\n",
    "td = threshold_detector(a, 1)\n",
    "print(td)\n",
    "\n",
    "hv = h_or_v_detector(a, 1)\n",
    "print(hv)\n",
    "\n",
    "td_any = td.any(axis=0)\n",
    "assert(np.array_equal(hv, td_any))"
   ]
  },
  {
   "cell_type": "markdown",
   "metadata": {},
   "source": [
    "### test `ent`, `zpf`, `pbs`, coincidence counters"
   ]
  },
  {
   "cell_type": "code",
   "execution_count": 5,
   "metadata": {
    "id": "f94b16e9"
   },
   "outputs": [],
   "source": [
    "l,r = ent(1000, 2)\n",
    "lzpf = zpf(1000, 2)\n",
    "rzpf = zpf(1000, 2)"
   ]
  },
  {
   "cell_type": "code",
   "execution_count": 6,
   "metadata": {
    "colab": {
     "base_uri": "https://localhost:8080/"
    },
    "id": "7befbe4e",
    "outputId": "b39afd4f-32cd-400c-bffe-8696f1ea20f8"
   },
   "outputs": [
    {
     "name": "stdout",
     "output_type": "stream",
     "text": [
      "0000 49\n",
      "0001 4\n",
      "0010 2\n",
      "0011 0\n",
      "0100 3\n",
      "0101 188\n",
      "0110 0\n",
      "0111 5\n",
      "1000 1\n",
      "1001 0\n",
      "1010 185\n",
      "1011 8\n",
      "1100 0\n",
      "1101 7\n",
      "1110 9\n",
      "1111 539\n"
     ]
    }
   ],
   "source": [
    "lt, lr = pbs(l, lzpf)\n",
    "rt, rr = pbs(r, rzpf)\n",
    "\n",
    "dlt, dlr, drt, drr = map(h_or_v_detector, (lt, lr, rt, rr))\n",
    "detections = np.array([dlt, dlr, drt, drr])\n",
    "\n",
    "coincidence_counts = get_all_coincidence_counts(detections)\n",
    "dlt_and_drt = sum([coincidence_counts[event] for event in [(1,0,1,0), (1,0,1,1), (1,1,1,0), (1,1,1,1)]])\n",
    "assert(get_coincidence_count(detections[[0,2],]) == dlt_and_drt)\n",
    "\n",
    "print_all_coincidence_counts(detections)\n"
   ]
  },
  {
   "cell_type": "markdown",
   "metadata": {},
   "source": [
    "### simple `ent` postselection experiment"
   ]
  },
  {
   "cell_type": "code",
   "execution_count": 7,
   "metadata": {},
   "outputs": [
    {
     "name": "stdout",
     "output_type": "stream",
     "text": [
      "[[-0.0093058 -0.52589498j -1.28620436+1.89691355j  0.78751332+0.68338853j\n",
      "  ...  1.02484768-0.49666285j -0.64288014+0.34369132j\n",
      "  -0.40085626+0.81904416j]\n",
      " [-0.26911165-0.6850772j   0.11302424+0.87535009j -0.23136797+1.48384871j\n",
      "  ...  0.6809255 +0.72503984j  0.96245823-1.63770204j\n",
      "  -0.56488513-0.32051958j]]\n",
      "[(True, False), (False, False), (True, True), (False, True)]\n",
      "59972 postselected trials out of 1000000\n",
      "[42084, 14263, 2742, 883]\n",
      "['10', '00', '11', '01']\n",
      "[0.7017274728206496, 0.23782765290468885, 0.045721336623757755, 0.014723537650903755]\n"
     ]
    },
    {
     "data": {
      "text/plain": [
       "<BarContainer object of 4 artists>"
      ]
     },
     "execution_count": 7,
     "metadata": {},
     "output_type": "execute_result"
    },
    {
     "data": {
      "image/png": "[encoded data removed]",
      "text/plain": [
       "<Figure size 800x550 with 1 Axes>"
      ]
     },
     "metadata": {},
     "output_type": "display_data"
    }
   ],
   "source": [
    "N = 1000000\n",
    "l_ent,r_ent = ent(N=N, r=1, t=1, phase=0)\n",
    "print(l_ent)\n",
    "l_ent = polarizer(l_ent, theta=0, phi=0)\n",
    "pbs_1,pbs_2 = pbs(r_ent)\n",
    "\n",
    "dl = threshold_detector(l_ent, gamma=2.3).any(axis=0)\n",
    "dr1 = threshold_detector(pbs_1, gamma=2.3).any(axis=0)\n",
    "dr2 = threshold_detector(pbs_2, gamma=2.3).any(axis=0)\n",
    "\n",
    "post_dr1 = dr1[dl]\n",
    "post_dr2 = dr2[dl]\n",
    "\n",
    "dets = np.block([[post_dr1],[post_dr2]])\n",
    "counts = get_all_coincidence_counts(dets)\n",
    "a = list(counts.keys())\n",
    "b = list(counts.values())\n",
    "\n",
    "labels = [''.join(('1' if det else '0') for det in tup) for tup in a]\n",
    "values = [i/sum(b) for i in b]\n",
    "\n",
    "print(a)\n",
    "print(f'{sum(b)} postselected trials out of {N}')\n",
    "print(b)\n",
    "print(labels)\n",
    "print(values)\n",
    "\n",
    "plt.bar(labels, values, width = 0.4)"
   ]
  },
  {
   "cell_type": "markdown",
   "metadata": {},
   "source": [
    "## QM Tests\n",
    "\n",
    "Tests are not currently comprehensive nor rigorous. Outputs need to be checked by eye.\n",
    "\n",
    "TESTS ARE ABLE TO RUN != CODE IS WORKING CORRECTLY"
   ]
  },
  {
   "cell_type": "markdown",
   "metadata": {},
   "source": [
    "### test `get_fock_basis_states`\n",
    "\n",
    "Takes a long time and eats up memory very quickly. The advantage of using `@cache` can be seen by running `get_fock_basis_states` twice in a row, or running it with smaller inputs after it finishes - after the first run, future calls are almost instantaneous."
   ]
  },
  {
   "cell_type": "code",
   "execution_count": 8,
   "metadata": {},
   "outputs": [],
   "source": [
    "num_src = 4\n",
    "n = 2*num_src\n",
    "m = 4*num_src\n",
    "assert(len(get_fock_basis_states(n, m)) == fock_dim(n,m))\n",
    "assert(len(get_antibunching_states(n,m)) == comb(m,n))"
   ]
  },
  {
   "cell_type": "markdown",
   "metadata": {},
   "source": [
    "### test `qr_haar` and `HilbertSpaceUnitary`"
   ]
  },
  {
   "cell_type": "code",
   "execution_count": 9,
   "metadata": {},
   "outputs": [
    {
     "name": "stdout",
     "output_type": "stream",
     "text": [
      "(1, 0, 0, 0, 0, 0, 0, 0, 0, 0, 0, 0, 0, 0, 0, 0, 0, 0, 0, 0, 0, 0, 0, 0, 0, 0, 0, 0, 0, 0, 0, 0, 0, 0, 0, 0, 0, 0, 0, 0, 0, 0, 0, 0, 0, 0, 0, 0, 0, 0, 0, 0, 0, 0, 0, 0, 0, 0, 0, 0, 0, 0, 0, 0, 0, 0, 0, 0, 0, 0, 0, 0, 0, 0, 0, 0, 0, 0, 0, 0, 0, 0, 0, 0, 0, 0, 0, 0, 0, 0, 0, 0, 0, 0, 0, 0, 0, 0, 0, 0)\n",
      "True\n",
      "0.026603593434756535\n",
      "0.026603593434756535\n"
     ]
    }
   ],
   "source": [
    "U = qr_haar(100) #np.array([[0, 1], [1, 0]], dtype=complex)\n",
    "\n",
    "#print(U)\n",
    "\n",
    "UH = HilbertSpaceUnitary(U, 1)\n",
    "\n",
    "zers = [0]*100\n",
    "zert = [0]*100\n",
    "\n",
    "zers[0] = 1\n",
    "zert[5] = 1\n",
    "\n",
    "zers = tuple(zers)\n",
    "zert = tuple(zert)\n",
    "\n",
    "print(zers)\n",
    "print(is_fock_basis_state(zers))\n",
    "\n",
    "print(abs(UH.get_entry(zers, zert))**2)\n",
    "print(abs(UH[zers, zert])**2)"
   ]
  },
  {
   "cell_type": "markdown",
   "metadata": {},
   "source": [
    "### test `get_hilbert_space_unitary_matrix`"
   ]
  },
  {
   "cell_type": "code",
   "execution_count": 10,
   "metadata": {
    "scrolled": true
   },
   "outputs": [
    {
     "name": "stdout",
     "output_type": "stream",
     "text": [
      "Hadamard with 1 photon, 2 modes:\n",
      "(1, 0):\t[0.71-0.j 0.71-0.j]\n",
      "(0, 1):\t[ 0.71-0.j -0.71+0.j]\n",
      "\n",
      "Hadamard with 2 photons, 2 modes:\n",
      "(0, 2):\t[ 0.5 +0.j -0.71+0.j  0.5 +0.j]\n",
      "(1, 1):\t[-0.71+0.j  0.  +0.j  0.71+0.j]\n",
      "(2, 0):\t[0.5 +0.j 0.71+0.j 0.5 +0.j]\n",
      "\n",
      "Haar random unitary with 1 photon, 6 modes:\n",
      "(1, 0, 0, 0, 0, 0):\t[ 0.27+0.09j -0.51-0.27j  0.15+0.13j -0.04-0.1j  -0.43-0.35j  0.06-0.47j]\n",
      "(0, 1, 0, 0, 0, 0):\t[-0.02+0.33j -0.56+0.17j -0.31+0.09j  0.05+0.43j -0.04-0.07j  0.14+0.49j]\n",
      "(0, 0, 1, 0, 0, 0):\t[-0.04+0.34j -0.02+0.25j -0.03-0.11j  0.36+0.12j  0.39-0.35j -0.52-0.35j]\n",
      "(0, 0, 0, 1, 0, 0):\t[-0.26-0.49j -0.2 +0.39j -0.07-0.j   -0.3 -0.22j  0.21-0.53j  0.15+0.02j]\n",
      "(0, 0, 0, 0, 1, 0):\t[ 0.42+0.03j  0.14+0.06j  0.59-0.02j -0.4 +0.44j  0.19-0.2j  -0.01+0.16j]\n",
      "(0, 0, 0, 0, 0, 1):\t[-0.37+0.28j -0.19+0.06j  0.64-0.29j  0.22-0.35j -0.04+0.j    0.15+0.25j]\n",
      "\n",
      "Haar random unitary with 2 photons, 6 modes:\n",
      "(0, 0, 0, 0, 0, 2):\t[-0.04+0.07j -0.01-0.01j  0.  -0.j   -0.01+0.02j  0.17+0.01j -0.07-0.15j\n",
      "  0.06-0.4j  -0.03+0.02j  0.24+0.17j  0.32-0.37j -0.15+0.13j -0.03+0.11j\n",
      "  0.01-0.j   -0.06-0.06j  0.03-0.02j  0.08-0.11j -0.21+0.41j  0.02+0.27j\n",
      "  0.02-0.02j -0.18-0.07j  0.06-0.21j]\n",
      "(0, 0, 0, 0, 1, 1):\t[-0.06+0.03j  0.08+0.01j -0.01+0.01j -0.01-0.13j -0.12+0.j    0.09+0.33j\n",
      " -0.  +0.19j  0.04-0.18j  0.13+0.25j  0.52-0.26j -0.01+0.03j  0.1 -0.14j\n",
      " -0.03+0.05j -0.  +0.01j -0.04-0.j   -0.15+0.03j  0.07+0.07j  0.12-0.41j\n",
      " -0.03+0.13j  0.01+0.05j -0.23+0.15j]\n",
      "(0, 0, 0, 0, 2, 0):\t[-0.02-0.j    0.04+0.05j -0.  -0.08j  0.02+0.24j -0.09-0.09j -0.04-0.35j\n",
      " -0.31+0.38j  0.15-0.17j -0.  +0.13j  0.34-0.03j  0.12+0.04j -0.11+0.05j\n",
      "  0.05-0.02j -0.01+0.03j  0.02+0.02j  0.08+0.04j  0.35+0.01j -0.25+0.24j\n",
      "  0.12-0.11j -0.01+0.09j  0.17+0.03j]\n",
      "(0, 0, 0, 1, 1, 0):\t[-0.01+0.03j  0.12+0.01j -0.09-0.21j  0.05+0.32j -0.03+0.01j  0.31-0.06j\n",
      " -0.15-0.15j  0.1 -0.3j   0.09-0.j   -0.06+0.j   -0.12+0.23j -0.12-0.29j\n",
      "  0.1 +0.06j -0.04-0.02j -0.07+0.06j -0.1 +0.07j -0.19-0.29j  0.21-0.02j\n",
      " -0.04-0.26j  0.14-0.02j -0.13-0.3j ]\n",
      "(0, 0, 0, 1, 0, 1):\t[ 0.02+0.06j  0.16-0.03j -0.01+0.03j -0.13-0.18j  0.05-0.15j -0.2 +0.08j\n",
      " -0.27-0.03j -0.02-0.4j   0.09-0.05j -0.07+0.03j  0.  +0.31j  0.16+0.18j\n",
      " -0.  +0.1j  -0.16+0.01j  0.02-0.12j  0.04-0.12j -0.28-0.26j -0.06-0.02j\n",
      "  0.08+0.27j  0.02-0.1j   0.33+0.15j]\n",
      "(0, 0, 0, 2, 0, 0):\t[ 0.02+0.01j  0.06-0.11j -0.24-0.23j -0.25+0.16j -0.06-0.06j  0.04+0.13j\n",
      "  0.03+0.02j -0.02+0.05j -0.02-0.j    0.01+0.j    0.02-0.04j  0.21-0.1j\n",
      "  0.24+0.27j -0.06+0.08j -0.12-0.16j  0.35-0.01j  0.02+0.05j -0.04+0.29j\n",
      " -0.45+0.05j -0.04-0.11j -0.18+0.26j]\n",
      "(0, 0, 1, 1, 0, 0):\t[-0.1 -0.09j -0.23+0.16j -0.15-0.4j  -0.05-0.15j  0.13+0.24j -0.11-0.16j\n",
      " -0.04+0.03j -0.1 +0.02j  0.04+0.01j  0.  +0.01j  0.05-0.01j -0.05+0.05j\n",
      "  0.19+0.29j  0.23-0.1j  -0.13-0.08j  0.01-0.14j -0.04+0.02j  0.05-0.3j\n",
      " -0.1 -0.01j -0.05+0.4j   0.25-0.1j ]\n",
      "(0, 0, 1, 0, 1, 0):\t[ 0.08-0.11j -0.12+0.1j   0.01-0.21j  0.09+0.27j  0.34-0.04j -0.28+0.16j\n",
      "  0.27+0.09j  0.19-0.23j -0.29-0.2j  -0.03-0.09j -0.01+0.13j -0.06-0.07j\n",
      "  0.12+0.03j -0.09-0.08j -0.03+0.05j -0.04+0.15j -0.02+0.15j  0.01-0.09j\n",
      "  0.24-0.06j -0.26-0.17j -0.04+0.2j ]\n",
      "(0, 0, 1, 0, 0, 1):\t[ 0.02-0.26j  0.17+0.06j -0.02+0.02j -0.05-0.22j -0.21+0.21j  0.17-0.14j\n",
      "  0.22-0.04j  0.15-0.33j -0.41-0.09j -0.07-0.09j  0.07+0.19j  0.01+0.06j\n",
      " -0.06+0.08j  0.05+0.07j -0.01-0.07j -0.07-0.17j  0.12+0.26j -0.06+0.14j\n",
      " -0.05+0.22j  0.2 +0.02j -0.11-0.19j]\n",
      "(0, 0, 2, 0, 0, 0):\t[ 0.15+0.36j -0.46+0.06j  0.03-0.27j  0.26-0.11j -0.2 -0.26j  0.11+0.09j\n",
      "  0.01-0.06j -0.07-0.05j -0.04+0.1j  -0.01+0.01j  0.04-0.01j -0.06+0.12j\n",
      "  0.11+0.15j  0.14-0.17j -0.06-0.01j -0.12-0.03j  0.06-0.01j -0.08+0.16j\n",
      "  0.15+0.21j  0.19-0.23j -0.11-0.03j]\n",
      "(0, 1, 1, 0, 0, 0):\t[ 0.14-0.43j  0.22+0.19j -0.05-0.02j  0.16+0.12j  0.12-0.05j -0.05+0.22j\n",
      " -0.07-0.02j -0.1 +0.15j  0.24+0.03j  0.03+0.05j  0.02-0.02j -0.33-0.j\n",
      " -0.14+0.25j  0.22+0.13j -0.04-0.21j -0.12-0.21j  0.02-0.11j -0.19+0.11j\n",
      "  0.13+0.13j -0.04-0.13j -0.15-0.03j]\n",
      "(0, 1, 0, 1, 0, 0):\t[ 0.01+0.11j  0.29+0.02j -0.06+0.01j  0.23+0.09j  0.06-0.11j  0.11-0.19j\n",
      "  0.11+0.01j -0.02+0.19j -0.06-0.03j  0.03-0.01j  0.07-0.15j  0.03+0.j\n",
      "  0.01+0.33j -0.31-0.03j  0.06-0.36j  0.11+0.15j  0.13+0.11j  0.28-0.23j\n",
      "  0.15+0.12j  0.19-0.15j  0.24-0.1j ]\n",
      "(0, 1, 0, 0, 1, 0):\t[-0.11+0.03j  0.14+0.06j -0.03-0.01j  0.14+0.08j -0.34-0.13j -0.29-0.21j\n",
      "  0.12+0.07j -0.07+0.04j  0.08+0.23j -0.26+0.08j -0.37+0.11j  0.13-0.26j\n",
      " -0.07+0.13j -0.03-0.01j -0.12-0.01j -0.26+0.1j  -0.14+0.22j -0.13+0.04j\n",
      "  0.05+0.04j -0.01+0.2j  -0.03+0.19j]\n",
      "(0, 1, 0, 0, 0, 1):\t[-0.14+0.15j  0.  -0.04j  0.  +0.j   -0.04-0.02j  0.1 +0.13j  0.22+0.11j\n",
      "  0.12+0.39j -0.03-0.04j  0.16+0.2j  -0.24+0.21j -0.25+0.24j -0.1 +0.15j\n",
      "  0.03+0.j   -0.18-0.2j   0.14-0.09j  0.14-0.28j  0.17+0.09j -0.03-0.06j\n",
      "  0.03+0.j   -0.27-0.1j  -0.12-0.18j]\n",
      "(0, 2, 0, 0, 0, 0):\t[-0.22+0.14j  0.04-0.04j -0.  +0.01j  0.04-0.03j -0.28+0.12j -0.18+0.04j\n",
      " -0.07-0.18j  0.03+0.02j -0.12-0.2j   0.09-0.06j  0.22-0.15j -0.14-0.32j\n",
      "  0.05+0.04j -0.23-0.35j  0.28-0.19j -0.06-0.26j -0.03-0.15j -0.2 +0.01j\n",
      "  0.03-0.02j -0.23+0.05j -0.11-0.02j]\n",
      "(1, 1, 0, 0, 0, 0):\t[ 0.33-0.05j  0.08-0.25j -0.01+0.06j  0.12-0.19j  0.24-0.03j  0.06-0.03j\n",
      " -0.03+0.1j   0.17+0.06j -0.02+0.24j -0.08-0.04j  0.08-0.01j  0.13-0.18j\n",
      "  0.3 +0.17j  0.11-0.02j  0.47+0.09j -0.06-0.16j -0.14+0.04j  0.01+0.11j\n",
      "  0.12-0.15j  0.15+0.17j -0.05+0.12j]\n",
      "(1, 0, 1, 0, 0, 0):\t[-0.28+0.31j -0.04+0.13j -0.41+0.02j -0.16-0.2j   0.06-0.09j -0.  -0.06j\n",
      "  0.03+0.07j  0.08+0.06j -0.09-0.12j  0.02-0.03j -0.05+0.1j  -0.12-0.17j\n",
      " -0.2 -0.03j  0.29+0.35j  0.12-0.17j  0.08-0.1j  -0.05+0.01j  0.12+0.05j\n",
      "  0.27-0.19j  0.05-0.1j  -0.06+0.12j]\n",
      "(1, 0, 0, 1, 0, 0):\t[ 0.03-0.1j  -0.29-0.19j -0.39+0.22j -0.01+0.2j  -0.12+0.11j -0.01+0.06j\n",
      " -0.01-0.07j  0.13-0.03j  0.01+0.06j -0.02-0.01j -0.05+0.06j  0.14+0.2j\n",
      " -0.03+0.12j  0.1 +0.06j  0.3 -0.21j -0.09+0.41j  0.01-0.12j -0.1 -0.04j\n",
      "  0.04+0.18j -0.21+0.11j -0.04-0.22j]\n",
      "(1, 0, 0, 0, 1, 0):\t[ 0.1 +0.02j -0.02-0.17j -0.22+0.03j  0.3 -0.06j  0.2 +0.21j  0.09+0.03j\n",
      " -0.15-0.04j -0.2 -0.2j   0.  -0.25j  0.13+0.11j -0.29-0.12j  0.33-0.14j\n",
      " -0.19-0.02j  0.08-0.14j -0.08-0.1j  -0.17-0.1j   0.22+0.1j  -0.16+0.04j\n",
      " -0.1 -0.2j   0.02-0.15j  0.15+0.06j]\n",
      "(1, 0, 0, 0, 0, 1):\t[ 0.18-0.07j  0.03-0.14j  0.03+0.02j -0.22+0.08j -0.13-0.15j -0.06-0.01j\n",
      "  0.02-0.08j -0.38-0.1j  -0.11-0.26j  0.19+0.06j -0.44-0.04j -0.19+0.13j\n",
      "  0.12+0.05j  0.01-0.08j  0.16+0.03j  0.21-0.05j  0.1 -0.03j  0.13-0.05j\n",
      "  0.25+0.01j  0.13+0.27j -0.17+0.06j]\n",
      "(2, 0, 0, 0, 0, 0):\t[-0.21-0.06j -0.27+0.25j  0.06+0.3j  -0.02+0.08j -0.07+0.02j -0.01+0.01j\n",
      "  0.01-0.03j -0.03-0.16j  0.1 -0.09j  0.01+0.04j -0.06-0.16j -0.01+0.09j\n",
      "  0.18+0.42j -0.22+0.31j  0.19+0.28j -0.16-0.17j  0.04+0.07j -0.  -0.04j\n",
      " -0.12-0.19j  0.08-0.17j  0.06+0.05j]\n",
      "\n"
     ]
    }
   ],
   "source": [
    "hadamard = np.array([[1, 1], [1, -1]]) / sqrt(2)\n",
    "\n",
    "print(\"Hadamard with 1 photon, 2 modes:\")\n",
    "hsu_had = get_hilbert_space_unitary_matrix(hadamard, 1, p=True) # p=True prints resulting unitary\n",
    "print()\n",
    "\n",
    "print(\"Hadamard with 2 photons, 2 modes:\")\n",
    "hsu_had = get_hilbert_space_unitary_matrix(hadamard, 2, p=True)\n",
    "print()\n",
    "\n",
    "m = 6\n",
    "U = qr_haar(m)\n",
    "\n",
    "print(f\"Haar random unitary with 1 photon, {m} modes:\")\n",
    "hsu_haar = get_hilbert_space_unitary_matrix(U, 1, p=True)\n",
    "print()\n",
    "\n",
    "print(f\"Haar random unitary with 2 photons, {m} modes:\")\n",
    "hsu_haar = get_hilbert_space_unitary_matrix(U, 2, p=True)\n",
    "print()"
   ]
  }
 ],
 "metadata": {
  "kernelspec": {
   "display_name": "Python 3 (ipykernel)",
   "language": "python",
   "name": "python3"
  },
  "language_info": {
   "codemirror_mode": {
    "name": "ipython",
    "version": 3
   },
   "file_extension": ".py",
   "mimetype": "text/x-python",
   "name": "python",
   "nbconvert_exporter": "python",
   "pygments_lexer": "ipython3",
   "version": "3.10.9"
  },
  "vscode": {
   "interpreter": {
    "hash": "eaba163e9a8852b62833323186c9b1ec3be888b762b728d20972db8b5137f3e8"
   }
  }
 },
 "nbformat": 4,
 "nbformat_minor": 2
}
