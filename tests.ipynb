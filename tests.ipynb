{
 "cells": [
  {
   "cell_type": "code",
   "execution_count": 1,
   "metadata": {},
   "outputs": [],
   "source": [
    "from ipynb.fs.full.gbs import *"
   ]
  },
  {
   "attachments": {},
   "cell_type": "markdown",
   "id": "49b6b2aa",
   "metadata": {
    "id": "49b6b2aa"
   },
   "source": [
    "## Stochastic Tests\n",
    "\n",
    "Tests are not currently comprehensive nor rigorous. Outputs need to be checked by eye.\n",
    "\n",
    "TESTS ARE ABLE TO RUN != CODE IS WORKING CORRECTLY"
   ]
  },
  {
   "attachments": {},
   "cell_type": "markdown",
   "id": "70a76826",
   "metadata": {},
   "source": [
    "### test `zpf`"
   ]
  },
  {
   "cell_type": "code",
   "execution_count": 2,
   "id": "53b5136e",
   "metadata": {
    "id": "53b5136e"
   },
   "outputs": [],
   "source": [
    "def check_expectations(arr: np.ndarray):\n",
    "    # avg z\n",
    "    exp_val = arr.mean()\n",
    "\n",
    "    # avg z^T z for every column z in arr\n",
    "    # if statement optimizes speed\n",
    "    trans = np.trace((arr @ arr.T if arr.shape[0] < arr.shape[1] else arr.T @ arr)) / arr.shape[1]\n",
    "\n",
    "    # avg z^H z for every column z in arr\n",
    "    herm = np.linalg.norm(arr, axis=0).mean()\n",
    "    \n",
    "    print(f\"E[z] = {exp_val} should be 0.\")\n",
    "    print(f\"E[z^T z] = {trans} should be 0.\")\n",
    "    print(f\"E[z^H z] = {herm} should be 1.\")"
   ]
  },
  {
   "cell_type": "code",
   "execution_count": 3,
   "id": "110fc168",
   "metadata": {
    "colab": {
     "base_uri": "https://localhost:8080/"
    },
    "id": "110fc168",
    "outputId": "7f282307-2f3a-439f-915b-38442c431a16"
   },
   "outputs": [
    {
     "name": "stdout",
     "output_type": "stream",
     "text": [
      "E[z] = (-3.256030296929916e-05+5.5304898914374974e-05j) should be 0.\n",
      "E[z^T z] = (0.0006073510769163261+0.0004888338996092957j) should be 0.\n",
      "E[z^H z] = 0.9399747118451505 should be 1.\n"
     ]
    }
   ],
   "source": [
    "vac = zpf(1000000, 2)\n",
    "check_expectations(vac)"
   ]
  },
  {
   "attachments": {},
   "cell_type": "markdown",
   "id": "4a93878e",
   "metadata": {},
   "source": [
    "### test `threshold_detector` and `h_or_v_detector`"
   ]
  },
  {
   "cell_type": "code",
   "execution_count": 4,
   "id": "9a4bf8d6",
   "metadata": {
    "colab": {
     "base_uri": "https://localhost:8080/"
    },
    "id": "9a4bf8d6",
    "outputId": "7218db8b-5b54-4e9e-ae64-8e06d1bbf3a9"
   },
   "outputs": [
    {
     "name": "stdout",
     "output_type": "stream",
     "text": [
      "[[ True  True  True False False  True False False False False False False\n",
      "  False False False False False False False False False False False False\n",
      "  False False False False False False False  True  True False False False\n",
      "   True False False False False  True False False False  True False False\n",
      "  False False False False  True  True False False False False  True  True\n",
      "  False False  True False  True  True False False False False False False\n",
      "  False False False False  True  True  True  True False False False False\n",
      "  False  True False False False False False False False False False False\n",
      "  False False False False]\n",
      " [False  True False False False False  True False False False False False\n",
      "  False False  True False  True False False False False False False False\n",
      "  False False False False False  True False False False False False False\n",
      "  False False False False False False False False False False False False\n",
      "  False  True  True False False False False False False  True False False\n",
      "  False False False False False False False False False False False False\n",
      "  False False False False False False False False False False  True False\n",
      "  False False False False False False False  True False False False False\n",
      "  False False False False]]\n",
      "[ True  True  True False False  True  True False False False False False\n",
      " False False  True False  True False False False False False False False\n",
      " False False False False False  True False  True  True False False False\n",
      "  True False False False False  True False False False  True False False\n",
      " False  True  True False  True  True False False False  True  True  True\n",
      " False False  True False  True  True False False False False False False\n",
      " False False False False  True  True  True  True False False  True False\n",
      " False  True False False False False False  True False False False False\n",
      " False False False False]\n"
     ]
    }
   ],
   "source": [
    "a = zpf(100,2)\n",
    "\n",
    "#print(a)\n",
    "\n",
    "td = threshold_detector(a, 1)\n",
    "print(td)\n",
    "\n",
    "hv = h_or_v_detector(a, 1)\n",
    "print(hv)\n",
    "\n",
    "td_any = td.any(axis=0)\n",
    "assert(np.array_equal(hv, td_any))"
   ]
  },
  {
   "attachments": {},
   "cell_type": "markdown",
   "id": "803a8807",
   "metadata": {},
   "source": [
    "### test `ent`, `zpf`, `pbs`, coincidence counters"
   ]
  },
  {
   "cell_type": "code",
   "execution_count": 5,
   "id": "f94b16e9",
   "metadata": {
    "id": "f94b16e9"
   },
   "outputs": [],
   "source": [
    "l,r = ent(1000, 2)\n",
    "lzpf = zpf(1000, 2)\n",
    "rzpf = zpf(1000, 2)"
   ]
  },
  {
   "cell_type": "code",
   "execution_count": 6,
   "id": "7befbe4e",
   "metadata": {
    "colab": {
     "base_uri": "https://localhost:8080/"
    },
    "id": "7befbe4e",
    "outputId": "b39afd4f-32cd-400c-bffe-8696f1ea20f8"
   },
   "outputs": [
    {
     "name": "stdout",
     "output_type": "stream",
     "text": [
      "0000 54\n",
      "0001 1\n",
      "0010 2\n",
      "0011 0\n",
      "0100 0\n",
      "0101 169\n",
      "0110 0\n",
      "0111 5\n",
      "1000 3\n",
      "1001 0\n",
      "1010 180\n",
      "1011 9\n",
      "1100 0\n",
      "1101 13\n",
      "1110 8\n",
      "1111 556\n"
     ]
    }
   ],
   "source": [
    "lt, lr = pbs(l, lzpf)\n",
    "rt, rr = pbs(r, rzpf)\n",
    "\n",
    "dlt, dlr, drt, drr = map(h_or_v_detector, (lt, lr, rt, rr))\n",
    "detections = np.array([dlt, dlr, drt, drr])\n",
    "\n",
    "coincidence_counts = get_all_coincidence_counts(detections)\n",
    "dlt_and_drt = sum([coincidence_counts[event] for event in [(1,0,1,0), (1,0,1,1), (1,1,1,0), (1,1,1,1)]])\n",
    "assert(get_coincidence_count(detections[[0,2],]) == dlt_and_drt)\n",
    "\n",
    "print_all_coincidence_counts(detections)\n"
   ]
  },
  {
   "attachments": {},
   "cell_type": "markdown",
   "id": "f8cd3367",
   "metadata": {},
   "source": [
    "## QM Tests\n",
    "\n",
    "Tests are not currently comprehensive nor rigorous. Outputs need to be checked by eye.\n",
    "\n",
    "TESTS ARE ABLE TO RUN != CODE IS WORKING CORRECTLY"
   ]
  },
  {
   "attachments": {},
   "cell_type": "markdown",
   "id": "e2b2abb9",
   "metadata": {},
   "source": [
    "### test `get_fock_basis_states`\n",
    "\n",
    "Takes a long time and eats up memory very quickly. The advantage of using `@cache` can be seen by running `get_fock_basis_states` twice in a row, or running it with smaller inputs after it finishes - after the first run, future calls are almost instantaneous."
   ]
  },
  {
   "cell_type": "code",
   "execution_count": 7,
   "id": "6459fb31",
   "metadata": {},
   "outputs": [],
   "source": [
    "# get_fock_basis_states(3,100)"
   ]
  },
  {
   "attachments": {},
   "cell_type": "markdown",
   "id": "ba51b231",
   "metadata": {},
   "source": [
    "### test `qr_haar` and `HilbertSpaceUnitary`"
   ]
  },
  {
   "cell_type": "code",
   "execution_count": 8,
   "id": "029c28cd",
   "metadata": {},
   "outputs": [
    {
     "name": "stdout",
     "output_type": "stream",
     "text": [
      "0.012103304420125418\n",
      "0.012103304420125418\n"
     ]
    }
   ],
   "source": [
    "U = qr_haar(100) #np.array([[0, 1], [1, 0]], dtype=complex)\n",
    "\n",
    "#print(U)\n",
    "\n",
    "UH = HilbertSpaceUnitary(U, 1)\n",
    "\n",
    "zers = np.zeros(100, dtype=int)\n",
    "zert = np.zeros(100, dtype=int)\n",
    "\n",
    "zers[0] = 1\n",
    "zert[0] = 1\n",
    "\n",
    "print(abs(UH.get_entry(zers, zert))**2)\n",
    "print(abs(UH[zers, zert])**2)"
   ]
  },
  {
   "attachments": {},
   "cell_type": "markdown",
   "id": "6828c88a",
   "metadata": {},
   "source": [
    "### test `get_hilbert_space_unitary_matrix`"
   ]
  },
  {
   "cell_type": "code",
   "execution_count": 9,
   "id": "2eb58498",
   "metadata": {},
   "outputs": [
    {
     "name": "stdout",
     "output_type": "stream",
     "text": [
      "Hadamard with 1 photon, 2 modes:\n",
      "[1 0]:\t[0.71-0.j 0.71-0.j]\n",
      "[0 1]:\t[ 0.71-0.j -0.71+0.j]\n",
      "\n",
      "Hadamard with 2 photons, 2 modes:\n",
      "[0 2]:\t[ 0.5 +0.j -0.71+0.j  0.5 +0.j]\n",
      "[1 1]:\t[-0.71+0.j  0.  +0.j  0.71+0.j]\n",
      "[2 0]:\t[0.5 +0.j 0.71+0.j 0.5 +0.j]\n",
      "\n",
      "Haar random unitary with 1 photon, 6 modes:\n",
      "[1 0 0 0 0 0]:\t[-0.07-0.35j  0.67+0.41j -0.08+0.09j  0.1 -0.09j  0.03+0.4j   0.22+0.15j]\n",
      "[0 1 0 0 0 0]:\t[ 0.32+0.25j  0.21-0.08j -0.03-0.03j  0.79+0.15j  0.04+0.07j -0.22-0.29j]\n",
      "[0 0 1 0 0 0]:\t[ 0.26-0.3j   0.25-0.04j  0.61-0.47j -0.19+0.06j -0.23-0.14j -0.09-0.26j]\n",
      "[0 0 0 1 0 0]:\t[-0.09-0.15j -0.01+0.24j  0.12-0.24j  0.19+0.19j  0.65-0.46j -0.06+0.36j]\n",
      "[0 0 0 0 1 0]:\t[-0.3 -0.62j -0.23-0.13j  0.18+0.44j  0.32+0.24j -0.19-0.11j -0.01-0.11j]\n",
      "[0 0 0 0 0 1]:\t[ 0.08+0.19j  0.2 -0.33j  0.27+0.14j  0.04+0.25j -0.28+0.08j -0.14+0.74j]\n",
      "\n",
      "Haar random unitary with 2 photons, 6 modes:\n",
      "[0 0 0 0 0 2]:\t[-0.53-0.2j  -0.03-0.3j   0.07-0.04j -0.04-0.09j -0.27-0.01j -0.06+0.02j\n",
      " -0.04+0.1j  -0.12-0.03j -0.2 +0.26j  0.05+0.08j  0.14-0.09j  0.13+0.05j\n",
      " -0.04+0.15j  0.31+0.27j -0.07-0.13j  0.11+0.02j -0.01+0.09j -0.06+0.04j\n",
      " -0.05-0.07j -0.22+0.04j -0.03+0.03j]\n",
      "[0 0 0 0 1 1]:\t[ 0.12+0.01j  0.12-0.1j   0.09+0.02j -0.09-0.09j -0.2 +0.2j  -0.07+0.12j\n",
      " -0.05+0.17j -0.12-0.17j -0.34+0.04j -0.02+0.21j  0.14-0.04j  0.17-0.12j\n",
      " -0.  +0.06j  0.09-0.17j -0.12+0.07j -0.26-0.07j -0.06-0.14j  0.12-0.02j\n",
      "  0.14+0.1j   0.52-0.15j  0.13-0.15j]\n",
      "[0 0 0 0 2 0]:\t[-0.01+0.j   -0.02+0.03j  0.02+0.04j -0.05-0.12j  0.03-0.05j  0.04+0.16j\n",
      " -0.07+0.26j  0.02-0.15j  0.07-0.03j -0.16+0.16j  0.02-0.18j -0.06-0.14j\n",
      "  0.04+0.07j -0.02+0.04j  0.04+0.06j -0.01+0.26j  0.31-0.35j  0.07-0.39j\n",
      " -0.02+0.22j -0.09+0.06j -0.29+0.38j]\n",
      "[0 0 0 1 1 0]:\t[ 0.06+0.01j -0.  -0.13j -0.25+0.02j  0.31-0.05j -0.09+0.08j  0.02+0.15j\n",
      "  0.05+0.07j  0.27+0.24j -0.2 +0.02j  0.18+0.01j -0.17+0.08j -0.08+0.j\n",
      " -0.18-0.02j  0.09-0.08j  0.05-0.08j  0.15-0.02j -0.14-0.07j  0.07-0.25j\n",
      " -0.48-0.23j  0.23-0.06j -0.09+0.14j]\n",
      "[0 0 0 1 0 1]:\t[-0.37-0.14j  0.24+0.44j -0.2 +0.25j  0.07+0.11j -0.26+0.11j -0.06+0.08j\n",
      "  0.09+0.1j   0.23+0.05j  0.09+0.21j  0.09-0.07j -0.09-0.02j  0.04-0.02j\n",
      " -0.04-0.37j -0.07+0.05j  0.11+0.07j -0.11+0.02j  0.05-0.05j  0.01+0.02j\n",
      "  0.17+0.12j  0.05-0.03j  0.03-0.04j]\n",
      "[0 0 0 2 0 0]:\t[-0.13-0.05j  0.17+0.38j  0.21-0.59j  0.3 +0.05j -0.12+0.08j -0.  +0.07j\n",
      "  0.1 -0.03j -0.04-0.3j   0.11+0.08j -0.04-0.06j  0.08+0.04j -0.07+0.06j\n",
      "  0.15+0.22j -0.12-0.03j -0.06-0.j    0.05-0.03j -0.07+0.01j  0.01-0.07j\n",
      " -0.18-0.07j  0.08-0.03j -0.01+0.03j]\n",
      "[0 0 1 1 0 0]:\t[ 0.14-0.02j -0.11-0.2j  -0.3 +0.01j -0.11+0.06j  0.02-0.14j -0.07-0.04j\n",
      "  0.2 +0.08j  0.12-0.54j  0.06+0.24j -0.06-0.29j  0.13+0.08j  0.04-0.j\n",
      "  0.18-0.19j  0.06+0.07j  0.01+0.08j  0.04+0.03j -0.17-0.14j  0.14+0.01j\n",
      "  0.03-0.27j  0.06+0.15j -0.1 -0.01j]\n",
      "[0 0 1 0 1 0]:\t[-0.04+0.02j -0.03+0.09j  0.04+0.08j  0.01-0.09j  0.04-0.09j -0.11-0.04j\n",
      "  0.25-0.07j -0.15-0.11j  0.04-0.15j  0.45+0.26j -0.14+0.13j  0.14+0.06j\n",
      " -0.02+0.04j -0.02+0.04j -0.09-0.03j -0.2 -0.11j -0.3 -0.17j  0.25+0.07j\n",
      " -0.1 +0.21j -0.17+0.11j -0.37-0.1j ]\n",
      "[0 0 1 0 0 1]:\t[ 0.29-0.05j  0.18-0.08j  0.1 +0.03j  0.07-0.09j  0.04-0.18j -0.03-0.06j\n",
      "  0.08+0.12j -0.17+0.11j  0.28+0.43j  0.33-0.05j  0.04-0.27j  0.  +0.14j\n",
      " -0.16+0.08j -0.11+0.17j  0.05-0.13j -0.02-0.1j   0.25+0.04j  0.06+0.02j\n",
      " -0.04+0.05j  0.23+0.2j   0.11+0.04j]\n",
      "[0 0 2 0 0 0]:\t[-0.06+0.05j -0.02+0.1j   0.03+0.06j  0.07+0.02j  0.05+0.06j  0.03-0.02j\n",
      " -0.12+0.18j -0.29+0.03j -0.25-0.17j  0.15-0.57j  0.19-0.2j  -0.06+0.03j\n",
      " -0.09-0.04j -0.05-0.09j  0.06-0.02j  0.08-0.12j  0.03-0.43j -0.04+0.1j\n",
      " -0.14+0.04j -0.14-0.06j -0.02-0.16j]\n",
      "[0 1 1 0 0 0]:\t[-0.08+0.12j  0.02+0.08j  0.  -0.03j -0.17-0.16j  0.03-0.18j -0.22+0.03j\n",
      "  0.56-0.27j  0.06+0.03j -0.28-0.07j -0.04-0.01j  0.08-0.16j  0.17+0.04j\n",
      " -0.05+0.j   -0.11-0.11j  0.07-0.04j  0.12-0.04j  0.29+0.j    0.17-0.23j\n",
      " -0.01-0.1j  -0.11-0.12j  0.22-0.04j]\n",
      "[0 1 0 1 0 0]:\t[ 0.17-0.09j -0.3 -0.08j  0.08+0.04j  0.57-0.24j -0.09+0.18j  0.17+0.26j\n",
      "  0.13-0.18j -0.01-0.01j -0.08+0.01j -0.01+0.j    0.01-0.07j  0.02+0.21j\n",
      "  0.08-0.14j  0.09+0.03j  0.03+0.07j -0.09+0.05j  0.1 -0.04j -0.04-0.02j\n",
      "  0.33+0.j   -0.13+0.16j  0.01-0.1j ]\n",
      "[0 1 0 0 1 0]:\t[-0.04+0.04j  0.02+0.08j -0.  -0.03j -0.14-0.09j  0.01-0.24j  0.31+0.34j\n",
      "  0.08+0.36j -0.02+0.04j  0.09-0.15j  0.01-0.02j  0.08+0.09j -0.08-0.11j\n",
      " -0.05-0.03j  0.  +0.07j -0.09-0.01j -0.16-0.21j -0.06+0.21j -0.11-0.38j\n",
      " -0.  -0.13j -0.09+0.19j  0.08-0.39j]\n",
      "[0 1 0 0 0 1]:\t[ 0.35-0.17j  0.03+0.08j -0.02-0.02j -0.24+0.04j -0.15+0.5j  -0.01+0.28j\n",
      "  0.2 +0.14j  0.01+0.03j  0.01-0.13j -0.  -0.02j  0.05+0.01j  0.23-0.18j\n",
      " -0.02+0.04j -0.11+0.19j  0.02-0.12j  0.18-0.02j  0.05+0.11j -0.02+0.25j\n",
      " -0.12-0.03j -0.19+0.14j -0.03+0.11j]\n",
      "[0 2 0 0 0 0]:\t[-0.04+0.13j  0.02-0.04j -0.  +0.01j  0.03+0.09j -0.18-0.37j  0.6 +0.23j\n",
      " -0.02-0.04j  0.  -0.j   -0.  +0.02j -0.  +0.j   -0.01-0.01j  0.26-0.05j\n",
      "  0.02+0.02j -0.1 -0.06j  0.04-0.04j  0.13+0.04j -0.  -0.02j  0.3 +0.34j\n",
      " -0.01+0.05j  0.  -0.21j  0.04+0.16j]\n",
      "[1 1 0 0 0 0]:\t[-0.  -0.14j  0.11-0.07j -0.04+0.03j -0.02+0.32j  0.1 +0.14j  0.13-0.08j\n",
      " -0.08+0.06j  0.  -0.01j  0.04-0.01j  0.01-0.j   -0.01-0.01j  0.48+0.39j\n",
      "  0.04+0.15j  0.03-0.27j  0.25+0.04j  0.07+0.23j -0.06+0.02j  0.05-0.29j\n",
      " -0.07+0.11j -0.06+0.2j   0.09-0.19j]\n",
      "[1 0 1 0 0 0]:\t[ 0.03-0.1j   0.07-0.11j  0.07-0.13j -0.07-0.07j -0.08-0.03j -0.02+0.03j\n",
      "  0.03-0.13j  0.24+0.22j  0.23+0.j   -0.01+0.13j  0.58-0.04j -0.13-0.06j\n",
      " -0.07-0.09j  0.11-0.18j  0.26+0.11j  0.26-0.18j -0.2 -0.13j  0.03+0.01j\n",
      "  0.09+0.18j  0.02+0.03j -0.18-0.1j ]\n",
      "[1 0 0 1 0 0]:\t[-0.1 +0.1j   0.06-0.02j  0.29+0.34j -0.05-0.02j  0.04+0.11j  0.05+0.j\n",
      " -0.04-0.03j  0.09+0.13j  0.04-0.07j  0.02+0.04j  0.16-0.13j  0.07+0.23j\n",
      "  0.52-0.03j -0.23+0.27j -0.14+0.22j  0.08-0.15j -0.07-0.02j  0.03-0.09j\n",
      " -0.15-0.24j  0.13-0.05j -0.06+0.06j]\n",
      "[1 0 0 0 1 0]:\t[ 0.02-0.04j  0.02-0.06j  0.06-0.11j -0.12+0.14j  0.02+0.09j  0.08-0.01j\n",
      "  0.01+0.04j -0.14+0.08j -0.02+0.13j -0.08-0.03j -0.03+0.36j  0.08+0.3j\n",
      " -0.04-0.25j  0.01-0.14j -0.14-0.25j  0.02-0.44j  0.22-0.08j -0.03-0.17j\n",
      "  0.21-0.06j -0.01-0.17j -0.28+0.22j]\n",
      "[1 0 0 0 0 1]:\t[-0.2 +0.2j  -0.37-0.05j -0.06-0.15j -0.12+0.06j  0.03+0.15j  0.04+0.03j\n",
      "  0.02-0.03j -0.03+0.08j -0.02+0.j   -0.05+0.02j  0.14+0.25j -0.09+0.13j\n",
      " -0.08+0.01j -0.3 +0.4j   0.37-0.2j  -0.16+0.11j  0.01-0.11j  0.11-0.02j\n",
      " -0.02+0.13j  0.26+0.05j  0.09-0.06j]\n",
      "[2 0 0 0 0 0]:\t[ 0.02+0.07j -0.08+0.13j -0.16+0.03j  0.06+0.05j  0.05-0.01j  0.  -0.02j\n",
      "  0.  +0.02j -0.05-0.04j -0.04+0.01j -0.  -0.01j -0.13+0.04j  0.15-0.03j\n",
      " -0.2 +0.39j  0.12+0.27j  0.28+0.54j  0.13-0.37j  0.05+0.03j -0.06-0.04j\n",
      "  0.2 -0.06j  0.05-0.12j -0.12+0.05j]\n",
      "\n"
     ]
    }
   ],
   "source": [
    "hadamard = np.array([[1, 1], [1, -1]]) / sqrt(2)\n",
    "\n",
    "print(\"Hadamard with 1 photon, 2 modes:\")\n",
    "hsu_had = get_hilbert_space_unitary_matrix(hadamard, 1, p=True) # p=True prints resulting unitary\n",
    "print()\n",
    "\n",
    "print(\"Hadamard with 2 photons, 2 modes:\")\n",
    "hsu_had = get_hilbert_space_unitary_matrix(hadamard, 2, p=True)\n",
    "print()\n",
    "\n",
    "m = 6\n",
    "U = qr_haar(m)\n",
    "\n",
    "print(f\"Haar random unitary with 1 photon, {m} modes:\")\n",
    "hsu_haar = get_hilbert_space_unitary_matrix(U, 1, p=True)\n",
    "print()\n",
    "\n",
    "print(f\"Haar random unitary with 2 photons, {m} modes:\")\n",
    "hsu_haar = get_hilbert_space_unitary_matrix(U, 2, p=True)\n",
    "print()"
   ]
  }
 ],
 "metadata": {
  "kernelspec": {
   "display_name": "ronakr",
   "language": "python",
   "name": "python3"
  },
  "language_info": {
   "codemirror_mode": {
    "name": "ipython",
    "version": 3
   },
   "file_extension": ".py",
   "mimetype": "text/x-python",
   "name": "python",
   "nbconvert_exporter": "python",
   "pygments_lexer": "ipython3",
   "version": "3.10.4"
  },
  "orig_nbformat": 4,
  "vscode": {
   "interpreter": {
    "hash": "eaba163e9a8852b62833323186c9b1ec3be888b762b728d20972db8b5137f3e8"
   }
  }
 },
 "nbformat": 4,
 "nbformat_minor": 2
}
