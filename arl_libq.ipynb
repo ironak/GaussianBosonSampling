{
 "cells": [
  {
   "cell_type": "code",
   "execution_count": 1,
   "id": "5148d780",
   "metadata": {
    "id": "5148d780"
   },
   "outputs": [
    {
     "name": "stderr",
     "output_type": "stream",
     "text": [
      "/tmp/ipykernel_923499/2091638068.py:19: MatplotlibDeprecationWarning: The seaborn styles shipped by Matplotlib are deprecated since 3.6, as they no longer correspond to the styles shipped by seaborn. However, they will remain available as 'seaborn-v0_8-<style>'. Alternatively, directly use the seaborn API instead.\n",
      "  plt.style.use('seaborn')\n"
     ]
    }
   ],
   "source": [
    "from functools import cache\n",
    "from collections import defaultdict\n",
    "from collections import Counter\n",
    "from typing import Tuple # TODO: See pbs. Should we add type annotations?\n",
    "\n",
    "import math\n",
    "import numpy as np\n",
    "from numpy import sqrt, exp, cos, sin, cosh, sinh, conj\n",
    "from numpy.polynomial import Polynomial as P\n",
    "from scipy.optimize import minimize\n",
    "from scipy.special import factorial, comb\n",
    "from scipy.stats import chisquare\n",
    "from permanent import permanent\n",
    "\n",
    "import matplotlib.pyplot as plt\n",
    "import mpl_scatter_density  # noqa\n",
    "from matplotlib.offsetbox import AnchoredText\n",
    "\n",
    "plt.style.use('seaborn')"
   ]
  },
  {
   "cell_type": "markdown",
   "id": "3a67b235",
   "metadata": {},
   "source": [
    "# Notes\n",
    "\n",
    "#### This is some convention used in the code below for variable names:\n",
    "\n",
    "`gamma` = measurement threshold\n",
    "\n",
    "`r` = squeezing strength\n",
    "\n",
    "`N` = number of samples\n",
    "\n",
    "`n` = number of particles\n",
    "\n",
    "`m` = number of modes\n",
    "\n",
    "`M` = dimension of Bosonic Hilbert space; $M := \\binom{n + m - 1}{n}$\n",
    "\n",
    "Most matrices are `m` x `N`, meaning that there is a row for each mode, and each column is one sample.\n",
    "\n",
    "#### Section headers follow the following indentation:\n",
    "\n",
    "\\# Main Section Header\n",
    "\n",
    "\\#\\# Subsection Header\n",
    "\n",
    "\\#\\#\\# Large group of related functions/code/markdown\n",
    "\n",
    "\\#\\#\\#\\# Single function or tightly related code/markdown blocks"
   ]
  },
  {
   "cell_type": "markdown",
   "id": "nfawh-cLk0Jy",
   "metadata": {
    "id": "nfawh-cLk0Jy"
   },
   "source": [
    "# Simulation Model: Threshold Detectors and Squeezed States"
   ]
  },
  {
   "cell_type": "markdown",
   "id": "a3e53f2a",
   "metadata": {
    "id": "a3e53f2a"
   },
   "source": [
    "### Measurement\n",
    "\n",
    "Detectors take in matrices of `N` samples and return boolean arrays of detection events. "
   ]
  },
  {
   "cell_type": "code",
   "execution_count": 2,
   "id": "59d460c9",
   "metadata": {
    "id": "59d460c9"
   },
   "outputs": [],
   "source": [
    "DEFAULT_MEAS_THRESH = 1.9494"
   ]
  },
  {
   "cell_type": "markdown",
   "id": "801b7524",
   "metadata": {},
   "source": [
    "#### `threshold_detector`\n",
    "Standard many-mode threshold detector. Imagines every mode has its own detector which independently clicks if the amplitude on that mode exceeds the measurement threshold."
   ]
  },
  {
   "cell_type": "code",
   "execution_count": 3,
   "id": "23e4a345",
   "metadata": {},
   "outputs": [],
   "source": [
    "def threshold_detector(a, gamma=DEFAULT_MEAS_THRESH):\n",
    "    '''Clicks if an amplitude exceeds measurement threshold.\n",
    "    a : m x N complex matrix = [a_11 ... a_1N; ...; a_m1 ... a_mN]\n",
    "        Each column is a sample with m components (modes)\n",
    "    gamma : double = measurement threshold\n",
    "    output : m x N bool array = [b_11 ... b_1N; ...; b_m1 ... b_mN]\n",
    "        b_ij := (a_ij > gamma)'''\n",
    "\n",
    "    return abs(a) > gamma"
   ]
  },
  {
   "cell_type": "markdown",
   "id": "Lf1SDG7zoyC5",
   "metadata": {
    "id": "Lf1SDG7zoyC5"
   },
   "source": [
    "#### `h_or_v_detector`\n",
    "\n",
    "Effectively the same as `threshold_detector(a, gamma).any(axis=0)` limited to matrices with two rows."
   ]
  },
  {
   "cell_type": "code",
   "execution_count": 4,
   "id": "8db9421a",
   "metadata": {
    "id": "8db9421a"
   },
   "outputs": [],
   "source": [
    "def h_or_v_detector(a: np.ndarray, gamma=DEFAULT_MEAS_THRESH):\n",
    "    '''Clicks if horizontal or vertical polarization component of sample exceeds measurement threshold.\n",
    "    a : 2 x N complex matrix = [h_1 ... h_n; v_1 ... v_n]\n",
    "        Each column is a sample [h_i; v_i] with a horizontal and vertical polarization component\n",
    "    gamma : double = measurement threshold\n",
    "    output : 1 x N bool array = [b_1 ... b_n]\n",
    "        b_i := (|h_i| > gamma) or (|v_i| > gamma)'''\n",
    "        \n",
    "    if a.shape[0] != 2:\n",
    "        raise ValueError(\"Sample array 'a' must have 2 rows.\")\n",
    "\n",
    "    return np.bitwise_or(abs(a[0,:]) > gamma, abs(a[1,:]) > gamma)"
   ]
  },
  {
   "cell_type": "markdown",
   "id": "OSaIm3Qlo282",
   "metadata": {
    "id": "OSaIm3Qlo282"
   },
   "source": [
    "#### `norm_detector`\n",
    "\n",
    "Not currently used anywhere."
   ]
  },
  {
   "cell_type": "code",
   "execution_count": 5,
   "id": "jjGiGNtnD-g0",
   "metadata": {
    "id": "jjGiGNtnD-g0"
   },
   "outputs": [],
   "source": [
    "def norm_detector(a: np.ndarray, gamma=DEFAULT_MEAS_THRESH):\n",
    "    '''Clicks if norm of sample exceeds measurement threshold.\n",
    "    a : m x N complex matrix = [s_1 ... s_N]\n",
    "        Each column is a sample s_i with m components (modes)\n",
    "    gamma : double = measurement threshold\n",
    "    output : 1 x N bool array = [b_1 ... b_n]\n",
    "        b_i := (||s_i|| > gamma)'''\n",
    "    return np.linalg.norm(a, axis=1) > gamma"
   ]
  },
  {
   "cell_type": "markdown",
   "id": "8V3gOYK0pGMd",
   "metadata": {
    "id": "8V3gOYK0pGMd"
   },
   "source": [
    "#### `get_coincidence_count`"
   ]
  },
  {
   "cell_type": "code",
   "execution_count": 6,
   "id": "09b86e5f",
   "metadata": {
    "id": "09b86e5f"
   },
   "outputs": [],
   "source": [
    "def get_coincidence_count(detections: np.ndarray):\n",
    "    '''Returns the number of times all provided detectors simultanously clicked.\n",
    "    detections : m x N bool matrix\n",
    "    output : int = number of all-one columns in detections matrix'''\n",
    "    return np.count_nonzero(np.sum(detections, axis=0) == detections.shape[0])"
   ]
  },
  {
   "cell_type": "markdown",
   "id": "KJZleISXpLmv",
   "metadata": {
    "id": "KJZleISXpLmv"
   },
   "source": [
    "#### `get_all_coincidence_counts`"
   ]
  },
  {
   "cell_type": "code",
   "execution_count": 7,
   "id": "840861eb",
   "metadata": {
    "id": "840861eb"
   },
   "outputs": [],
   "source": [
    "def get_all_coincidence_counts(detections: np.ndarray):\n",
    "    '''Counts the number of times every possible detection event occurs\n",
    "    A detection event is a bitstring with 1's at the indices of all detectors that \n",
    "    clicked and 0's at the indices of all detectors which did not.\n",
    "    Returns a Counter object with detection events (as tuples) mapped to counts.\n",
    "    Counters behave like dicts.\n",
    "    detections : m x N bool matrix\n",
    "    output : Dict[tuple, int] \n",
    "        Example: if output[(1,0,0)] == 21, then the event (1,0,0), aka\n",
    "        \"only the detector on mode 0 clicked,\" happened 21 times.'''\n",
    "    return Counter(map(tuple, detections.T))"
   ]
  },
  {
   "cell_type": "markdown",
   "id": "4rRCS2D5pOfs",
   "metadata": {
    "id": "4rRCS2D5pOfs"
   },
   "source": [
    "#### `print_all_coincidence_counts`\n",
    "\n",
    "Exponential runtime in m, the number of modes. Linear runtime in N, the number of samples. \n",
    "\n",
    "Should only be used on inputs with few modes. Can be used when there are many samples."
   ]
  },
  {
   "cell_type": "code",
   "execution_count": 8,
   "id": "e16c2929",
   "metadata": {
    "id": "e16c2929"
   },
   "outputs": [],
   "source": [
    "def print_all_coincidence_counts(detections: np.ndarray):\n",
    "    coincidence_counts = get_all_coincidence_counts(detections)\n",
    "    m = detections.shape[0]\n",
    "    for i in range(2**m):\n",
    "        bitvector = np.frombuffer(np.binary_repr(i, width=m).encode(), dtype='S1').astype(int)\n",
    "        detectors = np.binary_repr(i, width=m) # ', '.join(np.flatnonzero(bitvector).astype(str))\n",
    "        print(detectors, coincidence_counts[tuple(bitvector)])"
   ]
  },
  {
   "cell_type": "markdown",
   "id": "ec4e579d",
   "metadata": {},
   "source": [
    "#### `trials_with_outcome`"
   ]
  },
  {
   "cell_type": "code",
   "execution_count": 9,
   "id": "3f0770e7",
   "metadata": {},
   "outputs": [],
   "source": [
    "def trials_with_outcome(outcome_tup, detections):\n",
    "    '''Returns a 1 x N boolean array which is true at \n",
    "    index i iff the ith column of detections equals outcome.\n",
    "    Caution: only works on antibunching states (boolean valued Fock states)\n",
    "    outcome_tup : m x 1 bool tuple\n",
    "    detections : m x N bool matrix\n",
    "    output : 1 x N bool row vector\n",
    "        true at index i iff the ith column of detections equals outcome'''\n",
    "    outcome = np.array([outcome_tup], dtype=bool).T\n",
    "    return np.all(np.logical_not(np.logical_xor(detections, outcome)), axis=0)"
   ]
  },
  {
   "cell_type": "markdown",
   "id": "b655ebe7",
   "metadata": {},
   "source": [
    "#### `trials_with_outcome_in`"
   ]
  },
  {
   "cell_type": "code",
   "execution_count": 10,
   "id": "2223a851",
   "metadata": {},
   "outputs": [],
   "source": [
    "def trials_with_outcome_in(outcomes, detections):\n",
    "    '''Returns a 1 x N boolean array which is true at \n",
    "    index i iff the ith column of detections equals outcome.\n",
    "    outcomes : list of m x 1 bool column vectors\n",
    "    detections : m x N bool matrix\n",
    "    output : 1 x N bool row vector\n",
    "        true at index i iff the ith column of detections is in outcomes'''\n",
    "    prev = np.zeros(detections.shape[0], dtype=bool)\n",
    "    for outcome in outcomes:\n",
    "        matching_trials = trials_with_outcome(outcome, detections)\n",
    "        prev = np.logical_or(prev, matching_trials)\n",
    "    return prev"
   ]
  },
  {
   "cell_type": "markdown",
   "id": "8031e6a0",
   "metadata": {
    "id": "8031e6a0"
   },
   "source": [
    "### State Preparation"
   ]
  },
  {
   "cell_type": "markdown",
   "id": "9nZg9_56oEK9",
   "metadata": {
    "id": "9nZg9_56oEK9"
   },
   "source": [
    "#### `zpf`"
   ]
  },
  {
   "cell_type": "code",
   "execution_count": 11,
   "id": "9f267328",
   "metadata": {
    "id": "9f267328"
   },
   "outputs": [],
   "source": [
    "def zpf(N: int, m=1, sigma=1/sqrt(2)):\n",
    "    '''Zero-point field\n",
    "    N is the number of samples\n",
    "    m is the number of modes\n",
    "    sigma is the standard deviation of the quantum noise\n",
    "    sigma = 1/sqrt(2) corresponds to the vacuum state\n",
    "    sigma > 1/sqrt(2) corresponds to a thermal state\n",
    "    sigma = 0 corresponds to a classical (i.e., no ZPF) state\n",
    "    \n",
    "    Returns an m x N matrix of complex Gaussian random variables.'''\n",
    "    \n",
    "    return sigma * (np.random.normal(size=(m,N)) + 1j * np.random.normal(size=(m,N))) / sqrt(2)"
   ]
  },
  {
   "cell_type": "markdown",
   "id": "9bf7e215",
   "metadata": {},
   "source": [
    "#### `squeezed_zpf`"
   ]
  },
  {
   "cell_type": "code",
   "execution_count": 12,
   "id": "64548aaa",
   "metadata": {},
   "outputs": [],
   "source": [
    "def squeezed_zpf(N: int, m=1, sigma=1/sqrt(2), r=1):\n",
    "    '''Zero-point field\n",
    "    N is the number of samples\n",
    "    m is the number of modes\n",
    "    sigma is the standard deviation of the quantum noise\n",
    "    sigma = 1/sqrt(2) corresponds to the vacuum state\n",
    "    sigma > 1/sqrt(2) corresponds to a thermal state\n",
    "    sigma = 0 corresponds to a classical (i.e., no ZPF) state\n",
    "    \n",
    "    Returns an m x N matrix of complex Gaussian random variables.'''\n",
    "    \n",
    "    a = zpf(N, m, sigma)\n",
    "    squeezed = cosh(r) * a + sinh(r) * conj(a)\n",
    "    return squeezed"
   ]
  },
  {
   "cell_type": "markdown",
   "id": "19a6362e",
   "metadata": {},
   "source": [
    "#### `coherent`"
   ]
  },
  {
   "cell_type": "code",
   "execution_count": 13,
   "id": "eb93cfc8",
   "metadata": {},
   "outputs": [],
   "source": [
    "def coherent(N: int, m=1, alpha=0):\n",
    "    return alpha + zpf(N, m)"
   ]
  },
  {
   "cell_type": "markdown",
   "id": "TucKgY0toRYB",
   "metadata": {
    "id": "TucKgY0toRYB"
   },
   "source": [
    "#### `laser`"
   ]
  },
  {
   "cell_type": "code",
   "execution_count": 14,
   "id": "4e6fa483",
   "metadata": {
    "id": "4e6fa483"
   },
   "outputs": [],
   "source": [
    "def laser(N: int, alphaH=1, alphaV=0):\n",
    "    '''Laser\n",
    "    alphaH and alphaV are each complex numbers\n",
    "    \n",
    "    Returns a 2 x N matrix of N samples of coherent light.\n",
    "        Each sample has a horizontal and vertical polarization component.\n",
    "        The output is identical to a zpf with the horizontal component\n",
    "        offset by alphaH and the vertical component offset by alphaV.'''\n",
    "\n",
    "    # scale of vacuum fluctations\n",
    "    sigma0 = 1/sqrt(2)\n",
    "\n",
    "    # input random variables for the entanglement source\n",
    "    zH = zpf(N, 1, sigma0)\n",
    "    zV = zpf(N, 1, sigma0)\n",
    "\n",
    "    aH = alphaH + zH\n",
    "    aV = alphaV + zV\n",
    "\n",
    "    return np.concatenate((aH, aV))"
   ]
  },
  {
   "cell_type": "markdown",
   "id": "JQAvDOFfoS55",
   "metadata": {
    "id": "JQAvDOFfoS55"
   },
   "source": [
    "#### `ent`"
   ]
  },
  {
   "cell_type": "code",
   "execution_count": 15,
   "id": "a77e3ac5",
   "metadata": {
    "id": "a77e3ac5"
   },
   "outputs": [],
   "source": [
    "def ent(N: int, r: float, t=1, phase=0):\n",
    "    '''Entanglement source\n",
    "    N is the number of samples\n",
    "    r is the squeezing strength (non-negative)\n",
    "    t (type) is 1 or 2\n",
    "    phase is in degrees.\n",
    "    \n",
    "    Returns a tuple of two 2 x N matrices representing entangled\n",
    "        light with horizonal and vertical polarization modes.'''\n",
    "\n",
    "    # convert degrees to radians\n",
    "    phase = phase * np.pi/180\n",
    "    \n",
    "    #input random variables for the entanglement source\n",
    "    z1H = zpf(N, 1)\n",
    "    z1V = zpf(N, 1)\n",
    "    z2H = zpf(N, 1)\n",
    "    z2V = zpf(N, 1)\n",
    "\n",
    "    if t == 1:\n",
    "        aH = cosh(r)*z1H + sinh(r)*conj(z2H)\n",
    "        aV = cosh(r)*z1V + exp(1j*phase)*sinh(r)*conj(z2V)\n",
    "        bH = cosh(r)*z2H + sinh(r)*conj(z1H)\n",
    "        bV = cosh(r)*z2V + exp(1j*phase)*sinh(r)*conj(z1V)\n",
    "    elif t == 2:\n",
    "        aH = cosh(r)*z1H + sinh(r)*conj(z2V)\n",
    "        aV = cosh(r)*z1V + exp(1j*phase)*sinh(r)*conj(z2H)\n",
    "        bH = cosh(r)*z2H + exp(1j*phase)*sinh(r)*conj(z1V)\n",
    "        bV = cosh(r)*z2V + sinh(r)*conj(z1H)\n",
    "    else:\n",
    "        print(f\"{t} is not a valid type.\")\n",
    "        return\n",
    "\n",
    "    return np.concatenate((aH, aV)), np.concatenate((bH, bV))"
   ]
  },
  {
   "cell_type": "markdown",
   "id": "8f1e2938",
   "metadata": {
    "id": "8f1e2938"
   },
   "source": [
    "### Gates \n",
    "\n",
    "Filters, Waveplates, and Beamsplitters"
   ]
  },
  {
   "cell_type": "markdown",
   "id": "bjdpkslQoeoe",
   "metadata": {
    "id": "bjdpkslQoeoe"
   },
   "source": [
    "#### `ndf` (neutral density filter)"
   ]
  },
  {
   "cell_type": "code",
   "execution_count": 16,
   "id": "9990ce2c",
   "metadata": {
    "id": "9990ce2c"
   },
   "outputs": [],
   "source": [
    "def ndf(a: np.ndarray, d=10):\n",
    "    '''Neutral density filter\n",
    "    d is the optical density (a non-negative number)'''\n",
    "\n",
    "    if d < 0:\n",
    "        raise ValueError(\"Optical density d must be non-negative.\")\n",
    "\n",
    "    return 10**(-d/2) @ a + (1-10**(-d/2)) @ zpf(a.shape[1], 2)"
   ]
  },
  {
   "cell_type": "markdown",
   "id": "UQAzYJTPojKg",
   "metadata": {
    "id": "UQAzYJTPojKg"
   },
   "source": [
    "#### `hwp`"
   ]
  },
  {
   "cell_type": "code",
   "execution_count": 17,
   "id": "cca70d8e",
   "metadata": {
    "id": "cca70d8e"
   },
   "outputs": [],
   "source": [
    "def hwp(a: np.ndarray, theta=0):\n",
    "    '''Half-wave plate\n",
    "    a is a 2 x N complex matrix\n",
    "    theta is the fast-axis angle in degrees'''\n",
    "\n",
    "    # convert degrees to radians\n",
    "    theta = theta * np.pi/180\n",
    "\n",
    "    u = np.array([\n",
    "        [cos(2*theta), sin(2*theta)], \n",
    "        [sin(2*theta), -cos(2*theta)]])\n",
    "        \n",
    "    return u @ a"
   ]
  },
  {
   "cell_type": "markdown",
   "id": "uwC627NJomMn",
   "metadata": {
    "id": "uwC627NJomMn"
   },
   "source": [
    "#### `qwp`"
   ]
  },
  {
   "cell_type": "code",
   "execution_count": 18,
   "id": "3ce55e16",
   "metadata": {
    "id": "3ce55e16"
   },
   "outputs": [],
   "source": [
    "def qwp(a: np.ndarray, theta=0):\n",
    "    '''Quarter-wave plate\n",
    "    a is a 2 x N complex matrix\n",
    "    theta is the fast-axis angle in degrees'''\n",
    "\n",
    "    # convert degrees to radians\n",
    "    theta = theta * np.pi/180\n",
    "\n",
    "    u = np.array([\n",
    "        [cos(theta)^2 + 1j*sin(theta)^2, (1-1j)*cos(theta)*sin(theta)], \n",
    "        [(1-1j)*cos(theta)*sin(theta), sin(theta)^2 + 1j*cos(theta)^2]])\n",
    "        \n",
    "    return u @ a"
   ]
  },
  {
   "cell_type": "markdown",
   "id": "KSYHBvM7oopt",
   "metadata": {
    "id": "KSYHBvM7oopt"
   },
   "source": [
    "#### `polarizer`"
   ]
  },
  {
   "cell_type": "code",
   "execution_count": 19,
   "id": "607c6dcb",
   "metadata": {
    "id": "607c6dcb"
   },
   "outputs": [],
   "source": [
    "def polarizer(a: np.ndarray, theta=0, phi=0):\n",
    "    '''Polarizer\n",
    "    a is a 2 x N complex matrix\n",
    "    theta, phi are in degrees'''\n",
    "\n",
    "    # convert degrees to radians\n",
    "    theta = theta * np.pi/180\n",
    "    phi = phi * np.pi/180\n",
    "\n",
    "    # make projector p\n",
    "    bra = np.array([[cos(theta)], [exp(1j*phi)*sin(theta)]])\n",
    "    p = bra @ bra.T\n",
    "\n",
    "    return p @ a + (np.eye(2) - p) @ zpf(a.shape[1], 2)"
   ]
  },
  {
   "cell_type": "markdown",
   "id": "G-z5-iFHorGJ",
   "metadata": {
    "id": "G-z5-iFHorGJ"
   },
   "source": [
    "#### `bs`"
   ]
  },
  {
   "cell_type": "code",
   "execution_count": 20,
   "id": "d85e1dec",
   "metadata": {
    "id": "d85e1dec"
   },
   "outputs": [],
   "source": [
    "def bs(a: np.ndarray, b: np.ndarray, r=1/sqrt(2)):\n",
    "    '''Beam splitter\n",
    "    a and b are each 2 x N complex matrices\n",
    "    r is the reflectance (0 <= r <= 1)'''\n",
    "\n",
    "    #TODO: where are the defaults / vacuum state logic? (see polarizing beam splitter)\n",
    "\n",
    "    t = sqrt(1-r^2)\n",
    "\n",
    "    out = np.kron(np.array([[t, r], [r, -t]]), np.eye(2)) @ np.concatenate((a, b))\n",
    "\n",
    "    return out[0:2,:], out[2:4,:]\n",
    "\n",
    "    # TODO: why not just \n",
    "    # u = np.array([[t, r], [r, -t]])\n",
    "    # return u @ a, u @ b"
   ]
  },
  {
   "cell_type": "markdown",
   "id": "y6YP4ViDos55",
   "metadata": {
    "id": "y6YP4ViDos55"
   },
   "source": [
    "#### `pbs`"
   ]
  },
  {
   "cell_type": "code",
   "execution_count": 21,
   "id": "75b51a66",
   "metadata": {
    "id": "75b51a66"
   },
   "outputs": [],
   "source": [
    "HV = np.array([[1, 0, 0, 0], \n",
    "               [0, 0, 0, 1], \n",
    "               [0, 0, 1, 0], \n",
    "               [0, 1, 0, 0]])\n",
    "\n",
    "DA = np.array([[1, 1, 1, -1],\n",
    "               [1, 1, -1, 1], \n",
    "               [1, -1, 1, 1], \n",
    "               [-1, 1, 1, 1]])\n",
    "\n",
    "RL = np.array([[1, -1j, 1, 1j], \n",
    "               [1j, 1, -1j, 1],\n",
    "               [1, 1j, 1, -1j],\n",
    "               [-1j, 1, 1j, 1]])"
   ]
  },
  {
   "cell_type": "code",
   "execution_count": 22,
   "id": "750d05d2",
   "metadata": {
    "id": "750d05d2"
   },
   "outputs": [],
   "source": [
    "def pbs(\n",
    "    a: np.ndarray = None, \n",
    "    b: np.ndarray = None, \n",
    "    basis=HV\n",
    "    ) -> Tuple[np.ndarray, np.ndarray]:\n",
    "    \"\"\"Polarizing beam splitter\n",
    "    a and b are each 2 x N complex matrices\n",
    "    basis is a 4 x 4 complex matrix\"\"\"\n",
    "\n",
    "    if a is None and b is None:\n",
    "        raise ValueError(\"At least one input beam must be specified.\")\n",
    "    elif a is None:\n",
    "        a = zpf(b.shape[1], 2)\n",
    "    elif b is None:\n",
    "        b = zpf(a.shape[1], 2)\n",
    "        \n",
    "    out = basis @ np.concatenate((a, b))\n",
    "    \n",
    "    return out[0:2,:], out[2:4,:]"
   ]
  },
  {
   "cell_type": "markdown",
   "id": "D5eJv_FPnlr3",
   "metadata": {
    "id": "D5eJv_FPnlr3"
   },
   "source": [
    "# Simulation Model: QM (General Fock)"
   ]
  },
  {
   "cell_type": "markdown",
   "id": "00463ca1",
   "metadata": {},
   "source": [
    "### Fock States"
   ]
  },
  {
   "cell_type": "markdown",
   "id": "be736ae0",
   "metadata": {},
   "source": [
    "#### `fock_dim`"
   ]
  },
  {
   "cell_type": "code",
   "execution_count": 23,
   "id": "741261d2",
   "metadata": {},
   "outputs": [],
   "source": [
    "def fock_dim(n, m):\n",
    "    '''Returns M := (n + m - 1) Choose n'''\n",
    "    return comb(n + m - 1, n)"
   ]
  },
  {
   "cell_type": "markdown",
   "id": "20e7a441",
   "metadata": {},
   "source": [
    "#### `is_fock_basis_state`"
   ]
  },
  {
   "cell_type": "code",
   "execution_count": 24,
   "id": "654009cf",
   "metadata": {},
   "outputs": [],
   "source": [
    "def is_fock_basis_state(tup):\n",
    "    return isinstance(tup, tuple) and all([(isinstance(i,int) and i >= 0) for i in tup])"
   ]
  },
  {
   "cell_type": "markdown",
   "id": "5bfb8c86",
   "metadata": {},
   "source": [
    "#### `is_fock_state`"
   ]
  },
  {
   "cell_type": "code",
   "execution_count": 25,
   "id": "2878bc4f",
   "metadata": {},
   "outputs": [],
   "source": [
    "def is_fock_state(amp_dict):\n",
    "    '''Checks whether a dict of Fock basis state tuples to amplitudes is a valid Fock state.'''\n",
    "        \n",
    "    if not isinstance(amp_dict, dict):\n",
    "        return False\n",
    "        \n",
    "    keys = list(amp_dict.keys())\n",
    "    if not isinstance(keys[0], tuple) or not is_fock_basis_state(keys[0]):\n",
    "        return False\n",
    "    m = len(keys[0])\n",
    "    n = sum(keys[0])\n",
    "        \n",
    "    total_pr = 0\n",
    "    for i,tup in enumerate(keys):\n",
    "        if not (isinstance(tup, tuple) \n",
    "                and is_fock_basis_state(tup)\n",
    "                and len(tup) == m\n",
    "                and sum(tup) == n\n",
    "               ):\n",
    "            return False\n",
    "        total_pr += amp_dict[tup] * conj(amp_dict[tup])\n",
    "                \n",
    "    return math.isclose(total_pr, 1)"
   ]
  },
  {
   "cell_type": "markdown",
   "id": "87cf35d8",
   "metadata": {},
   "source": [
    "#### `get_fock_basis_states`\n",
    "\n",
    "This function was written recursively with memoization (see `@cache`) in order to make it faster. The tradeoff is that it rapidly fills up computer memory with cached data.\n",
    "\n",
    "Even with memoization, this function's runtime is worse than exponential in n, the number of particles. \n",
    "\n",
    "Use sparingly, and only on inputs with small n.\n"
   ]
  },
  {
   "cell_type": "code",
   "execution_count": 26,
   "id": "70oBPCYlnkZH",
   "metadata": {
    "id": "70oBPCYlnkZH"
   },
   "outputs": [],
   "source": [
    "def get_fock_basis_states(n, m):\n",
    "    '''Returns a python array of all (n + m - 1 Choose n) Fock basis \n",
    "    states (as tuples) with n particles in m modes.'''\n",
    "\n",
    "    # These checks are a loop invariant of the \n",
    "    # loop in the helper, so we only need to check \n",
    "    # them before starting the loop.\n",
    "    if not isinstance(n, int) or n < 0:\n",
    "        raise ValueError(\"n must be a non-negative integer.\")\n",
    "    if not isinstance(m, int) or m < 1:\n",
    "        raise ValueError(\"m must be a positive integer.\")\n",
    "        \n",
    "    return _get_fock_basis_states(n, m)\n",
    "\n",
    "# TODO: unroll recursion into loop\n",
    "@cache\n",
    "def _get_fock_basis_states(n, m):\n",
    "    '''This helper should never be called outside of get_fock_basis_states. \n",
    "    See get_fock_basis_states.'''\n",
    "\n",
    "    if m == 1:\n",
    "        return [(n,)]\n",
    "    if n == 1:\n",
    "        return list(((0,)*(i) + (1,) + (0,)*(m-i-1)) for i in range(m))\n",
    "\n",
    "    states = []\n",
    "    for i in range(0,n+1):\n",
    "        new_states = _get_fock_basis_states(n-i, m-1)\n",
    "        for s in range(len(new_states)):\n",
    "            states.append((i,) + new_states[s])\n",
    "        \n",
    "    return states\n",
    "\n",
    "_get_fock_basis_states.cache_clear()"
   ]
  },
  {
   "cell_type": "markdown",
   "id": "43eb73b0",
   "metadata": {},
   "source": [
    "#### `get_antibunching_states`\n",
    "\n",
    "Similar to the above, but for states where all partical counts are 0 or 1."
   ]
  },
  {
   "cell_type": "code",
   "execution_count": 27,
   "id": "7f958082",
   "metadata": {},
   "outputs": [],
   "source": [
    "def get_antibunching_states(n, m):\n",
    "    '''Returns a python array of all (m Choose n) antibunching\n",
    "    states (as tuples) with n particles in m modes.'''\n",
    "    \n",
    "    # These checks are a loop invariant of the \n",
    "    # loop in the helper, so we only need to check \n",
    "    # them before starting the loop.\n",
    "    if not isinstance(n, int) or n < 0:\n",
    "        raise ValueError(\"n must be a non-negative integer.\")\n",
    "    if not isinstance(m, int) or m < 1:\n",
    "        raise ValueError(\"m must be a positive integer.\")\n",
    "    if n > m:\n",
    "        raise ValueError(\"n must be less than m.\")\n",
    "        \n",
    "    return _get_antibunching_states(n, m)\n",
    "\n",
    "# TODO: unroll recursion into loop\n",
    "@cache\n",
    "def _get_antibunching_states(n, m):\n",
    "    '''This helper should never be called outside of get_antibunching_states. \n",
    "    See get_antibunching_states.'''\n",
    "\n",
    "    if m == n:\n",
    "        return [(1,)*m]\n",
    "    if n == 1:\n",
    "        return list(((0,)*(i) + (1,) + (0,)*(m-i-1)) for i in range(m))\n",
    "\n",
    "    states = []\n",
    "    for i in range(0, m-n+1):\n",
    "        new_states = _get_antibunching_states(n-1, m-i-1)\n",
    "        for s in range(len(new_states)):\n",
    "            states.append((0,)*(i) + (1,) + new_states[s])\n",
    "        \n",
    "    return states\n",
    "\n",
    "_get_antibunching_states.cache_clear()"
   ]
  },
  {
   "cell_type": "markdown",
   "id": "0a539144",
   "metadata": {},
   "source": [
    "### Unitaries"
   ]
  },
  {
   "cell_type": "markdown",
   "id": "e16c9a3f",
   "metadata": {},
   "source": [
    "#### `is_unitary`"
   ]
  },
  {
   "cell_type": "code",
   "execution_count": 28,
   "id": "37fc6695",
   "metadata": {},
   "outputs": [],
   "source": [
    "def is_unitary(U):\n",
    "    return U.shape == (U.shape[0],U.shape[0]) and np.allclose(np.eye(len(U)), U.dot(U.T.conj()))"
   ]
  },
  {
   "cell_type": "markdown",
   "id": "0d9569ea",
   "metadata": {},
   "source": [
    "#### `direct_sum`"
   ]
  },
  {
   "cell_type": "code",
   "execution_count": 29,
   "id": "34b5b8ab",
   "metadata": {},
   "outputs": [],
   "source": [
    "def direct_sum(*vargs):\n",
    "    \n",
    "    if len(vargs) < 2:\n",
    "        raise ValueError(\"Not enough arguments - need at least two matrices.\")\n",
    "    \n",
    "    A = vargs[0]\n",
    "    for B in vargs[1:]:\n",
    "        A = np.block([\n",
    "            [A,                                     np.zeros((A.shape[0], B.shape[1]))],\n",
    "            [np.zeros((B.shape[0], A.shape[1])),    B                                 ]\n",
    "        ])\n",
    "    return A"
   ]
  },
  {
   "cell_type": "markdown",
   "id": "7e44f577",
   "metadata": {},
   "source": [
    "#### `HilbertSpaceUnitary`\n",
    "\n",
    "Recall \n",
    "\n",
    "$$\\langle S | \\varphi (U) | T \\rangle = \\frac{Per(U_{S,T})}{\\sqrt{s_1! \\dots s_m! t_1! \\dots t_m!}}$$\n",
    "\n",
    "See pg 95 of https://www.scottaaronson.com/qisii.pdf for more info."
   ]
  },
  {
   "cell_type": "code",
   "execution_count": 30,
   "id": "LXk0KksMsmL7",
   "metadata": {
    "id": "LXk0KksMsmL7"
   },
   "outputs": [],
   "source": [
    "class HilbertSpaceUnitary(object):\n",
    "    '''Converts the m x m unitary of a linear optical network to \n",
    "    the larger M x M unitary acting on the entire Hilbert space,\n",
    "    where M := n+m-1 choose n. Lazily computes entries as needed.'''\n",
    "\n",
    "    def __init__(self, U, n, state_space=None):\n",
    "        if not is_unitary(U):\n",
    "            raise ValueError(\"U must be an m x m unitary.\")\n",
    "        self.U = U\n",
    "        self.m = U.shape[0]\n",
    "        self.n = n\n",
    "        self.state_space = (state_space if state_space else get_fock_basis_states(self.n, self.m))\n",
    "        self.entries = {}\n",
    "\n",
    "    def get_entry(self, S, T):\n",
    "        '''This gives the entry <S|\\phi(U)|T>, that is,\n",
    "        the amplitude of a T to S transition.\n",
    "        S and T must both be Fock states.'''\n",
    "\n",
    "        if np.sum(S) != self.n or np.sum(T) != self.n:\n",
    "            raise ValueError(f\"Fock states must have {self.n} particles.\")\n",
    "        if not is_fock_basis_state(S):\n",
    "            raise ValueError(\"S must be a Fock state.\")\n",
    "        if not is_fock_basis_state(T):\n",
    "            raise ValueError(\"T must be a Fock state.\")\n",
    "\n",
    "        key = (S,T)\n",
    "        if key not in self.entries:\n",
    "            U_ST = np.repeat(np.repeat(self.U, S, axis=0), T, axis=1).astype(complex)\n",
    "            self.entries[key] = ( \n",
    "                permanent.permanent(U_ST) \n",
    "                / sqrt(np.prod(factorial(S)))\n",
    "                / sqrt(np.prod(factorial(T)))\n",
    "            ) # watch out for multiplication overflows on normalization factor\n",
    "        return self.entries[key]\n",
    "  \n",
    "    def __getitem__(self, S_and_T):\n",
    "        '''Makes object subscriptable.\n",
    "        self[S,T] is equivalent to self.get_entry(S,T)'''\n",
    "        \n",
    "        S,T = S_and_T\n",
    "        return self.get_entry(S,T)\n",
    "    \n",
    "    def apply(self, state, post_selection=None):\n",
    "        \n",
    "        if is_fock_basis_state(state):\n",
    "            state = {state: 1}\n",
    "        \n",
    "        if not is_fock_state(state):\n",
    "            raise ValueError(\"Can only apply HilbertSpaceUnitary to valid Fock states.\")\n",
    "        if not post_selection:\n",
    "            post_selection = self.state_space\n",
    "            \n",
    "        result = defaultdict(lambda: 0)\n",
    "        for T in state:\n",
    "            for S in post_selection:\n",
    "                result[S] += self.get_entry(S,T)\n",
    "        return result"
   ]
  },
  {
   "cell_type": "markdown",
   "id": "babe6a3f",
   "metadata": {},
   "source": [
    "#### `get_hilbert_space_unitary_matrix`\n",
    "\n",
    "Exponential runtime - use only if you need to see the whole hilbert space unitary matrix at once. \n",
    "\n",
    "When possible, use HilbertSpaceUnitary to calculate entries lazily instead."
   ]
  },
  {
   "cell_type": "code",
   "execution_count": 31,
   "id": "c11ce0db",
   "metadata": {},
   "outputs": [],
   "source": [
    "def get_hilbert_space_unitary_matrix(U, n, p=False):\n",
    "    '''Converts the m x m unitary of a linear optical network to \n",
    "    the larger M x M unitary acting on the entire Hilbert space.\n",
    "    U is an m x m unitary (m is number of modes)\n",
    "    n is number of particles\n",
    "    p determines whether or not to print the matrix\n",
    "    M := n+m-1 choose n'''\n",
    "    m = U.shape[0]\n",
    "    basis_states = get_fock_basis_states(n, m)\n",
    "    hsu = HilbertSpaceUnitary(U, n)\n",
    "    M = len(basis_states)\n",
    "    hsu_matrix = np.zeros((M,M), dtype=complex)\n",
    "    for i in range(M):\n",
    "        for j in range(M):\n",
    "            hsu_matrix[i,j] = hsu.get_entry(basis_states[i], basis_states[j])\n",
    "    if p:\n",
    "        rounded_hsu = np.around(hsu_matrix,2)\n",
    "        for i in range(M):\n",
    "            print(basis_states[i], end=':\\t')\n",
    "            print(rounded_hsu[i])\n",
    "    return hsu_matrix"
   ]
  },
  {
   "cell_type": "markdown",
   "id": "473f707b",
   "metadata": {},
   "source": [
    "#### `qr_haar`"
   ]
  },
  {
   "cell_type": "code",
   "execution_count": 32,
   "id": "kO04QEV64lRL",
   "metadata": {
    "id": "kO04QEV64lRL"
   },
   "outputs": [],
   "source": [
    "# Source: https://pennylane.ai/qml/demos/tutorial_haar_measure.html\n",
    "\n",
    "def qr_haar(m):\n",
    "    \"\"\"Generate a Haar-random matrix using the QR decomposition.\n",
    "    m is the number of modes.\"\"\"\n",
    "    # Step 1\n",
    "    A, B = np.random.normal(size=(m, m)), np.random.normal(size=(m, m))\n",
    "    Z = A + 1j * B\n",
    "\n",
    "    # Step 2\n",
    "    Q, R = np.linalg.qr(Z)\n",
    "\n",
    "    # Step 3\n",
    "    Lambda = np.diag([R[i, i] / np.abs(R[i, i]) for i in range(m)])\n",
    "\n",
    "    # Step 4\n",
    "    return np.dot(Q, Lambda)"
   ]
  },
  {
   "cell_type": "markdown",
   "id": "dfa9fc5e",
   "metadata": {},
   "source": [
    "# Experiment Helpers"
   ]
  },
  {
   "cell_type": "markdown",
   "id": "6d00424c",
   "metadata": {},
   "source": [
    "### Statistics"
   ]
  },
  {
   "cell_type": "code",
   "execution_count": 33,
   "id": "dd17da67",
   "metadata": {},
   "outputs": [],
   "source": [
    "def distr_dicts_to_arrays(qm_distr, stoch_distr):\n",
    "    '''Takes in two (detection_event -> probability) maps\n",
    "    Outputs two arrays of probabilities, observed and expected, paired by index.\n",
    "    Loses key information (each index corresponds with some detection event).'''\n",
    "    \n",
    "    all_det_events = set()\n",
    "    all_det_events.update(qm_distr.keys(), stoch_distr.keys())\n",
    "    \n",
    "    exp_pr_distr = []\n",
    "    obs_pr_distr = []\n",
    "    \n",
    "    for det_event in all_det_events:\n",
    "        exp_pr_distr.append(qm_distr[det_event])\n",
    "        obs_pr_distr.append(stoch_distr[det_event])\n",
    "        \n",
    "    return np.array(exp_pr_distr), np.array(obs_pr_distr)"
   ]
  },
  {
   "cell_type": "code",
   "execution_count": 34,
   "id": "1c211cb4",
   "metadata": {},
   "outputs": [],
   "source": [
    "def zeroless_chi_square(p, q, N=1):\n",
    "    # caution: not symmetric: p=expected, q=observed\n",
    "    zero_mask = (p != 0)\n",
    "    p = p[zero_mask]\n",
    "    q = q[zero_mask]\n",
    "    \n",
    "    p = N*p/np.sum(p) # scipy chisquare requires distributions to have the same sum\n",
    "    q = N*q/np.sum(q) # this normalization seems VERY problematic\n",
    "    \n",
    "    return chisquare(q, f_exp=p)"
   ]
  },
  {
   "cell_type": "markdown",
   "id": "277425d2",
   "metadata": {},
   "source": [
    "### Distances"
   ]
  },
  {
   "cell_type": "code",
   "execution_count": 35,
   "id": "3ef3ef6f",
   "metadata": {},
   "outputs": [],
   "source": [
    "def zeroless_chi_square_test_statistic(exp_pr_distr, obs_pr_distr):\n",
    "    return zeroless_chi_square(exp_pr_distr, obs_pr_distr)[0]"
   ]
  },
  {
   "cell_type": "code",
   "execution_count": 36,
   "id": "12b53a32",
   "metadata": {},
   "outputs": [],
   "source": [
    "def zeroless_chi_square_p_value_complement(exp_pr_distr, obs_pr_distr):\n",
    "    return 1 - zeroless_chi_square(exp_pr_distr, obs_pr_distr)[1]"
   ]
  },
  {
   "cell_type": "code",
   "execution_count": 37,
   "id": "3fa85ac1",
   "metadata": {},
   "outputs": [],
   "source": [
    "def trace_dist(p, q):\n",
    "    return np.sum(np.abs(p-q)) / 2"
   ]
  },
  {
   "cell_type": "code",
   "execution_count": 38,
   "id": "9f46ac5c",
   "metadata": {},
   "outputs": [],
   "source": [
    "def hellinger_dist(p, q):\n",
    "    return np.linalg.norm(sqrt(p) - sqrt(q)) / sqrt(2)"
   ]
  },
  {
   "cell_type": "code",
   "execution_count": 39,
   "id": "ba7e5de7",
   "metadata": {},
   "outputs": [],
   "source": [
    "DEFAULT_DIST_FUNC = trace_dist"
   ]
  },
  {
   "cell_type": "markdown",
   "id": "24245a75",
   "metadata": {},
   "source": [
    "### Displaying Results"
   ]
  },
  {
   "cell_type": "code",
   "execution_count": 40,
   "id": "e1b6fa30",
   "metadata": {},
   "outputs": [],
   "source": [
    "def plot_qm_vs_stoch(qm_distr, stoch_distr, title=\"QM vs Stochastic\"):\n",
    "    all_det_events = set()\n",
    "    all_det_events.update(qm_distr.keys(), stoch_distr.keys())\n",
    "\n",
    "    distrs_sorted = []\n",
    "    for det_event in all_det_events:\n",
    "        distrs_sorted.append(\n",
    "            (qm_distr[det_event], \n",
    "             stoch_distr[det_event], \n",
    "            (''.join(map(str,det_event)) if isinstance(det_event, tuple) else det_event))\n",
    "        )\n",
    "    distrs_sorted = sorted(distrs_sorted)\n",
    "\n",
    "    labels = []\n",
    "    qm_data = []\n",
    "    stoch_data = []\n",
    "    for qm_pt, stoch_pt, det_event in distrs_sorted:\n",
    "        labels.append(det_event)\n",
    "        qm_data.append(qm_pt)\n",
    "        stoch_data.append(stoch_pt)\n",
    "\n",
    "    x = np.arange(len(labels))  # the label locations\n",
    "    width = 0.35  # the width of the bars\n",
    "\n",
    "    fig, ax = plt.subplots()\n",
    "    rects1 = ax.bar(x - width/2, qm_data, width, label='QM', color='gray')\n",
    "    rects2 = ax.bar(x + width/2, stoch_data, width, label='Spoof', color='orangered')\n",
    "\n",
    "    # Add some text for labels, title and custom x-axis tick labels, etc.\n",
    "    ax.set_ylabel('Probabilities')\n",
    "    ax.set_title(title)\n",
    "    ax.set_xticks(x, labels, rotation=90)\n",
    "    ax.legend()\n",
    "\n",
    "    #ax.bar_label(rects1, padding=3)\n",
    "    #ax.bar_label(rects2, padding=3)\n",
    "\n",
    "    fig.tight_layout()\n",
    "\n",
    "    plt.show()"
   ]
  },
  {
   "cell_type": "code",
   "execution_count": 41,
   "id": "e16a164e",
   "metadata": {},
   "outputs": [],
   "source": [
    "def plot_all(*all_distrs, distr_names=None, title=\"Probabilities\"):\n",
    "    num_distrs = len(all_distrs)\n",
    "    if distr_names is None:\n",
    "        distr_names = [str(i) for i in range(num_distrs)]\n",
    "    \n",
    "    all_det_events = set()\n",
    "    for distr in all_distrs:\n",
    "        all_det_events.update(distr.keys())\n",
    "\n",
    "    distrs_sorted = []\n",
    "    for det_event in all_det_events:\n",
    "        distrs_sorted.append(\n",
    "            ((''.join(map(str,det_event)) if isinstance(det_event, tuple) else det_event),\n",
    "             [distr[det_event] for distr in all_distrs]\n",
    "            )\n",
    "        )\n",
    "    distrs_sorted = sorted(distrs_sorted)\n",
    "\n",
    "    labels = []\n",
    "    data = defaultdict(lambda: [])\n",
    "    for det_event, all_pts in distrs_sorted:\n",
    "        labels.append(det_event)\n",
    "        for i in range(num_distrs):\n",
    "            data[distr_names[i]].append(all_pts[i])\n",
    "\n",
    "    x = np.arange(len(labels))  # the label locations\n",
    "    width = 0.35  # the width of the bars\n",
    "\n",
    "    fig, ax = plt.subplots()\n",
    "    for i in range(num_distrs):\n",
    "        ax.bar(x + i*width/num_distrs, data[distr_names[i]], width, label=distr_names[i])\n",
    "\n",
    "    # Add some text for labels, title and custom x-axis tick labels, etc.\n",
    "    ax.set_ylabel('Probabilities')\n",
    "    ax.set_title(title)\n",
    "    ax.set_xticks(x, labels, rotation=90)\n",
    "    ax.legend()\n",
    "\n",
    "    #ax.bar_label(rects1, padding=3)\n",
    "    #ax.bar_label(rects2, padding=3)\n",
    "\n",
    "    fig.tight_layout()\n",
    "\n",
    "    plt.show()"
   ]
  },
  {
   "cell_type": "code",
   "execution_count": 42,
   "id": "99868ea1",
   "metadata": {},
   "outputs": [],
   "source": [
    "def list_all_distr_comparison_funcs(N=1):\n",
    "    return [\n",
    "        ('Trace Distance', trace_dist), \n",
    "        ('Hellinger Distance', hellinger_dist), \n",
    "        ('Chi-Square Test Statistic', lambda e,o : zeroless_chi_square(e,o,N)[1]), \n",
    "        ('Chi-Square p-value', lambda e,o : zeroless_chi_square(e,o,N)[1])\n",
    "    ]"
   ]
  },
  {
   "cell_type": "code",
   "execution_count": 43,
   "id": "3bc075da",
   "metadata": {},
   "outputs": [],
   "source": [
    "def analyze_distr(qm_distr, stoch_distr, N=1, title='QM vs Stochastic'):\n",
    "    \n",
    "    plot_qm_vs_stoch(qm_distr, stoch_distr, title=title)\n",
    "\n",
    "    exp_pr_distr, obs_pr_distr = distr_dicts_to_arrays(qm_distr, stoch_distr)\n",
    "    for func_name, func in list_all_distr_comparison_funcs(N):\n",
    "        result = func(exp_pr_distr, obs_pr_distr)\n",
    "        print(f\"{func_name}: {result}\")\n",
    "\n",
    "    print()"
   ]
  },
  {
   "cell_type": "markdown",
   "id": "5b9180c1",
   "metadata": {},
   "source": [
    "### A Few Explicit Gates"
   ]
  },
  {
   "cell_type": "code",
   "execution_count": 44,
   "id": "3920a5ee",
   "metadata": {},
   "outputs": [],
   "source": [
    "# Defining a few unitaries for quick experimentation\n",
    "I1 = np.eye(1)\n",
    "I2 = np.eye(2)\n",
    "Z = np.array([[1, 0], [0, -1]])\n",
    "X = np.array([[0, 1], [1, 0]])\n",
    "Y = -1j * Z @ X\n",
    "hadamard = np.array([[1, 1], [1, -1]]) / sqrt(2)"
   ]
  }
 ],
 "metadata": {
  "colab": {
   "collapsed_sections": [],
   "provenance": [],
   "toc_visible": true
  },
  "kernelspec": {
   "display_name": "Python 3 (ipykernel)",
   "language": "python",
   "name": "python3"
  },
  "language_info": {
   "codemirror_mode": {
    "name": "ipython",
    "version": 3
   },
   "file_extension": ".py",
   "mimetype": "text/x-python",
   "name": "python",
   "nbconvert_exporter": "python",
   "pygments_lexer": "ipython3",
   "version": "3.10.9"
  },
  "vscode": {
   "interpreter": {
    "hash": "eaba163e9a8852b62833323186c9b1ec3be888b762b728d20972db8b5137f3e8"
   }
  }
 },
 "nbformat": 4,
 "nbformat_minor": 5
}
