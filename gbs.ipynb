{
  "cells": [
    {
      "cell_type": "code",
      "execution_count": 38,
      "id": "7oOTz6qTnAES",
      "metadata": {
        "colab": {
          "base_uri": "https://localhost:8080/"
        },
        "id": "7oOTz6qTnAES",
        "outputId": "27511422-c58e-4319-a52a-69cf1cd4ea69"
      },
      "outputs": [],
      "source": [
        "#!pip install permanent"
      ]
    },
    {
      "cell_type": "code",
      "execution_count": 39,
      "id": "5148d780",
      "metadata": {
        "id": "5148d780"
      },
      "outputs": [],
      "source": [
        "import numpy as np\n",
        "from numpy import sqrt, exp, cos, sin, cosh, sinh, conj\n",
        "from numpy.linalg import qr\n",
        "import math\n",
        "from collections import Counter\n",
        "from permanent import permanent\n",
        "from functools import cache"
      ]
    },
    {
      "cell_type": "code",
      "execution_count": 40,
      "id": "72d4f33c",
      "metadata": {
        "id": "72d4f33c"
      },
      "outputs": [],
      "source": [
        "from typing import Tuple\n",
        "# TODO: See pbs. Should we add type annotations?"
      ]
    },
    {
      "cell_type": "markdown",
      "id": "nfawh-cLk0Jy",
      "metadata": {
        "id": "nfawh-cLk0Jy"
      },
      "source": [
        "# Simulation Model: Threshold Detectors and Squeezed States"
      ]
    },
    {
      "cell_type": "markdown",
      "id": "a3e53f2a",
      "metadata": {
        "id": "a3e53f2a"
      },
      "source": [
        "### Measurement"
      ]
    },
    {
      "cell_type": "code",
      "execution_count": 41,
      "id": "59d460c9",
      "metadata": {
        "id": "59d460c9"
      },
      "outputs": [],
      "source": [
        "DEFAULT_MEAS_THRESH = 1.9494"
      ]
    },
    {
      "cell_type": "markdown",
      "id": "Lf1SDG7zoyC5",
      "metadata": {
        "id": "Lf1SDG7zoyC5"
      },
      "source": [
        "#### h_or_v_detector"
      ]
    },
    {
      "cell_type": "code",
      "execution_count": 42,
      "id": "8db9421a",
      "metadata": {
        "id": "8db9421a"
      },
      "outputs": [],
      "source": [
        "def h_or_v_detector(a: np.ndarray, gamma=DEFAULT_MEAS_THRESH):\n",
        "    return np.bitwise_or(abs(a[0,:]) > gamma, abs(a[1,:]) > gamma)"
      ]
    },
    {
      "cell_type": "markdown",
      "id": "OSaIm3Qlo282",
      "metadata": {
        "id": "OSaIm3Qlo282"
      },
      "source": [
        "#### norm_detector"
      ]
    },
    {
      "cell_type": "code",
      "execution_count": 43,
      "id": "jjGiGNtnD-g0",
      "metadata": {
        "id": "jjGiGNtnD-g0"
      },
      "outputs": [],
      "source": [
        "def norm_detector(a: np.ndarray, gamma=DEFAULT_MEAS_THRESH):\n",
        "    return np.linalg.norm(a, axis=1) > gamma"
      ]
    },
    {
      "cell_type": "code",
      "execution_count": 44,
      "id": "23e4a345",
      "metadata": {},
      "outputs": [],
      "source": [
        "def many_mode_detector(a, gamma=DEFAULT_MEAS_THRESH):\n",
        "    return abs(a) > gamma"
      ]
    },
    {
      "cell_type": "markdown",
      "id": "wplXr-JQo4qO",
      "metadata": {
        "id": "wplXr-JQo4qO"
      },
      "source": [
        "#### meas_all_2"
      ]
    },
    {
      "cell_type": "code",
      "execution_count": 45,
      "id": "db835c76",
      "metadata": {
        "id": "db835c76"
      },
      "outputs": [],
      "source": [
        "def meas_all_2(*vargs, gamma=DEFAULT_MEAS_THRESH, detect_model=h_or_v_detector):\n",
        "    return np.array(list(map(lambda a: detect_model(a, gamma), vargs)))"
      ]
    },
    {
      "cell_type": "code",
      "execution_count": 46,
      "id": "539cbc90",
      "metadata": {},
      "outputs": [],
      "source": [
        "def meas_all():\n",
        "    pass"
      ]
    },
    {
      "cell_type": "markdown",
      "id": "8V3gOYK0pGMd",
      "metadata": {
        "id": "8V3gOYK0pGMd"
      },
      "source": [
        "#### get_coincidence_count"
      ]
    },
    {
      "cell_type": "code",
      "execution_count": 47,
      "id": "09b86e5f",
      "metadata": {
        "id": "09b86e5f"
      },
      "outputs": [],
      "source": [
        "def get_coincidence_count(*vargs):\n",
        "    '''Returns the number of times all provided detectors simultanously clicked.'''\n",
        "    detections = np.array(vargs)\n",
        "    return np.count_nonzero(np.sum(detections, axis=0) == len(vargs))"
      ]
    },
    {
      "cell_type": "markdown",
      "id": "KJZleISXpLmv",
      "metadata": {
        "id": "KJZleISXpLmv"
      },
      "source": [
        "#### get_all_coincidence_counts"
      ]
    },
    {
      "cell_type": "code",
      "execution_count": 48,
      "id": "840861eb",
      "metadata": {
        "id": "840861eb"
      },
      "outputs": [],
      "source": [
        "def get_all_coincidence_counts(*detections):\n",
        "    '''Counts the number of times every possible detection event occurs\n",
        "    A detection event is a bitstring with 1's at the indices of all detectors that \n",
        "    clicked and 0's at the indices of all detectors which did not.\n",
        "    Returns a Counter object with detection events (as tuples) mapped to counts.'''\n",
        "    if len(detections) > 1:\n",
        "        detections = np.array(detections)\n",
        "    return Counter(map(tuple, detections.T))"
      ]
    },
    {
      "cell_type": "markdown",
      "id": "4rRCS2D5pOfs",
      "metadata": {
        "id": "4rRCS2D5pOfs"
      },
      "source": [
        "#### print_all_coincidence_counts"
      ]
    },
    {
      "cell_type": "code",
      "execution_count": 49,
      "id": "e16c2929",
      "metadata": {
        "id": "e16c2929"
      },
      "outputs": [],
      "source": [
        "def print_all_coincidence_counts(*detections):\n",
        "    if len(detections) > 1:\n",
        "        detections = np.array(detections)\n",
        "    coincidence_counts = get_all_coincidence_counts(detections)\n",
        "    m = detections.shape[0]\n",
        "    for i in range(2**m):\n",
        "        bitvector = np.frombuffer(np.binary_repr(i, width=m).encode(), dtype='S1').astype(int)\n",
        "        detectors = np.binary_repr(i, width=m) # ', '.join(np.flatnonzero(bitvector).astype(str))\n",
        "        print(detectors, coincidence_counts[tuple(bitvector)])\n"
      ]
    },
    {
      "cell_type": "markdown",
      "id": "8031e6a0",
      "metadata": {
        "id": "8031e6a0"
      },
      "source": [
        "### State Preparation"
      ]
    },
    {
      "cell_type": "markdown",
      "id": "9nZg9_56oEK9",
      "metadata": {
        "id": "9nZg9_56oEK9"
      },
      "source": [
        "#### zpf"
      ]
    },
    {
      "cell_type": "code",
      "execution_count": 50,
      "id": "9f267328",
      "metadata": {
        "id": "9f267328"
      },
      "outputs": [],
      "source": [
        "def zpf(N: int, M=1, sigma=1/sqrt(2)):\n",
        "    '''Zero-point field\n",
        "    N is the number of samples\n",
        "    M is the number of modes\n",
        "    sigma is the standard deviation of the quantum noise\n",
        "    sigma = 1/sqrt(2) corresponds to the vacuum state\n",
        "    sigma > 1/sqrt(2) corresponds to a thermal state\n",
        "    sigma = 0 corresponds to a classical (i.e., no ZPF) state'''\n",
        "    \n",
        "    return sigma * (np.random.normal(size=(M,N)) + 1j * np.random.normal(size=(M,N))) / sqrt(2)"
      ]
    },
    {
      "cell_type": "markdown",
      "id": "TucKgY0toRYB",
      "metadata": {
        "id": "TucKgY0toRYB"
      },
      "source": [
        "#### laser"
      ]
    },
    {
      "cell_type": "code",
      "execution_count": 51,
      "id": "4e6fa483",
      "metadata": {
        "id": "4e6fa483"
      },
      "outputs": [],
      "source": [
        "def laser(N: int, alphaH=1, alphaV=0):\n",
        "    '''Laser\n",
        "    alphaH and alphaV are each complex numbers'''\n",
        "\n",
        "    # scale of vacuum fluctations\n",
        "    sigma0 = 1/sqrt(2)\n",
        "\n",
        "    # input random variables for the entanglement source\n",
        "    zH = zpf(N, 1, sigma0)\n",
        "    zV = zpf(N, 1, sigma0)\n",
        "\n",
        "    aH = alphaH + zH\n",
        "    aV = alphaV + zV\n",
        "\n",
        "    return np.concatenate((aH, aV))"
      ]
    },
    {
      "cell_type": "markdown",
      "id": "JQAvDOFfoS55",
      "metadata": {
        "id": "JQAvDOFfoS55"
      },
      "source": [
        "#### ent"
      ]
    },
    {
      "cell_type": "code",
      "execution_count": 52,
      "id": "a77e3ac5",
      "metadata": {
        "id": "a77e3ac5"
      },
      "outputs": [],
      "source": [
        "def ent(N: int, r: float, t=1, phase=0):\n",
        "    '''Entanglement source\n",
        "    N is the number of samples\n",
        "    r is the squeezing strength (non-negative)\n",
        "    t (type) is 1 or 2\n",
        "    phase is in degrees.'''\n",
        "\n",
        "    # convert degrees to radians\n",
        "    phase = phase * np.pi/180\n",
        "    \n",
        "    #input random variables for the entanglement source\n",
        "    z1H = zpf(N, 1)\n",
        "    z1V = zpf(N, 1)\n",
        "    z2H = zpf(N, 1)\n",
        "    z2V = zpf(N, 1)\n",
        "\n",
        "    if t == 1:\n",
        "        aH = cosh(r)*z1H + sinh(r)*conj(z2H)\n",
        "        aV = cosh(r)*z1V + exp(1j*phase)*sinh(r)*conj(z2V)\n",
        "        bH = cosh(r)*z2H + sinh(r)*conj(z1H)\n",
        "        bV = cosh(r)*z2V + exp(1j*phase)*sinh(r)*conj(z1V)\n",
        "    elif t == 2:\n",
        "        aH = cosh(r)*z1H + sinh(r)*conj(z2V)\n",
        "        aV = cosh(r)*z1V + exp(1j*phase)*sinh(r)*conj(z2H)\n",
        "        bH = cosh(r)*z2H + exp(1j*phase)*sinh(r)*conj(z1V)\n",
        "        bV = cosh(r)*z2V + sinh(r)*conj(z1H)\n",
        "    else:\n",
        "        print(f\"{t} is not a valid type.\")\n",
        "        return\n",
        "\n",
        "    return np.concatenate((aH, aV)), np.concatenate((bH, bV))"
      ]
    },
    {
      "cell_type": "markdown",
      "id": "8f1e2938",
      "metadata": {
        "id": "8f1e2938"
      },
      "source": [
        "### Gates \n",
        "\n",
        "Filters, Waveplates, and Beamsplitters"
      ]
    },
    {
      "cell_type": "markdown",
      "id": "bjdpkslQoeoe",
      "metadata": {
        "id": "bjdpkslQoeoe"
      },
      "source": [
        "#### ndf (neutral density filter)"
      ]
    },
    {
      "cell_type": "code",
      "execution_count": 53,
      "id": "9990ce2c",
      "metadata": {
        "id": "9990ce2c"
      },
      "outputs": [],
      "source": [
        "def ndf(a: np.ndarray, d=10):\n",
        "    '''Neutral density filter\n",
        "    d is the optical density (a non-negative number)'''\n",
        "\n",
        "    if d < 0:\n",
        "        raise ValueError(\"Optical density d must be non-negative.\")\n",
        "\n",
        "    return 10**(-d/2) @ a + (1-10**(-d/2)) @ zpf(a.shape[1], 2)"
      ]
    },
    {
      "cell_type": "markdown",
      "id": "UQAzYJTPojKg",
      "metadata": {
        "id": "UQAzYJTPojKg"
      },
      "source": [
        "#### hwp"
      ]
    },
    {
      "cell_type": "code",
      "execution_count": 54,
      "id": "cca70d8e",
      "metadata": {
        "id": "cca70d8e"
      },
      "outputs": [],
      "source": [
        "def hwp(a: np.ndarray, theta=0):\n",
        "    '''Half-wave plate\n",
        "    a is a 2 x N complex matrix\n",
        "    theta is the fast-axis angle in degrees'''\n",
        "\n",
        "    # convert degrees to radians\n",
        "    theta = theta * np.pi/180\n",
        "\n",
        "    u = np.array([\n",
        "        [cos(2*theta), sin(2*theta)], \n",
        "        [sin(2*theta), -cos(2*theta)]])\n",
        "        \n",
        "    return u @ a"
      ]
    },
    {
      "cell_type": "markdown",
      "id": "uwC627NJomMn",
      "metadata": {
        "id": "uwC627NJomMn"
      },
      "source": [
        "#### qwp"
      ]
    },
    {
      "cell_type": "code",
      "execution_count": 55,
      "id": "3ce55e16",
      "metadata": {
        "id": "3ce55e16"
      },
      "outputs": [],
      "source": [
        "def qwp(a: np.ndarray, theta=0):\n",
        "    '''Quarter-wave plate\n",
        "    a is a 2 x N complex matrix\n",
        "    theta is the fast-axis angle in degrees'''\n",
        "\n",
        "    # convert degrees to radians\n",
        "    theta = theta * np.pi/180\n",
        "\n",
        "    u = np.array([\n",
        "        [cos(theta)^2 + 1j*sin(theta)^2, (1-1j)*cos(theta)*sin(theta)], \n",
        "        [(1-1j)*cos(theta)*sin(theta), sin(theta)^2 + 1j*cos(theta)^2]])\n",
        "        \n",
        "    return u @ a"
      ]
    },
    {
      "cell_type": "markdown",
      "id": "KSYHBvM7oopt",
      "metadata": {
        "id": "KSYHBvM7oopt"
      },
      "source": [
        "#### polarizer"
      ]
    },
    {
      "cell_type": "code",
      "execution_count": 56,
      "id": "607c6dcb",
      "metadata": {
        "id": "607c6dcb"
      },
      "outputs": [],
      "source": [
        "def polarizer(a: np.ndarray, theta=0, phi=0):\n",
        "    '''Polarizer\n",
        "    a is a 2 x N complex matrix\n",
        "    theta, phi are in degrees'''\n",
        "\n",
        "    # convert degrees to radians\n",
        "    theta = theta * np.pi/180\n",
        "    phi = phi * np.pi/180\n",
        "\n",
        "    # make projector p\n",
        "    bra = np.array([cos(theta), exp(1j*phi)*sin(theta)])\n",
        "    p = bra.T @ bra\n",
        "\n",
        "    return p @ a + (np.eye(2) - p) @ zpf(a.shape[1], 2)"
      ]
    },
    {
      "cell_type": "markdown",
      "id": "G-z5-iFHorGJ",
      "metadata": {
        "id": "G-z5-iFHorGJ"
      },
      "source": [
        "#### bs"
      ]
    },
    {
      "cell_type": "code",
      "execution_count": 57,
      "id": "d85e1dec",
      "metadata": {
        "id": "d85e1dec"
      },
      "outputs": [],
      "source": [
        "def bs(a: np.ndarray, b: np.ndarray, r=1/sqrt(2)):\n",
        "    '''Beam splitter\n",
        "    a and b are each 2 x N complex matrices\n",
        "    r is the reflectance (0 <= r <= 1)'''\n",
        "\n",
        "    #TODO: where are the defaults / vacuum state logic? (see polarizing beam splitter)\n",
        "\n",
        "    t = sqrt(1-r^2)\n",
        "\n",
        "    out = np.kron(np.array([[t, r], [r, -t]]), np.eye(2)) @ np.concatenate((a, b))\n",
        "\n",
        "    return out[0:2,:], out[2:4,:]\n",
        "\n",
        "    # TODO: why not just \n",
        "    # u = np.array([[t, r], [r, -t]])\n",
        "    # return u @ a, u @ b"
      ]
    },
    {
      "cell_type": "markdown",
      "id": "y6YP4ViDos55",
      "metadata": {
        "id": "y6YP4ViDos55"
      },
      "source": [
        "#### pbs"
      ]
    },
    {
      "cell_type": "code",
      "execution_count": 58,
      "id": "75b51a66",
      "metadata": {
        "id": "75b51a66"
      },
      "outputs": [],
      "source": [
        "HV = np.array([[1, 0, 0, 0], \n",
        "               [0, 0, 0, 1], \n",
        "               [0, 0, 1, 0], \n",
        "               [0, 1, 0, 0]])\n",
        "\n",
        "DA = np.array([[1, 1, 1, -1],\n",
        "               [1, 1, -1, 1], \n",
        "               [1, -1, 1, 1], \n",
        "               [-1, 1, 1, 1]])\n",
        "\n",
        "RL = np.array([[1, -1j, 1, 1j], \n",
        "               [1j, 1, -1j, 1],\n",
        "               [1, 1j, 1, -1j],\n",
        "               [-1j, 1, 1j, 1]])"
      ]
    },
    {
      "cell_type": "code",
      "execution_count": 59,
      "id": "750d05d2",
      "metadata": {
        "id": "750d05d2"
      },
      "outputs": [],
      "source": [
        "def pbs(\n",
        "    a: np.ndarray = None, \n",
        "    b: np.ndarray = None, \n",
        "    basis=HV\n",
        "    ) -> Tuple[np.ndarray, np.ndarray]:\n",
        "    \"\"\"Polarizing beam splitter\n",
        "    a and b are each 2 x N complex matrices\n",
        "    basis is a 4 x 4 complex matrix\"\"\"\n",
        "\n",
        "    if a is None and b is None:\n",
        "        raise ValueError(\"At least one input beam must be specified.\")\n",
        "    elif a is None:\n",
        "        a = zpf(b.shape[1], 2)\n",
        "    elif b is None:\n",
        "        b = zpf(a.shape[1], 2)\n",
        "        \n",
        "    out = basis @ np.concatenate((a, b))\n",
        "    \n",
        "    return out[0:2,:], out[2:4,:]"
      ]
    },
    {
      "cell_type": "markdown",
      "id": "49b6b2aa",
      "metadata": {
        "id": "49b6b2aa"
      },
      "source": [
        "### Tests"
      ]
    },
    {
      "cell_type": "code",
      "execution_count": 60,
      "id": "53b5136e",
      "metadata": {
        "id": "53b5136e"
      },
      "outputs": [],
      "source": [
        "def check_expectations(arr: np.ndarray):\n",
        "    # avg z\n",
        "    exp_val = arr.mean()\n",
        "\n",
        "    # avg z^T z for every column z in arr\n",
        "    # if statement optimizes speed\n",
        "    trans = np.trace((arr @ arr.T if arr.shape[0] < arr.shape[1] else arr.T @ arr)) / arr.shape[1]\n",
        "\n",
        "    # avg z^H z for every column z in arr\n",
        "    herm = np.linalg.norm(arr, axis=0).mean()\n",
        "    \n",
        "    print(f\"E[z] = {exp_val} should be 0.\")\n",
        "    print(f\"E[z^T z] = {trans} should be 0.\")\n",
        "    print(f\"E[z^H z] = {herm} should be 1.\")"
      ]
    },
    {
      "cell_type": "code",
      "execution_count": 61,
      "id": "110fc168",
      "metadata": {
        "colab": {
          "base_uri": "https://localhost:8080/"
        },
        "id": "110fc168",
        "outputId": "7f282307-2f3a-439f-915b-38442c431a16"
      },
      "outputs": [
        {
          "name": "stdout",
          "output_type": "stream",
          "text": [
            "E[z] = (0.0001915931435885348-0.00021093875322136926j) should be 0.\n",
            "E[z^T z] = (0.0008254923848978945-0.0002984104040788904j) should be 0.\n",
            "E[z^H z] = 0.9407454774998835 should be 1.\n"
          ]
        }
      ],
      "source": [
        "vac = zpf(1000000, 2)\n",
        "check_expectations(vac)"
      ]
    },
    {
      "cell_type": "code",
      "execution_count": 62,
      "id": "9a4bf8d6",
      "metadata": {
        "colab": {
          "base_uri": "https://localhost:8080/"
        },
        "id": "9a4bf8d6",
        "outputId": "7218db8b-5b54-4e9e-ae64-8e06d1bbf3a9"
      },
      "outputs": [
        {
          "name": "stdout",
          "output_type": "stream",
          "text": [
            "[[-0.56890354+0.06281114j  0.25923834+0.51882647j  0.48185152-0.28044394j\n",
            "  -0.36857187+0.58534198j  0.2253318 +1.11971602j  0.16707334+0.52213306j\n",
            "   0.26747921+0.38968854j  0.73640951+0.65070456j  0.06986965-0.85426454j\n",
            "   1.44184997-0.40184897j  0.36377321-0.71723694j  0.02313719-0.39319058j\n",
            "  -0.06714556-0.29100795j  0.31840065+0.09258718j -0.14533781-0.31820811j\n",
            "  -0.31253402+0.11315622j  0.31829844-0.74823982j -0.16491556-0.36130202j\n",
            "  -0.44945305+0.06289855j -0.25117474+0.15215717j  0.22694226-0.04529597j\n",
            "  -0.020472  -1.36173256j -0.10963532-0.58957706j -0.55580509-0.23760818j\n",
            "   0.1270176 -0.773615j   -1.11272659+0.35549847j  0.58320232+0.00480145j\n",
            "  -0.3021795 -0.23446572j  0.02180533+0.02959898j -0.07195311-0.55865616j\n",
            "   0.13867278+0.04199859j -0.11571669+0.61510173j  0.85016422+0.64236085j\n",
            "  -0.4238627 -0.81859526j -0.30672905+0.88091992j  0.30074714+0.32743796j\n",
            "  -1.32036848-0.86484052j  0.13277471+0.13809445j -0.34997341+0.37124012j\n",
            "   0.57297099+0.53467332j -0.02205803+0.49310383j  0.29252185-0.55037925j\n",
            "   1.19234312+0.15219127j -0.2147168 +0.36920213j -0.15954661+1.01680518j\n",
            "   0.56184127-0.19390114j  0.44294641+0.25587909j -0.30857815-0.08938952j\n",
            "  -0.88667095+0.4042214j   0.16642899-0.06851483j  0.27650947+0.03718378j\n",
            "  -0.3231311 -0.33086933j  0.37007998-0.80946102j  0.74810741+1.22083114j\n",
            "  -0.14524919-0.00747352j  0.19695387-0.31442361j  0.39925928-0.02001567j\n",
            "  -0.16746194+0.54956349j -0.31054767-0.38855264j -0.03048093+0.12514264j\n",
            "  -0.81087967+0.8159897j   0.07848815+0.05522629j -0.14945475+0.49435019j\n",
            "   0.52945896-0.27411728j -0.03581467+0.63336839j -0.18035563-0.0286935j\n",
            "   0.19512738+0.49930496j -0.41877243-0.79187469j  0.65920823+0.53828477j\n",
            "  -0.25945532-0.01098762j  0.22969113+0.10295398j  0.09891875+0.08953798j\n",
            "   0.45867508+0.30619625j -0.31743467+0.1700259j  -0.31025527+0.77171114j\n",
            "  -0.350025  +0.10659659j -0.39024921+0.678984j   -0.1969697 +0.38680528j\n",
            "   0.30941238+0.50357826j -0.75635563+0.44490062j  0.55216255-0.32758131j\n",
            "  -0.68290651+0.28524121j -0.32552215-0.4621775j  -0.37567738-0.46447276j\n",
            "   0.02594054+0.02434895j  0.07693406+0.67099767j  0.12507197+0.22642943j\n",
            "  -0.24932171-0.10071561j  0.06444828+0.18374264j -0.09626756+0.29868172j\n",
            "   0.04195821-0.45303324j -0.66258219-0.59999385j -0.00448782+0.11789084j\n",
            "   0.50067002+0.19239329j -0.39148145+0.21558884j -1.12841697+0.11797036j\n",
            "   0.21694643-0.02035377j  0.45098436-0.44670504j -0.22184584+0.48398898j\n",
            "  -0.3602264 -0.14022482j]\n",
            " [ 0.41017361-0.74557228j  0.84461443+0.22742498j -0.0849733 +0.42988302j\n",
            "   0.61573255+0.20160836j -0.67924795+0.03366716j -0.34589234+0.07394245j\n",
            "   0.7008812 +0.47745925j  0.08588661-0.1110884j   0.37539887-0.24117933j\n",
            "   0.29606013+0.56065245j -0.17858871+0.03257186j -0.27566895-0.48815872j\n",
            "   0.11097763+0.30354651j  1.03778791-0.24429731j  0.03914156-0.5759558j\n",
            "  -0.11470995-0.36983397j -0.18842992-0.57075169j -0.38247094+0.32636973j\n",
            "  -0.059432  +0.29152262j  0.67229561-0.49864474j -0.40716086-0.34173004j\n",
            "   0.67970749-0.90683119j -0.26604203-0.43391875j -0.07565116-0.22329639j\n",
            "  -0.65284126+0.00987051j -0.2061427 -0.25341067j -0.31888203-0.81123016j\n",
            "   0.01095262+0.44256502j  0.34856672+0.56882806j  0.30087555-0.74923642j\n",
            "   0.26127044-0.3972843j  -0.65728645+0.72216404j  0.0620663 -0.12601408j\n",
            "  -0.78702558-0.01730143j -0.58063999-0.0681378j   0.47856376+0.00280187j\n",
            "   0.21683973+0.20746083j  0.57983007-0.11208649j -0.31703902+0.04035836j\n",
            "  -0.09332199-0.6228062j   0.47831586-0.42106411j  0.64734967+0.4277209j\n",
            "  -0.27762167+0.20480644j -0.17345516-0.2216313j  -0.28953551-0.93329078j\n",
            "   0.38844044-0.6115042j   0.26498902-0.22182013j  0.80728656+0.16077366j\n",
            "   0.042381  +0.17993079j  0.0331566 -0.71821373j  0.04159175+0.36114301j\n",
            "  -0.93073651+0.60684418j -0.1602016 -0.25633899j  0.67356751+0.36158122j\n",
            "   0.86249306+0.11747423j  0.6581592 +0.54406789j -0.81849329-0.47969439j\n",
            "  -0.29559643-0.31547301j  0.31153592+0.56271232j  0.04027304-0.28033367j\n",
            "  -0.00626509+0.16870103j  1.15101811+0.22017879j  0.2671996 +0.36919612j\n",
            "   0.61064885+0.16281572j  0.09304199-0.57343302j -0.39631423-0.35648085j\n",
            "  -0.02973344+0.22365064j -0.72605633+0.11077144j  0.05913909+0.29882018j\n",
            "  -0.33896646-0.0208328j  -0.30915671+0.93607298j -0.33363857-0.07988139j\n",
            "  -0.45510168+0.24405163j  0.27258757-0.38592679j  0.564647  -0.13523445j\n",
            "  -1.18940976-0.06447663j -0.60366635-0.86043513j  0.14062053+0.17731745j\n",
            "   0.50589333-0.05409641j -0.46363339-0.83788382j -0.19040967-0.10094279j\n",
            "   0.57107871+0.56380397j  0.2442257 +0.28674239j  0.23622488-0.30845238j\n",
            "  -0.14021602+0.61691877j  0.44011704-0.03087674j  0.13648798-0.23537951j\n",
            "   0.88201091-0.33822523j  0.54602969+0.47504567j  0.07317683+0.37169911j\n",
            "  -1.28441547-0.02292444j -0.32382207-0.00682122j -1.59524926+0.0355313j\n",
            "  -0.13521109-0.00926137j  0.05934342+0.03433097j  0.02871287+0.09286894j\n",
            "  -0.15473926+0.55122533j -0.96821257-0.34507405j -0.07615422-0.81244922j\n",
            "   0.12793227+0.54794673j]]\n",
            "[False False False False  True False False False False  True False False\n",
            " False  True False False False False False False False  True False False\n",
            " False  True False False False False False False  True False False False\n",
            "  True False False False False False  True False  True False False False\n",
            " False False False  True False  True False False False False False False\n",
            "  True  True False False False False False False False False False False\n",
            " False False False  True  True False False False False False False False\n",
            " False False False False False False  True False  True False False  True\n",
            " False  True False False]\n"
          ]
        }
      ],
      "source": [
        "a = zpf(100,2)\n",
        "print(a)\n",
        "print(h_or_v_detector(a, 1))"
      ]
    },
    {
      "cell_type": "code",
      "execution_count": 63,
      "id": "f94b16e9",
      "metadata": {
        "id": "f94b16e9"
      },
      "outputs": [],
      "source": [
        "l,r = ent(100000, 2)\n",
        "lzpf = zpf(100000, 2)\n",
        "rzpf = zpf(100000, 2)"
      ]
    },
    {
      "cell_type": "code",
      "execution_count": 64,
      "id": "7befbe4e",
      "metadata": {
        "colab": {
          "base_uri": "https://localhost:8080/"
        },
        "id": "7befbe4e",
        "outputId": "b39afd4f-32cd-400c-bffe-8696f1ea20f8"
      },
      "outputs": [
        {
          "ename": "AttributeError",
          "evalue": "'tuple' object has no attribute 'T'",
          "output_type": "error",
          "traceback": [
            "\u001b[0;31m---------------------------------------------------------------------------\u001b[0m",
            "\u001b[0;31mAttributeError\u001b[0m                            Traceback (most recent call last)",
            "\u001b[1;32m/home/ronakr/Documents/gbs/gbs.ipynb Cell 47\u001b[0m in \u001b[0;36m<cell line: 11>\u001b[0;34m()\u001b[0m\n\u001b[1;32m      <a href='vscode-notebook-cell://wsl%2Bubuntu-20.04/home/ronakr/Documents/gbs/gbs.ipynb#X64sdnNjb2RlLXJlbW90ZQ%3D%3D?line=7'>8</a>\u001b[0m dlt_and_drt \u001b[39m=\u001b[39m \u001b[39msum\u001b[39m([coincidence_counts[event] \u001b[39mfor\u001b[39;00m event \u001b[39min\u001b[39;00m [(\u001b[39m1\u001b[39m,\u001b[39m0\u001b[39m,\u001b[39m1\u001b[39m,\u001b[39m0\u001b[39m), (\u001b[39m1\u001b[39m,\u001b[39m0\u001b[39m,\u001b[39m1\u001b[39m,\u001b[39m1\u001b[39m), (\u001b[39m1\u001b[39m,\u001b[39m1\u001b[39m,\u001b[39m1\u001b[39m,\u001b[39m0\u001b[39m), (\u001b[39m1\u001b[39m,\u001b[39m1\u001b[39m,\u001b[39m1\u001b[39m,\u001b[39m1\u001b[39m)]])\n\u001b[1;32m      <a href='vscode-notebook-cell://wsl%2Bubuntu-20.04/home/ronakr/Documents/gbs/gbs.ipynb#X64sdnNjb2RlLXJlbW90ZQ%3D%3D?line=8'>9</a>\u001b[0m \u001b[39massert\u001b[39;00m(get_coincidence_count(dlt,drt) \u001b[39m==\u001b[39m dlt_and_drt)\n\u001b[0;32m---> <a href='vscode-notebook-cell://wsl%2Bubuntu-20.04/home/ronakr/Documents/gbs/gbs.ipynb#X64sdnNjb2RlLXJlbW90ZQ%3D%3D?line=10'>11</a>\u001b[0m print_all_coincidence_counts(dlt, dlr, drt, drr)\n",
            "\u001b[1;32m/home/ronakr/Documents/gbs/gbs.ipynb Cell 47\u001b[0m in \u001b[0;36mprint_all_coincidence_counts\u001b[0;34m(*detections)\u001b[0m\n\u001b[1;32m      <a href='vscode-notebook-cell://wsl%2Bubuntu-20.04/home/ronakr/Documents/gbs/gbs.ipynb#X64sdnNjb2RlLXJlbW90ZQ%3D%3D?line=1'>2</a>\u001b[0m \u001b[39mif\u001b[39;00m \u001b[39mlen\u001b[39m(detections) \u001b[39m>\u001b[39m \u001b[39m1\u001b[39m:\n\u001b[1;32m      <a href='vscode-notebook-cell://wsl%2Bubuntu-20.04/home/ronakr/Documents/gbs/gbs.ipynb#X64sdnNjb2RlLXJlbW90ZQ%3D%3D?line=2'>3</a>\u001b[0m     detections \u001b[39m=\u001b[39m np\u001b[39m.\u001b[39marray(detections)\n\u001b[0;32m----> <a href='vscode-notebook-cell://wsl%2Bubuntu-20.04/home/ronakr/Documents/gbs/gbs.ipynb#X64sdnNjb2RlLXJlbW90ZQ%3D%3D?line=3'>4</a>\u001b[0m coincidence_counts \u001b[39m=\u001b[39m get_all_coincidence_counts(detections)\n\u001b[1;32m      <a href='vscode-notebook-cell://wsl%2Bubuntu-20.04/home/ronakr/Documents/gbs/gbs.ipynb#X64sdnNjb2RlLXJlbW90ZQ%3D%3D?line=4'>5</a>\u001b[0m m \u001b[39m=\u001b[39m detections\u001b[39m.\u001b[39mshape[\u001b[39m0\u001b[39m]\n\u001b[1;32m      <a href='vscode-notebook-cell://wsl%2Bubuntu-20.04/home/ronakr/Documents/gbs/gbs.ipynb#X64sdnNjb2RlLXJlbW90ZQ%3D%3D?line=5'>6</a>\u001b[0m \u001b[39mfor\u001b[39;00m i \u001b[39min\u001b[39;00m \u001b[39mrange\u001b[39m(\u001b[39m2\u001b[39m\u001b[39m*\u001b[39m\u001b[39m*\u001b[39mm):\n",
            "\u001b[1;32m/home/ronakr/Documents/gbs/gbs.ipynb Cell 47\u001b[0m in \u001b[0;36mget_all_coincidence_counts\u001b[0;34m(*detections)\u001b[0m\n\u001b[1;32m      <a href='vscode-notebook-cell://wsl%2Bubuntu-20.04/home/ronakr/Documents/gbs/gbs.ipynb#X64sdnNjb2RlLXJlbW90ZQ%3D%3D?line=5'>6</a>\u001b[0m \u001b[39mif\u001b[39;00m \u001b[39mlen\u001b[39m(detections) \u001b[39m>\u001b[39m \u001b[39m1\u001b[39m:\n\u001b[1;32m      <a href='vscode-notebook-cell://wsl%2Bubuntu-20.04/home/ronakr/Documents/gbs/gbs.ipynb#X64sdnNjb2RlLXJlbW90ZQ%3D%3D?line=6'>7</a>\u001b[0m     detections \u001b[39m=\u001b[39m np\u001b[39m.\u001b[39marray(detections)\n\u001b[0;32m----> <a href='vscode-notebook-cell://wsl%2Bubuntu-20.04/home/ronakr/Documents/gbs/gbs.ipynb#X64sdnNjb2RlLXJlbW90ZQ%3D%3D?line=7'>8</a>\u001b[0m \u001b[39mreturn\u001b[39;00m Counter(\u001b[39mmap\u001b[39m(\u001b[39mtuple\u001b[39m, detections\u001b[39m.\u001b[39;49mT))\n",
            "\u001b[0;31mAttributeError\u001b[0m: 'tuple' object has no attribute 'T'"
          ]
        }
      ],
      "source": [
        "lt, lr = pbs(l, lzpf)\n",
        "rt, rr = pbs(r, rzpf)\n",
        "\n",
        "dlt, dlr, drt, drr = meas_all_2(lt, lr, rt, rr)\n",
        "assert(np.array_equal(h_or_v_detector(lt), dlt))\n",
        "\n",
        "coincidence_counts = get_all_coincidence_counts(dlt, dlr, drt, drr)\n",
        "dlt_and_drt = sum([coincidence_counts[event] for event in [(1,0,1,0), (1,0,1,1), (1,1,1,0), (1,1,1,1)]])\n",
        "assert(get_coincidence_count(dlt,drt) == dlt_and_drt)\n",
        "\n",
        "print_all_coincidence_counts(dlt, dlr, drt, drr)\n"
      ]
    },
    {
      "cell_type": "markdown",
      "id": "268a3294",
      "metadata": {
        "id": "268a3294"
      },
      "source": [
        "### Scrap Work\n",
        "\n",
        "Below this point is temporary test code meant to be deleted."
      ]
    },
    {
      "cell_type": "code",
      "execution_count": null,
      "id": "89043d1c",
      "metadata": {
        "colab": {
          "base_uri": "https://localhost:8080/"
        },
        "id": "89043d1c",
        "outputId": "0cb67736-0c87-4d7a-e6f1-6a2f5294f1ab"
      },
      "outputs": [
        {
          "name": "stdout",
          "output_type": "stream",
          "text": [
            "[[-1.71123873+1.03203358j  0.25290903-0.20229517j -1.03858304-1.94695635j\n",
            "  ... -0.65685099+0.50877123j  1.15537025+0.52594587j\n",
            "  -0.80333666+0.24437439j]\n",
            " [-0.17166034-0.92917247j  0.37375949+0.09067783j -0.85774042+0.38727677j\n",
            "  ... -0.74151754+1.58133976j  0.00605111-0.10305549j\n",
            "   0.15554875+0.2018517j ]\n",
            " [-0.62026678+0.65516664j  0.05945093-2.02463451j -1.40302085-1.64506059j\n",
            "  ... -2.59287403+1.0777941j  -0.80680869-0.25058956j\n",
            "  -0.68023773-1.12981556j]\n",
            " ...\n",
            " [-1.09497697+1.33154372j  0.20440019-0.6111026j  -0.02520246-0.53924788j\n",
            "  ... -0.15793673-0.95605601j -0.78757326+1.14971098j\n",
            "  -1.77271476+1.12320909j]\n",
            " [ 0.2072372 -0.17931669j -0.90903383+0.58306946j  1.82195125+1.62878906j\n",
            "  ...  0.16318993-0.37836838j  0.30660305+2.13509794j\n",
            "   0.40238808-0.50211981j]\n",
            " [ 0.34467285+0.63552983j  0.07088629-0.12504365j  0.41811054+1.01116145j\n",
            "  ... -0.17981574-0.60115403j -1.50529948+0.96127839j\n",
            "  -1.61983969+0.89332218j]]\n"
          ]
        }
      ],
      "source": [
        "from scipy.stats import norm\n",
        "\n",
        "distr = norm()\n",
        "reals = distr.rvs(size=(50,100))\n",
        "imags = distr.rvs(size=(50,100))\n",
        "print(reals + 1j * imags)"
      ]
    },
    {
      "cell_type": "code",
      "execution_count": null,
      "id": "f9506669",
      "metadata": {
        "id": "f9506669"
      },
      "outputs": [],
      "source": [
        "import re\n",
        "def f(s):\n",
        "    s = re.sub('\\s+',' ', s)\n",
        "    a = [i.strip().split(' ') for i in s.split(';')]\n",
        "    mat = ', '.join([f'[{\", \".join(b)}]' for b in a])\n",
        "    print(f'np.array([{mat}])')"
      ]
    },
    {
      "cell_type": "code",
      "execution_count": null,
      "id": "9c95a980",
      "metadata": {
        "colab": {
          "base_uri": "https://localhost:8080/"
        },
        "id": "9c95a980",
        "outputId": "ca262eda-3dcc-4bf3-b39f-ebc39685d5a1"
      },
      "outputs": [
        {
          "name": "stdout",
          "output_type": "stream",
          "text": [
            "np.array([[cos(theta)^2, +, 1j*sin(theta)^2, (1-1j)*cos(theta)*sin(theta), (1-1j)*cos(theta)*sin(theta), sin(theta)^2, +, 1j*cos(theta)^2]])\n"
          ]
        }
      ],
      "source": [
        "f('''cos(theta)^2 + 1j*sin(theta)^2 (1-1j)*cos(theta)*sin(theta) (1-1j)*cos(theta)*sin(theta)   sin(theta)^2 + 1j*cos(theta)^2''')"
      ]
    },
    {
      "cell_type": "code",
      "execution_count": null,
      "id": "6c05d96d",
      "metadata": {
        "colab": {
          "base_uri": "https://localhost:8080/"
        },
        "id": "6c05d96d",
        "outputId": "1ad5a2fc-fb50-4525-f438-967552be2459"
      },
      "outputs": [
        {
          "data": {
            "text/plain": [
              "(2.25+0.25j)"
            ]
          },
          "execution_count": 30,
          "metadata": {},
          "output_type": "execute_result"
        }
      ],
      "source": [
        "a = np.array([[1j,2],[3,4]])\n",
        "a.mean()"
      ]
    },
    {
      "cell_type": "code",
      "execution_count": null,
      "id": "6d3d2b12",
      "metadata": {
        "colab": {
          "base_uri": "https://localhost:8080/"
        },
        "id": "6d3d2b12",
        "outputId": "b9cae647-ed93-469d-f824-f43b30f93acf"
      },
      "outputs": [
        {
          "name": "stdout",
          "output_type": "stream",
          "text": [
            "24.9 µs ± 3.9 µs per loop (mean ± std. dev. of 7 runs, 10,000 loops each)\n",
            "(-52.81966246791029+2.3665642474168322j) (-52.819662467910504+2.366564247416818j)\n"
          ]
        }
      ],
      "source": [
        "arr = zpf(1000, 2, 1)\n",
        "# %timeit np.trace(arr.T @ arr) \n",
        "# %timeit np.trace(arr @ arr.T)\n",
        "%timeit np.trace((arr @ arr.T if arr.shape[0] < arr.shape[1] else arr.T @ arr))\n",
        "print(np.trace(arr.T @ arr), np.trace(arr @ arr.T))"
      ]
    },
    {
      "cell_type": "code",
      "execution_count": null,
      "id": "1405aef9",
      "metadata": {
        "colab": {
          "base_uri": "https://localhost:8080/"
        },
        "id": "1405aef9",
        "outputId": "487ef956-0689-4f8a-ec5f-549e547e85ea"
      },
      "outputs": [
        {
          "name": "stdout",
          "output_type": "stream",
          "text": [
            "[[1. 0.]\n",
            " [0. 1.]]\n",
            "[[1. 1.]\n",
            " [1. 1.]]\n",
            "[[1. 1. 0. 0.]\n",
            " [1. 1. 0. 0.]\n",
            " [0. 0. 1. 1.]\n",
            " [0. 0. 1. 1.]]\n"
          ]
        }
      ],
      "source": [
        "print(np.eye(2) * np.ones((2,2)))           # elementwise product\n",
        "print(np.eye(2) @ np.ones((2,2)))           # matrix product\n",
        "print(np.kron(np.eye(2), np.ones((2,2))))   # kronecker product"
      ]
    },
    {
      "cell_type": "code",
      "execution_count": null,
      "id": "4accd4f1",
      "metadata": {
        "colab": {
          "base_uri": "https://localhost:8080/"
        },
        "id": "4accd4f1",
        "outputId": "b5b9d1e0-b08c-42ad-d790-6c7b049b12aa"
      },
      "outputs": [
        {
          "name": "stdout",
          "output_type": "stream",
          "text": [
            "1 2 3\n"
          ]
        }
      ],
      "source": [
        "def temp():\n",
        "    return [1,2,3]\n",
        "\n",
        "a,b,c = temp()\n",
        "print(a,b,c)"
      ]
    },
    {
      "cell_type": "markdown",
      "id": "D5eJv_FPnlr3",
      "metadata": {
        "id": "D5eJv_FPnlr3"
      },
      "source": [
        "# Simulation Model: QM"
      ]
    },
    {
      "cell_type": "markdown",
      "id": "20e7a441",
      "metadata": {},
      "source": [
        "#### Fock basis states"
      ]
    },
    {
      "cell_type": "code",
      "execution_count": null,
      "id": "654009cf",
      "metadata": {},
      "outputs": [],
      "source": [
        "def is_fock_state(np_arr):\n",
        "    return all([i.is_integer() for i in np_arr])"
      ]
    },
    {
      "cell_type": "code",
      "execution_count": null,
      "id": "70oBPCYlnkZH",
      "metadata": {
        "id": "70oBPCYlnkZH"
      },
      "outputs": [],
      "source": [
        "@cache\n",
        "def get_basis_states(n, m):\n",
        "  '''Returns a numpy array of all (n + m - 1 Choose n) Fock basis \n",
        "  states with n particles in m modes.'''\n",
        "\n",
        "  if not isinstance(n, int) or n < 0:\n",
        "    raise ValueError(\"n must be a non-negative integer\")\n",
        "  if not isinstance(m, int) or m < 1:\n",
        "    raise ValueError(\"m must be a positive integer\")\n",
        "\n",
        "  if m == 1:\n",
        "    return np.array([[n]], dtype=int)\n",
        "  if n == 1:\n",
        "    return np.eye(m, dtype=int)\n",
        "\n",
        "  states = None\n",
        "  for i in range(0,n+1):\n",
        "    sub_states = get_basis_states(n-i, m-1)\n",
        "    first_mode = np.full((sub_states.shape[0],1), i)\n",
        "    new_states = np.concatenate((first_mode, sub_states), axis=1)\n",
        "    if i == 0:\n",
        "      states = new_states\n",
        "    else:\n",
        "      states = np.concatenate((states, new_states))\n",
        "  return states\n",
        "     "
      ]
    },
    {
      "cell_type": "markdown",
      "id": "7e44f577",
      "metadata": {},
      "source": [
        "#### HilbertSpaceUnitary"
      ]
    },
    {
      "cell_type": "markdown",
      "id": "V7_LxmJErV4y",
      "metadata": {
        "id": "V7_LxmJErV4y"
      },
      "source": [
        "Recall \n",
        "\n",
        "$$\\langle S | \\varphi (U) | T \\rangle = \\frac{Per(U_{S,T})}{\\sqrt{s_1! \\dots s_m! t_1! \\dots t_m!}}$$\n",
        "\n",
        "See pg 95 of https://www.scottaaronson.com/qisii.pdf for more info."
      ]
    },
    {
      "cell_type": "code",
      "execution_count": null,
      "id": "LXk0KksMsmL7",
      "metadata": {
        "id": "LXk0KksMsmL7"
      },
      "outputs": [],
      "source": [
        "class HilbertSpaceUnitary(object):\n",
        "  '''Converts the m x m unitary of a linear optical network to \n",
        "  the larger M x M unitary acting on the entire Hilbert space,\n",
        "  where M := n+m-1 choose n. Lazily computes entries as needed.'''\n",
        "\n",
        "  def __init__(self, U, n):\n",
        "    self.U = U # U should be an m x m unitary\n",
        "    self.n = n\n",
        "    self.entries = {}\n",
        "    self.factorial = np.vectorize(math.factorial) \n",
        "    # Assuming few collisions, this should be fine. With high photon counts, we \n",
        "    # might consider memozing our factorial function.\n",
        "\n",
        "  def get_entry(self, S, T):\n",
        "    '''This gives the entry <S|\\phi(U)|T>, that is,\n",
        "    the amplitude of a T to S transition.\n",
        "    S and T must both be Fock states.'''\n",
        "\n",
        "    if np.sum(S) != self.n or np.sum(T) != self.n:\n",
        "      raise ValueError(f\"Fock states must have {self.n} particles.\")\n",
        "    if not is_fock_state(S):\n",
        "      raise ValueError(\"S must be a Fock state.\")\n",
        "    if not is_fock_state(T):\n",
        "      raise ValueError(\"T must be a Fock state.\")\n",
        "\n",
        "    key = (S.tobytes(),T.tobytes())\n",
        "    if key not in self.entries:\n",
        "      U_ST = np.repeat(np.repeat(self.U, S, axis=0), T, axis=1).astype(complex)\n",
        "      self.entries[key] = ( \n",
        "          permanent.permanent(U_ST) \n",
        "          / sqrt(np.prod(self.factorial(S)))\n",
        "          / sqrt(np.prod(self.factorial(T)))\n",
        "      ) # watch out for multiplication overflows on normalization factor\n",
        "    return self.entries[key]\n",
        "  \n",
        "  def __get_item__(self, S_and_T):\n",
        "    S,T = S_and_T\n",
        "    return self.get_entry(S,T)"
      ]
    },
    {
      "cell_type": "markdown",
      "id": "babe6a3f",
      "metadata": {},
      "source": [
        "#### get_hilbert_space_unitary_matrix"
      ]
    },
    {
      "cell_type": "code",
      "execution_count": null,
      "id": "c11ce0db",
      "metadata": {},
      "outputs": [],
      "source": [
        "def get_hilbert_space_unitary_matrix(U, n, p=False):\n",
        "  '''Converts the m x m unitary of a linear optical network to \n",
        "  the larger M x M unitary acting on the entire Hilbert space.\n",
        "  U is an m x m unitary (m is number of modes)\n",
        "  n is number of particles\n",
        "  p determines whether or not to print the matrix\n",
        "  M := n+m-1 choose n'''\n",
        "  m = U.shape[0]\n",
        "  basis_states = get_basis_states(n,m)\n",
        "  hsu = HilbertSpaceUnitary(U, n)\n",
        "  M = basis_states.shape[0]\n",
        "  hsu_matrix = np.zeros((M,M), dtype=complex)\n",
        "  for i in range(M):\n",
        "    for j in range(M):\n",
        "      hsu_matrix[i,j] = hsu.get_entry(basis_states[i], basis_states[j])\n",
        "  if p:\n",
        "    rounded_hsu = np.around(hsu_matrix,2)\n",
        "    for i in range(M):\n",
        "      print(basis_states[i], end=':\\t')\n",
        "      print(rounded_hsu[i])\n",
        "  return hsu_matrix"
      ]
    },
    {
      "cell_type": "markdown",
      "id": "473f707b",
      "metadata": {},
      "source": [
        "#### qr_haar"
      ]
    },
    {
      "cell_type": "code",
      "execution_count": null,
      "id": "kO04QEV64lRL",
      "metadata": {
        "id": "kO04QEV64lRL"
      },
      "outputs": [],
      "source": [
        "# Source: https://pennylane.ai/qml/demos/tutorial_haar_measure.html\n",
        "\n",
        "def qr_haar(m):\n",
        "    \"\"\"Generate a Haar-random matrix using the QR decomposition.\n",
        "    m is the number of modes.\"\"\"\n",
        "    # Step 1\n",
        "    A, B = np.random.normal(size=(m, m)), np.random.normal(size=(m, m))\n",
        "    Z = A + 1j * B\n",
        "\n",
        "    # Step 2\n",
        "    Q, R = qr(Z)\n",
        "\n",
        "    # Step 3\n",
        "    Lambda = np.diag([R[i, i] / np.abs(R[i, i]) for i in range(m)])\n",
        "\n",
        "    # Step 4\n",
        "    return np.dot(Q, Lambda)"
      ]
    },
    {
      "cell_type": "markdown",
      "id": "f8cd3367",
      "metadata": {},
      "source": [
        "### Tests"
      ]
    },
    {
      "cell_type": "code",
      "execution_count": null,
      "id": "6459fb31",
      "metadata": {},
      "outputs": [
        {
          "data": {
            "text/plain": [
              "array([[0, 0, 0, ..., 0, 0, 3],\n",
              "       [0, 0, 0, ..., 0, 1, 2],\n",
              "       [0, 0, 0, ..., 0, 2, 1],\n",
              "       ...,\n",
              "       [2, 0, 0, ..., 0, 1, 0],\n",
              "       [2, 0, 0, ..., 0, 0, 1],\n",
              "       [3, 0, 0, ..., 0, 0, 0]])"
            ]
          },
          "execution_count": 39,
          "metadata": {},
          "output_type": "execute_result"
        }
      ],
      "source": [
        "get_basis_states(3,100)"
      ]
    },
    {
      "cell_type": "code",
      "execution_count": null,
      "id": "029c28cd",
      "metadata": {},
      "outputs": [
        {
          "data": {
            "text/plain": [
              "0.0003193031906318097"
            ]
          },
          "execution_count": 40,
          "metadata": {},
          "output_type": "execute_result"
        }
      ],
      "source": [
        "U = qr_haar(100) #np.array([[0, 1], [1, 0]], dtype=complex)\n",
        "\n",
        "#print(U)\n",
        "\n",
        "UH = HilbertSpaceUnitary(U, 1)\n",
        "\n",
        "zers = np.zeros(100, dtype=int)\n",
        "zert = np.zeros(100, dtype=int)\n",
        "\n",
        "zers[0] = 1\n",
        "zert[0] = 1\n",
        "\n",
        "abs(UH.get_entry(zers, zert))**2"
      ]
    },
    {
      "cell_type": "code",
      "execution_count": null,
      "id": "2eb58498",
      "metadata": {},
      "outputs": [
        {
          "name": "stdout",
          "output_type": "stream",
          "text": [
            "[1 0]:\t[0.71-0.j 0.71-0.j]\n",
            "[0 1]:\t[ 0.71-0.j -0.71+0.j]\n",
            "[1 0 0 0 0 0]:\t[ 0.24-0.07j -0.32-0.25j -0.05+0.48j -0.23+0.11j -0.17-0.22j -0.63+0.03j]\n",
            "[0 1 0 0 0 0]:\t[ 0.26+0.18j -0.16+0.29j  0.29-0.42j -0.15-0.22j  0.52-0.29j -0.32+0.09j]\n",
            "[0 0 1 0 0 0]:\t[-0.19-0.51j  0.18+0.24j  0.41-0.04j -0.25+0.11j -0.12-0.11j -0.11-0.58j]\n",
            "[0 0 0 1 0 0]:\t[ 0.16-0.11j  0.07-0.46j  0.12-0.16j -0.58+0.37j  0.3 +0.3j   0.19+0.13j]\n",
            "[0 0 0 0 1 0]:\t[-0.19-0.02j  0.32-0.47j  0.42+0.21j  0.2 -0.13j  0.15-0.53j  0.14+0.2j ]\n",
            "[0 0 0 0 0 1]:\t[ 0.65+0.21j  0.31-0.05j  0.27-0.1j   0.37+0.35j -0.23+0.06j -0.06-0.18j]\n"
          ]
        }
      ],
      "source": [
        "hadamard = np.array([[1, 1], [1, -1]]) / sqrt(2)\n",
        "hsu_had = get_hilbert_space_unitary_matrix(hadamard, 1, True)\n",
        "\n",
        "m = 6\n",
        "U = qr_haar(m)\n",
        "hsu_haar = get_hilbert_space_unitary_matrix(U, 1, True)"
      ]
    },
    {
      "cell_type": "markdown",
      "id": "18318e98",
      "metadata": {},
      "source": [
        "# Experiments"
      ]
    },
    {
      "cell_type": "code",
      "execution_count": null,
      "id": "d8c847b1",
      "metadata": {},
      "outputs": [],
      "source": [
        "def spoof_haar(num_src, N=100):\n",
        "    m = 2*num_src\n",
        "    ents = [ent(N, r=1) for i in range(num_src)]\n",
        "    l_ents = np.concatenate(tuple([ent[0] for ent in ents]))\n",
        "    r_ents = np.concatenate(tuple([ent[1] for ent in ents]))\n",
        "    haar_U = qr_haar(m)\n",
        "    r_ents = haar_U @ r_ents\n",
        "    return meas_all_2(l_ents, detect_model=many_mode_detector), meas_all_2(r_ents, detect_model=many_mode_detector)"
      ]
    },
    {
      "cell_type": "code",
      "execution_count": null,
      "id": "5705aaac",
      "metadata": {},
      "outputs": [
        {
          "name": "stdout",
          "output_type": "stream",
          "text": [
            "<map object at 0x7f095b84c100>\n"
          ]
        },
        {
          "ename": "AttributeError",
          "evalue": "'tuple' object has no attribute 'T'",
          "output_type": "error",
          "traceback": [
            "\u001b[0;31m---------------------------------------------------------------------------\u001b[0m",
            "\u001b[0;31mAttributeError\u001b[0m                            Traceback (most recent call last)",
            "\u001b[1;32mc:/Users/irona/Google Drive/Programs/Python/2019+/GBS/GBS.ipynb Cell 72\u001b[0m in \u001b[0;36m<cell line: 3>\u001b[0;34m()\u001b[0m\n\u001b[1;32m      <a href='vscode-notebook-cell:/c%3A/Users/irona/Google%20Drive/Programs/Python/2019%2B/GBS/GBS.ipynb#Y130sZmlsZQ%3D%3D?line=0'>1</a>\u001b[0m l_res, r_res \u001b[39m=\u001b[39m spoof_haar(\u001b[39m10\u001b[39m)\n\u001b[1;32m      <a href='vscode-notebook-cell:/c%3A/Users/irona/Google%20Drive/Programs/Python/2019%2B/GBS/GBS.ipynb#Y130sZmlsZQ%3D%3D?line=1'>2</a>\u001b[0m \u001b[39mprint\u001b[39m(l_res)\n\u001b[0;32m----> <a href='vscode-notebook-cell:/c%3A/Users/irona/Google%20Drive/Programs/Python/2019%2B/GBS/GBS.ipynb#Y130sZmlsZQ%3D%3D?line=2'>3</a>\u001b[0m print_all_coincidence_counts(l_res)\n\u001b[1;32m      <a href='vscode-notebook-cell:/c%3A/Users/irona/Google%20Drive/Programs/Python/2019%2B/GBS/GBS.ipynb#Y130sZmlsZQ%3D%3D?line=3'>4</a>\u001b[0m print_all_coincidence_counts(r_res)\n",
            "\u001b[1;32mc:/Users/irona/Google Drive/Programs/Python/2019+/GBS/GBS.ipynb Cell 72\u001b[0m in \u001b[0;36mprint_all_coincidence_counts\u001b[0;34m(*detections)\u001b[0m\n\u001b[1;32m      <a href='vscode-notebook-cell:/c%3A/Users/irona/Google%20Drive/Programs/Python/2019%2B/GBS/GBS.ipynb#Y130sZmlsZQ%3D%3D?line=1'>2</a>\u001b[0m \u001b[39mif\u001b[39;00m \u001b[39mlen\u001b[39m(detections) \u001b[39m>\u001b[39m \u001b[39m1\u001b[39m:\n\u001b[1;32m      <a href='vscode-notebook-cell:/c%3A/Users/irona/Google%20Drive/Programs/Python/2019%2B/GBS/GBS.ipynb#Y130sZmlsZQ%3D%3D?line=2'>3</a>\u001b[0m     detections \u001b[39m=\u001b[39m np\u001b[39m.\u001b[39marray(detections)\n\u001b[0;32m----> <a href='vscode-notebook-cell:/c%3A/Users/irona/Google%20Drive/Programs/Python/2019%2B/GBS/GBS.ipynb#Y130sZmlsZQ%3D%3D?line=3'>4</a>\u001b[0m coincidence_counts \u001b[39m=\u001b[39m get_all_coincidence_counts(detections)\n\u001b[1;32m      <a href='vscode-notebook-cell:/c%3A/Users/irona/Google%20Drive/Programs/Python/2019%2B/GBS/GBS.ipynb#Y130sZmlsZQ%3D%3D?line=4'>5</a>\u001b[0m m \u001b[39m=\u001b[39m detections\u001b[39m.\u001b[39mshape[\u001b[39m0\u001b[39m]\n\u001b[1;32m      <a href='vscode-notebook-cell:/c%3A/Users/irona/Google%20Drive/Programs/Python/2019%2B/GBS/GBS.ipynb#Y130sZmlsZQ%3D%3D?line=5'>6</a>\u001b[0m \u001b[39mfor\u001b[39;00m i \u001b[39min\u001b[39;00m \u001b[39mrange\u001b[39m(\u001b[39m2\u001b[39m\u001b[39m*\u001b[39m\u001b[39m*\u001b[39mm):\n",
            "\u001b[1;32mc:/Users/irona/Google Drive/Programs/Python/2019+/GBS/GBS.ipynb Cell 72\u001b[0m in \u001b[0;36mget_all_coincidence_counts\u001b[0;34m(*detections)\u001b[0m\n\u001b[1;32m      <a href='vscode-notebook-cell:/c%3A/Users/irona/Google%20Drive/Programs/Python/2019%2B/GBS/GBS.ipynb#Y130sZmlsZQ%3D%3D?line=5'>6</a>\u001b[0m \u001b[39mif\u001b[39;00m \u001b[39mlen\u001b[39m(detections) \u001b[39m>\u001b[39m \u001b[39m1\u001b[39m:\n\u001b[1;32m      <a href='vscode-notebook-cell:/c%3A/Users/irona/Google%20Drive/Programs/Python/2019%2B/GBS/GBS.ipynb#Y130sZmlsZQ%3D%3D?line=6'>7</a>\u001b[0m     detections \u001b[39m=\u001b[39m np\u001b[39m.\u001b[39marray(detections)\n\u001b[0;32m----> <a href='vscode-notebook-cell:/c%3A/Users/irona/Google%20Drive/Programs/Python/2019%2B/GBS/GBS.ipynb#Y130sZmlsZQ%3D%3D?line=7'>8</a>\u001b[0m \u001b[39mreturn\u001b[39;00m Counter(\u001b[39mmap\u001b[39m(\u001b[39mtuple\u001b[39m, detections\u001b[39m.\u001b[39;49mT))\n",
            "\u001b[0;31mAttributeError\u001b[0m: 'tuple' object has no attribute 'T'"
          ]
        }
      ],
      "source": [
        "l_res, r_res = spoof_haar(10)\n",
        "print(l_res)\n",
        "print_all_coincidence_counts(l_res)\n",
        "print_all_coincidence_counts(r_res)"
      ]
    },
    {
      "cell_type": "code",
      "execution_count": null,
      "id": "6232537f",
      "metadata": {},
      "outputs": [
        {
          "ename": "NameError",
          "evalue": "name 'ent' is not defined",
          "output_type": "error",
          "traceback": [
            "\u001b[0;31m---------------------------------------------------------------------------\u001b[0m",
            "\u001b[0;31mNameError\u001b[0m                                 Traceback (most recent call last)",
            "\u001b[1;32m/home/ronakr/Documents/gbs/gbs.ipynb Cell 74\u001b[0m in \u001b[0;36m<cell line: 1>\u001b[0;34m()\u001b[0m\n\u001b[0;32m----> <a href='vscode-notebook-cell://wsl%2Bubuntu-20.04/home/ronakr/Documents/gbs/gbs.ipynb#Y133sdnNjb2RlLXJlbW90ZQ%3D%3D?line=0'>1</a>\u001b[0m \u001b[39mprint\u001b[39m(ent(\u001b[39m17\u001b[39m,r\u001b[39m=\u001b[39m\u001b[39m1\u001b[39m))\n",
            "\u001b[0;31mNameError\u001b[0m: name 'ent' is not defined"
          ]
        }
      ],
      "source": [
        "print(ent(17,r=1))"
      ]
    }
  ],
  "metadata": {
    "colab": {
      "collapsed_sections": [],
      "provenance": [],
      "toc_visible": true
    },
    "kernelspec": {
      "display_name": "Python 3.10.4 ('ronakr': conda)",
      "language": "python",
      "name": "python3"
    },
    "language_info": {
      "codemirror_mode": {
        "name": "ipython",
        "version": 3
      },
      "file_extension": ".py",
      "mimetype": "text/x-python",
      "name": "python",
      "nbconvert_exporter": "python",
      "pygments_lexer": "ipython3",
      "version": "3.10.4"
    },
    "vscode": {
      "interpreter": {
        "hash": "eaba163e9a8852b62833323186c9b1ec3be888b762b728d20972db8b5137f3e8"
      }
    }
  },
  "nbformat": 4,
  "nbformat_minor": 5
}
