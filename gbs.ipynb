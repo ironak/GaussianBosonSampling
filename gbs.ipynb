{
  "cells": [
    {
      "cell_type": "code",
      "execution_count": 87,
      "id": "7oOTz6qTnAES",
      "metadata": {
        "colab": {
          "base_uri": "https://localhost:8080/"
        },
        "id": "7oOTz6qTnAES",
        "outputId": "27511422-c58e-4319-a52a-69cf1cd4ea69"
      },
      "outputs": [],
      "source": [
        "#!pip install permanent"
      ]
    },
    {
      "cell_type": "code",
      "execution_count": 88,
      "id": "5148d780",
      "metadata": {
        "id": "5148d780"
      },
      "outputs": [],
      "source": [
        "import matplotlib.pyplot as plt\n",
        "plt.style.use('_mpl-gallery')\n",
        "\n",
        "import math\n",
        "import numpy as np\n",
        "from numpy import sqrt, exp, cos, sin, cosh, sinh, conj\n",
        "from numpy.linalg import qr\n",
        "from collections import Counter\n",
        "from permanent import permanent\n",
        "from functools import cache"
      ]
    },
    {
      "cell_type": "code",
      "execution_count": 89,
      "id": "72d4f33c",
      "metadata": {
        "id": "72d4f33c"
      },
      "outputs": [],
      "source": [
        "from typing import Tuple\n",
        "# TODO: See pbs. Should we add type annotations?"
      ]
    },
    {
      "attachments": {},
      "cell_type": "markdown",
      "id": "3a67b235",
      "metadata": {},
      "source": [
        "# Notes\n",
        "\n",
        "#### This is some convention used in the code below for variable names:\n",
        "\n",
        "`gamma` = measurement threshold\n",
        "\n",
        "`r` = squeezing strength\n",
        "\n",
        "`N` = number of samples\n",
        "\n",
        "`n` = number of particles\n",
        "\n",
        "`m` = number of modes\n",
        "\n",
        "`M` = dimension of Bosonic Hilbert space; $M := \\binom{n + m - 1}{n}$\n",
        "\n",
        "Most matrices are `m` x `N`, meaning that there is a row for each mode, and each column is one sample.\n",
        "\n",
        "#### Section headers follow the following indentation:\n",
        "\n",
        "\\# Main Section Header\n",
        "\n",
        "\\#\\# Subsection Header\n",
        "\n",
        "\\#\\#\\# Large group of related functions/code/markdown\n",
        "\n",
        "\\#\\#\\#\\# Single function or tightly related code/markdown blocks"
      ]
    },
    {
      "cell_type": "markdown",
      "id": "nfawh-cLk0Jy",
      "metadata": {
        "id": "nfawh-cLk0Jy"
      },
      "source": [
        "# Simulation Model: Threshold Detectors and Squeezed States"
      ]
    },
    {
      "attachments": {},
      "cell_type": "markdown",
      "id": "a3e53f2a",
      "metadata": {
        "id": "a3e53f2a"
      },
      "source": [
        "### Measurement\n",
        "\n",
        "Detectors take in matrices of `N` samples and return boolean arrays of detection events. "
      ]
    },
    {
      "cell_type": "code",
      "execution_count": 90,
      "id": "59d460c9",
      "metadata": {
        "id": "59d460c9"
      },
      "outputs": [],
      "source": [
        "DEFAULT_MEAS_THRESH = 1.9494"
      ]
    },
    {
      "attachments": {},
      "cell_type": "markdown",
      "id": "801b7524",
      "metadata": {},
      "source": [
        "#### `threshold_detector`\n",
        "Standard many-mode threshold detector. Imagines every mode has its own detector which independently clicks if the amplitude on that mode exceeds the measurement threshold."
      ]
    },
    {
      "cell_type": "code",
      "execution_count": 91,
      "id": "23e4a345",
      "metadata": {},
      "outputs": [],
      "source": [
        "def threshold_detector(a, gamma=DEFAULT_MEAS_THRESH):\n",
        "    '''Clicks if an amplitude exceeds measurement threshold.\n",
        "    a : m x N complex matrix = [a_11 ... a_1N; ...; a_m1 ... a_mN]\n",
        "        Each column is a sample with m components (modes)\n",
        "    gamma : double = measurement threshold\n",
        "    output : m x N bool array = [b_11 ... b_1N; ...; b_m1 ... b_mN]\n",
        "        b_ij := (a_ij > gamma)'''\n",
        "\n",
        "    return abs(a) > gamma"
      ]
    },
    {
      "attachments": {},
      "cell_type": "markdown",
      "id": "Lf1SDG7zoyC5",
      "metadata": {
        "id": "Lf1SDG7zoyC5"
      },
      "source": [
        "#### `h_or_v_detector`\n",
        "\n",
        "Effectively the same as `threshold_detector(a, gamma).any(axis=0)` limited to matrices with two rows."
      ]
    },
    {
      "cell_type": "code",
      "execution_count": 92,
      "id": "8db9421a",
      "metadata": {
        "id": "8db9421a"
      },
      "outputs": [],
      "source": [
        "def h_or_v_detector(a: np.ndarray, gamma=DEFAULT_MEAS_THRESH):\n",
        "    '''Clicks if horizontal or vertical polarization component of sample exceeds measurement threshold.\n",
        "    a : 2 x N complex matrix = [h_1 ... h_n; v_1 ... v_n]\n",
        "        Each column is a sample [h_i; v_i] with a horizontal and vertical polarization component\n",
        "    gamma : double = measurement threshold\n",
        "    output : 1 x N bool array = [b_1 ... b_n]\n",
        "        b_i := (|h_i| > gamma) or (|v_i| > gamma)'''\n",
        "        \n",
        "    if a.shape[0] != 2:\n",
        "        raise ValueError(\"Sample array 'a' must have 2 rows.\")\n",
        "\n",
        "    return np.bitwise_or(abs(a[0,:]) > gamma, abs(a[1,:]) > gamma)"
      ]
    },
    {
      "attachments": {},
      "cell_type": "markdown",
      "id": "OSaIm3Qlo282",
      "metadata": {
        "id": "OSaIm3Qlo282"
      },
      "source": [
        "#### `norm_detector`\n",
        "\n",
        "Not currently used anywhere."
      ]
    },
    {
      "cell_type": "code",
      "execution_count": 93,
      "id": "jjGiGNtnD-g0",
      "metadata": {
        "id": "jjGiGNtnD-g0"
      },
      "outputs": [],
      "source": [
        "def norm_detector(a: np.ndarray, gamma=DEFAULT_MEAS_THRESH):\n",
        "    '''Clicks if norm of sample exceeds measurement threshold.\n",
        "    a : m x N complex matrix = [s_1 ... s_N]\n",
        "        Each column is a sample s_i with m components (modes)\n",
        "    gamma : double = measurement threshold\n",
        "    output : 1 x N bool array = [b_1 ... b_n]\n",
        "        b_i := (||s_i|| > gamma)'''\n",
        "    return np.linalg.norm(a, axis=1) > gamma"
      ]
    },
    {
      "attachments": {},
      "cell_type": "markdown",
      "id": "8V3gOYK0pGMd",
      "metadata": {
        "id": "8V3gOYK0pGMd"
      },
      "source": [
        "#### `get_coincidence_count`"
      ]
    },
    {
      "cell_type": "code",
      "execution_count": 94,
      "id": "09b86e5f",
      "metadata": {
        "id": "09b86e5f"
      },
      "outputs": [],
      "source": [
        "def get_coincidence_count(detections: np.ndarray):\n",
        "    '''Returns the number of times all provided detectors simultanously clicked.\n",
        "    detections : m x N bool matrix\n",
        "    output : int = number of all-one columns in detections matrix'''\n",
        "    return np.count_nonzero(np.sum(detections, axis=0) == detections.shape[0])"
      ]
    },
    {
      "attachments": {},
      "cell_type": "markdown",
      "id": "KJZleISXpLmv",
      "metadata": {
        "id": "KJZleISXpLmv"
      },
      "source": [
        "#### `get_all_coincidence_counts`"
      ]
    },
    {
      "cell_type": "code",
      "execution_count": 95,
      "id": "840861eb",
      "metadata": {
        "id": "840861eb"
      },
      "outputs": [],
      "source": [
        "def get_all_coincidence_counts(detections: np.ndarray):\n",
        "    '''Counts the number of times every possible detection event occurs\n",
        "    A detection event is a bitstring with 1's at the indices of all detectors that \n",
        "    clicked and 0's at the indices of all detectors which did not.\n",
        "    Returns a Counter object with detection events (as tuples) mapped to counts.\n",
        "    Counters behave like dicts.\n",
        "    detections : m x N bool matrix\n",
        "    output : Dict[tuple, int] \n",
        "        Example: if output[(1,0,0)] == 21, then the event (1,0,0), aka\n",
        "        \"only the detector on mode 0 clicked,\" happened 21 times.'''\n",
        "    return Counter(map(tuple, detections.T))"
      ]
    },
    {
      "attachments": {},
      "cell_type": "markdown",
      "id": "4rRCS2D5pOfs",
      "metadata": {
        "id": "4rRCS2D5pOfs"
      },
      "source": [
        "#### `print_all_coincidence_counts`\n",
        "\n",
        "Exponential runtime in m, the number of modes. Linear runtime in N, the number of samples. \n",
        "\n",
        "Should only be used on inputs with few modes. Can be used when there are many samples."
      ]
    },
    {
      "cell_type": "code",
      "execution_count": 96,
      "id": "e16c2929",
      "metadata": {
        "id": "e16c2929"
      },
      "outputs": [],
      "source": [
        "def print_all_coincidence_counts(detections: np.ndarray):\n",
        "    coincidence_counts = get_all_coincidence_counts(detections)\n",
        "    m = detections.shape[0]\n",
        "    for i in range(2**m):\n",
        "        bitvector = np.frombuffer(np.binary_repr(i, width=m).encode(), dtype='S1').astype(int)\n",
        "        detectors = np.binary_repr(i, width=m) # ', '.join(np.flatnonzero(bitvector).astype(str))\n",
        "        print(detectors, coincidence_counts[tuple(bitvector)])"
      ]
    },
    {
      "cell_type": "markdown",
      "id": "8031e6a0",
      "metadata": {
        "id": "8031e6a0"
      },
      "source": [
        "### State Preparation"
      ]
    },
    {
      "attachments": {},
      "cell_type": "markdown",
      "id": "9nZg9_56oEK9",
      "metadata": {
        "id": "9nZg9_56oEK9"
      },
      "source": [
        "#### `zpf`"
      ]
    },
    {
      "cell_type": "code",
      "execution_count": 97,
      "id": "9f267328",
      "metadata": {
        "id": "9f267328"
      },
      "outputs": [],
      "source": [
        "def zpf(N: int, m=1, sigma=1/sqrt(2)):\n",
        "    '''Zero-point field\n",
        "    N is the number of samples\n",
        "    m is the number of modes\n",
        "    sigma is the standard deviation of the quantum noise\n",
        "    sigma = 1/sqrt(2) corresponds to the vacuum state\n",
        "    sigma > 1/sqrt(2) corresponds to a thermal state\n",
        "    sigma = 0 corresponds to a classical (i.e., no ZPF) state\n",
        "    \n",
        "    Returns an m x N matrix of complex Gaussian random variables.'''\n",
        "    \n",
        "    return sigma * (np.random.normal(size=(m,N)) + 1j * np.random.normal(size=(m,N))) / sqrt(2)"
      ]
    },
    {
      "attachments": {},
      "cell_type": "markdown",
      "id": "TucKgY0toRYB",
      "metadata": {
        "id": "TucKgY0toRYB"
      },
      "source": [
        "#### `laser`"
      ]
    },
    {
      "cell_type": "code",
      "execution_count": 131,
      "id": "4e6fa483",
      "metadata": {
        "id": "4e6fa483"
      },
      "outputs": [],
      "source": [
        "def laser(N: int, alphaH=1, alphaV=0):\n",
        "    '''Laser\n",
        "    alphaH and alphaV are each complex numbers\n",
        "    \n",
        "    Returns a 2 x N matrix of N samples of coherent light.\n",
        "        Each sample has a horizontal and vertical polarization component.\n",
        "        The output is identical to a zpf with the horizontal component\n",
        "        offset by alphaH and the vertical component offset by alphaV.'''\n",
        "\n",
        "    # scale of vacuum fluctations\n",
        "    sigma0 = 1/sqrt(2)\n",
        "\n",
        "    # input random variables for the entanglement source\n",
        "    zH = zpf(N, 1, sigma0)\n",
        "    zV = zpf(N, 1, sigma0)\n",
        "\n",
        "    aH = alphaH + zH\n",
        "    aV = alphaV + zV\n",
        "\n",
        "    return np.concatenate((aH, aV))"
      ]
    },
    {
      "attachments": {},
      "cell_type": "markdown",
      "id": "JQAvDOFfoS55",
      "metadata": {
        "id": "JQAvDOFfoS55"
      },
      "source": [
        "#### `ent`"
      ]
    },
    {
      "cell_type": "code",
      "execution_count": 99,
      "id": "a77e3ac5",
      "metadata": {
        "id": "a77e3ac5"
      },
      "outputs": [],
      "source": [
        "def ent(N: int, r: float, t=1, phase=0):\n",
        "    '''Entanglement source\n",
        "    N is the number of samples\n",
        "    r is the squeezing strength (non-negative)\n",
        "    t (type) is 1 or 2\n",
        "    phase is in degrees.\n",
        "    \n",
        "    Returns a tuple of two 2 x N matrices representing entangled\n",
        "        light with horizonal and vertical polarization modes.'''\n",
        "\n",
        "    # convert degrees to radians\n",
        "    phase = phase * np.pi/180\n",
        "    \n",
        "    #input random variables for the entanglement source\n",
        "    z1H = zpf(N, 1)\n",
        "    z1V = zpf(N, 1)\n",
        "    z2H = zpf(N, 1)\n",
        "    z2V = zpf(N, 1)\n",
        "\n",
        "    if t == 1:\n",
        "        aH = cosh(r)*z1H + sinh(r)*conj(z2H)\n",
        "        aV = cosh(r)*z1V + exp(1j*phase)*sinh(r)*conj(z2V)\n",
        "        bH = cosh(r)*z2H + sinh(r)*conj(z1H)\n",
        "        bV = cosh(r)*z2V + exp(1j*phase)*sinh(r)*conj(z1V)\n",
        "    elif t == 2:\n",
        "        aH = cosh(r)*z1H + sinh(r)*conj(z2V)\n",
        "        aV = cosh(r)*z1V + exp(1j*phase)*sinh(r)*conj(z2H)\n",
        "        bH = cosh(r)*z2H + exp(1j*phase)*sinh(r)*conj(z1V)\n",
        "        bV = cosh(r)*z2V + sinh(r)*conj(z1H)\n",
        "    else:\n",
        "        print(f\"{t} is not a valid type.\")\n",
        "        return\n",
        "\n",
        "    return np.concatenate((aH, aV)), np.concatenate((bH, bV))"
      ]
    },
    {
      "cell_type": "markdown",
      "id": "8f1e2938",
      "metadata": {
        "id": "8f1e2938"
      },
      "source": [
        "### Gates \n",
        "\n",
        "Filters, Waveplates, and Beamsplitters"
      ]
    },
    {
      "attachments": {},
      "cell_type": "markdown",
      "id": "bjdpkslQoeoe",
      "metadata": {
        "id": "bjdpkslQoeoe"
      },
      "source": [
        "#### `ndf` (neutral density filter)"
      ]
    },
    {
      "cell_type": "code",
      "execution_count": 100,
      "id": "9990ce2c",
      "metadata": {
        "id": "9990ce2c"
      },
      "outputs": [],
      "source": [
        "def ndf(a: np.ndarray, d=10):\n",
        "    '''Neutral density filter\n",
        "    d is the optical density (a non-negative number)'''\n",
        "\n",
        "    if d < 0:\n",
        "        raise ValueError(\"Optical density d must be non-negative.\")\n",
        "\n",
        "    return 10**(-d/2) @ a + (1-10**(-d/2)) @ zpf(a.shape[1], 2)"
      ]
    },
    {
      "attachments": {},
      "cell_type": "markdown",
      "id": "UQAzYJTPojKg",
      "metadata": {
        "id": "UQAzYJTPojKg"
      },
      "source": [
        "#### `hwp`"
      ]
    },
    {
      "cell_type": "code",
      "execution_count": 101,
      "id": "cca70d8e",
      "metadata": {
        "id": "cca70d8e"
      },
      "outputs": [],
      "source": [
        "def hwp(a: np.ndarray, theta=0):\n",
        "    '''Half-wave plate\n",
        "    a is a 2 x N complex matrix\n",
        "    theta is the fast-axis angle in degrees'''\n",
        "\n",
        "    # convert degrees to radians\n",
        "    theta = theta * np.pi/180\n",
        "\n",
        "    u = np.array([\n",
        "        [cos(2*theta), sin(2*theta)], \n",
        "        [sin(2*theta), -cos(2*theta)]])\n",
        "        \n",
        "    return u @ a"
      ]
    },
    {
      "attachments": {},
      "cell_type": "markdown",
      "id": "uwC627NJomMn",
      "metadata": {
        "id": "uwC627NJomMn"
      },
      "source": [
        "#### `qwp`"
      ]
    },
    {
      "cell_type": "code",
      "execution_count": 102,
      "id": "3ce55e16",
      "metadata": {
        "id": "3ce55e16"
      },
      "outputs": [],
      "source": [
        "def qwp(a: np.ndarray, theta=0):\n",
        "    '''Quarter-wave plate\n",
        "    a is a 2 x N complex matrix\n",
        "    theta is the fast-axis angle in degrees'''\n",
        "\n",
        "    # convert degrees to radians\n",
        "    theta = theta * np.pi/180\n",
        "\n",
        "    u = np.array([\n",
        "        [cos(theta)^2 + 1j*sin(theta)^2, (1-1j)*cos(theta)*sin(theta)], \n",
        "        [(1-1j)*cos(theta)*sin(theta), sin(theta)^2 + 1j*cos(theta)^2]])\n",
        "        \n",
        "    return u @ a"
      ]
    },
    {
      "attachments": {},
      "cell_type": "markdown",
      "id": "KSYHBvM7oopt",
      "metadata": {
        "id": "KSYHBvM7oopt"
      },
      "source": [
        "#### `polarizer`"
      ]
    },
    {
      "cell_type": "code",
      "execution_count": 103,
      "id": "607c6dcb",
      "metadata": {
        "id": "607c6dcb"
      },
      "outputs": [],
      "source": [
        "def polarizer(a: np.ndarray, theta=0, phi=0):\n",
        "    '''Polarizer\n",
        "    a is a 2 x N complex matrix\n",
        "    theta, phi are in degrees'''\n",
        "\n",
        "    # convert degrees to radians\n",
        "    theta = theta * np.pi/180\n",
        "    phi = phi * np.pi/180\n",
        "\n",
        "    # make projector p\n",
        "    bra = np.array([cos(theta), exp(1j*phi)*sin(theta)])\n",
        "    p = bra.T @ bra\n",
        "\n",
        "    return p @ a + (np.eye(2) - p) @ zpf(a.shape[1], 2)"
      ]
    },
    {
      "attachments": {},
      "cell_type": "markdown",
      "id": "G-z5-iFHorGJ",
      "metadata": {
        "id": "G-z5-iFHorGJ"
      },
      "source": [
        "#### `bs`"
      ]
    },
    {
      "cell_type": "code",
      "execution_count": 104,
      "id": "d85e1dec",
      "metadata": {
        "id": "d85e1dec"
      },
      "outputs": [],
      "source": [
        "def bs(a: np.ndarray, b: np.ndarray, r=1/sqrt(2)):\n",
        "    '''Beam splitter\n",
        "    a and b are each 2 x N complex matrices\n",
        "    r is the reflectance (0 <= r <= 1)'''\n",
        "\n",
        "    #TODO: where are the defaults / vacuum state logic? (see polarizing beam splitter)\n",
        "\n",
        "    t = sqrt(1-r^2)\n",
        "\n",
        "    out = np.kron(np.array([[t, r], [r, -t]]), np.eye(2)) @ np.concatenate((a, b))\n",
        "\n",
        "    return out[0:2,:], out[2:4,:]\n",
        "\n",
        "    # TODO: why not just \n",
        "    # u = np.array([[t, r], [r, -t]])\n",
        "    # return u @ a, u @ b"
      ]
    },
    {
      "attachments": {},
      "cell_type": "markdown",
      "id": "y6YP4ViDos55",
      "metadata": {
        "id": "y6YP4ViDos55"
      },
      "source": [
        "#### `pbs`"
      ]
    },
    {
      "cell_type": "code",
      "execution_count": 105,
      "id": "75b51a66",
      "metadata": {
        "id": "75b51a66"
      },
      "outputs": [],
      "source": [
        "HV = np.array([[1, 0, 0, 0], \n",
        "               [0, 0, 0, 1], \n",
        "               [0, 0, 1, 0], \n",
        "               [0, 1, 0, 0]])\n",
        "\n",
        "DA = np.array([[1, 1, 1, -1],\n",
        "               [1, 1, -1, 1], \n",
        "               [1, -1, 1, 1], \n",
        "               [-1, 1, 1, 1]])\n",
        "\n",
        "RL = np.array([[1, -1j, 1, 1j], \n",
        "               [1j, 1, -1j, 1],\n",
        "               [1, 1j, 1, -1j],\n",
        "               [-1j, 1, 1j, 1]])"
      ]
    },
    {
      "cell_type": "code",
      "execution_count": 106,
      "id": "750d05d2",
      "metadata": {
        "id": "750d05d2"
      },
      "outputs": [],
      "source": [
        "def pbs(\n",
        "    a: np.ndarray = None, \n",
        "    b: np.ndarray = None, \n",
        "    basis=HV\n",
        "    ) -> Tuple[np.ndarray, np.ndarray]:\n",
        "    \"\"\"Polarizing beam splitter\n",
        "    a and b are each 2 x N complex matrices\n",
        "    basis is a 4 x 4 complex matrix\"\"\"\n",
        "\n",
        "    if a is None and b is None:\n",
        "        raise ValueError(\"At least one input beam must be specified.\")\n",
        "    elif a is None:\n",
        "        a = zpf(b.shape[1], 2)\n",
        "    elif b is None:\n",
        "        b = zpf(a.shape[1], 2)\n",
        "        \n",
        "    out = basis @ np.concatenate((a, b))\n",
        "    \n",
        "    return out[0:2,:], out[2:4,:]"
      ]
    },
    {
      "attachments": {},
      "cell_type": "markdown",
      "id": "49b6b2aa",
      "metadata": {
        "id": "49b6b2aa"
      },
      "source": [
        "## Tests\n",
        "\n",
        "Tests are not currently comprehensive nor rigorous. Outputs need to be checked by eye.\n",
        "\n",
        "TESTS ARE ABLE TO RUN != CODE IS WORKING CORRECTLY"
      ]
    },
    {
      "attachments": {},
      "cell_type": "markdown",
      "id": "70a76826",
      "metadata": {},
      "source": [
        "### test `zpf`"
      ]
    },
    {
      "cell_type": "code",
      "execution_count": 107,
      "id": "53b5136e",
      "metadata": {
        "id": "53b5136e"
      },
      "outputs": [],
      "source": [
        "def check_expectations(arr: np.ndarray):\n",
        "    # avg z\n",
        "    exp_val = arr.mean()\n",
        "\n",
        "    # avg z^T z for every column z in arr\n",
        "    # if statement optimizes speed\n",
        "    trans = np.trace((arr @ arr.T if arr.shape[0] < arr.shape[1] else arr.T @ arr)) / arr.shape[1]\n",
        "\n",
        "    # avg z^H z for every column z in arr\n",
        "    herm = np.linalg.norm(arr, axis=0).mean()\n",
        "    \n",
        "    print(f\"E[z] = {exp_val} should be 0.\")\n",
        "    print(f\"E[z^T z] = {trans} should be 0.\")\n",
        "    print(f\"E[z^H z] = {herm} should be 1.\")"
      ]
    },
    {
      "cell_type": "code",
      "execution_count": 108,
      "id": "110fc168",
      "metadata": {
        "colab": {
          "base_uri": "https://localhost:8080/"
        },
        "id": "110fc168",
        "outputId": "7f282307-2f3a-439f-915b-38442c431a16"
      },
      "outputs": [
        {
          "name": "stdout",
          "output_type": "stream",
          "text": [
            "E[z] = (-0.0002247998306081306-0.00023568060834682392j) should be 0.\n",
            "E[z^T z] = (0.00026112631202961203-0.00047161651709359576j) should be 0.\n",
            "E[z^H z] = 0.9402599325835781 should be 1.\n"
          ]
        }
      ],
      "source": [
        "vac = zpf(1000000, 2)\n",
        "check_expectations(vac)"
      ]
    },
    {
      "attachments": {},
      "cell_type": "markdown",
      "id": "4a93878e",
      "metadata": {},
      "source": [
        "### test `threshold_detector` and `h_or_v_detector`"
      ]
    },
    {
      "cell_type": "code",
      "execution_count": 109,
      "id": "9a4bf8d6",
      "metadata": {
        "colab": {
          "base_uri": "https://localhost:8080/"
        },
        "id": "9a4bf8d6",
        "outputId": "7218db8b-5b54-4e9e-ae64-8e06d1bbf3a9"
      },
      "outputs": [
        {
          "name": "stdout",
          "output_type": "stream",
          "text": [
            "[[False False False False False False False False False False False  True\n",
            "  False  True False False False False  True False  True False False False\n",
            "  False False False  True False False False False False False False False\n",
            "   True False  True False False False False False False False False False\n",
            "   True False False  True False False False False  True False  True  True\n",
            "  False False False False False False False False False False False  True\n",
            "   True False False False False False False False False  True False False\n",
            "  False False False False False False False False  True False False False\n",
            "  False False False False]\n",
            " [False False False False False False False  True False False False False\n",
            "   True False False False False False False False False  True False False\n",
            "  False False  True  True False False False False  True False False False\n",
            "  False False  True False False False  True False False False False False\n",
            "   True  True False False False False False False False False False False\n",
            "  False False False  True False  True False False False False False False\n",
            "  False False  True False False False False False False  True False False\n",
            "  False False False False False False False False False  True  True False\n",
            "  False False False False]]\n",
            "[False False False False False False False  True False False False  True\n",
            "  True  True False False False False  True False  True  True False False\n",
            " False False  True  True False False False False  True False False False\n",
            "  True False  True False False False  True False False False False False\n",
            "  True  True False  True False False False False  True False  True  True\n",
            " False False False  True False  True False False False False False  True\n",
            "  True False  True False False False False False False  True False False\n",
            " False False False False False False False False  True  True  True False\n",
            " False False False False]\n"
          ]
        }
      ],
      "source": [
        "a = zpf(100,2)\n",
        "\n",
        "#print(a)\n",
        "\n",
        "td = threshold_detector(a, 1)\n",
        "print(td)\n",
        "\n",
        "hv = h_or_v_detector(a, 1)\n",
        "print(hv)\n",
        "\n",
        "td_any = td.any(axis=0)\n",
        "assert(np.array_equal(hv, td_any))"
      ]
    },
    {
      "attachments": {},
      "cell_type": "markdown",
      "id": "803a8807",
      "metadata": {},
      "source": [
        "### test `ent`, `zpf`, `pbs`, coincidence counters"
      ]
    },
    {
      "cell_type": "code",
      "execution_count": 110,
      "id": "f94b16e9",
      "metadata": {
        "id": "f94b16e9"
      },
      "outputs": [],
      "source": [
        "l,r = ent(1000, 2)\n",
        "lzpf = zpf(1000, 2)\n",
        "rzpf = zpf(1000, 2)"
      ]
    },
    {
      "cell_type": "code",
      "execution_count": 111,
      "id": "7befbe4e",
      "metadata": {
        "colab": {
          "base_uri": "https://localhost:8080/"
        },
        "id": "7befbe4e",
        "outputId": "b39afd4f-32cd-400c-bffe-8696f1ea20f8"
      },
      "outputs": [
        {
          "name": "stdout",
          "output_type": "stream",
          "text": [
            "0000 50\n",
            "0001 1\n",
            "0010 2\n",
            "0011 0\n",
            "0100 0\n",
            "0101 160\n",
            "0110 0\n",
            "0111 4\n",
            "1000 4\n",
            "1001 0\n",
            "1010 198\n",
            "1011 1\n",
            "1100 0\n",
            "1101 7\n",
            "1110 4\n",
            "1111 569\n"
          ]
        }
      ],
      "source": [
        "lt, lr = pbs(l, lzpf)\n",
        "rt, rr = pbs(r, rzpf)\n",
        "\n",
        "dlt, dlr, drt, drr = map(h_or_v_detector, (lt, lr, rt, rr))\n",
        "detections = np.array([dlt, dlr, drt, drr])\n",
        "\n",
        "coincidence_counts = get_all_coincidence_counts(detections)\n",
        "dlt_and_drt = sum([coincidence_counts[event] for event in [(1,0,1,0), (1,0,1,1), (1,1,1,0), (1,1,1,1)]])\n",
        "assert(get_coincidence_count(detections[[0,2],]) == dlt_and_drt)\n",
        "\n",
        "print_all_coincidence_counts(detections)\n"
      ]
    },
    {
      "attachments": {},
      "cell_type": "markdown",
      "id": "268a3294",
      "metadata": {
        "id": "268a3294"
      },
      "source": [
        "## Scrap Work\n",
        "\n",
        "Below this point is temporary test code meant to be deleted."
      ]
    },
    {
      "cell_type": "code",
      "execution_count": 112,
      "id": "89043d1c",
      "metadata": {
        "colab": {
          "base_uri": "https://localhost:8080/"
        },
        "id": "89043d1c",
        "outputId": "0cb67736-0c87-4d7a-e6f1-6a2f5294f1ab"
      },
      "outputs": [
        {
          "name": "stdout",
          "output_type": "stream",
          "text": [
            "[[-0.57017258-1.01464459j  1.9550901 +0.79707842j  0.11393552-0.55005109j\n",
            "  ... -2.53378053-0.29435647j -1.06728931+1.13919709j\n",
            "  -0.14557467+0.82421021j]\n",
            " [ 0.96149068+1.98107344j  0.05133322-0.37463674j -0.40524629+1.0268194j\n",
            "  ...  2.62104733-1.07182324j -0.18535727+0.50764621j\n",
            "  -0.31091939-2.43900681j]\n",
            " [ 0.09789863+1.6875222j  -1.22394964+0.13480767j -0.05053541-0.18319994j\n",
            "  ... -1.00776856-0.50742077j -2.0050132 +0.07786599j\n",
            "   0.53261314+1.14737904j]\n",
            " ...\n",
            " [-0.7360827 +0.58410122j -3.13060542+0.10099922j  0.3054064 +1.15302914j\n",
            "  ...  1.63773722+1.83766754j  1.22096291-0.34808945j\n",
            "  -0.23101309+0.55048048j]\n",
            " [ 0.48607342+1.50928802j  1.79211313-0.21385256j -2.07608613+2.10790794j\n",
            "  ...  0.48589205+0.99035052j -0.94874433-0.02074404j\n",
            "  -2.57522673-1.01458497j]\n",
            " [-2.10678625+0.67620721j -0.74481129+0.94927802j -0.27284685+2.24240725j\n",
            "  ... -2.27261151-0.14070638j -0.1372568 +0.03916734j\n",
            "   0.49428246-0.28570422j]]\n"
          ]
        }
      ],
      "source": [
        "from scipy.stats import norm\n",
        "\n",
        "distr = norm()\n",
        "reals = distr.rvs(size=(50,100))\n",
        "imags = distr.rvs(size=(50,100))\n",
        "print(reals + 1j * imags)"
      ]
    },
    {
      "cell_type": "code",
      "execution_count": 113,
      "id": "f9506669",
      "metadata": {
        "id": "f9506669"
      },
      "outputs": [],
      "source": [
        "import re\n",
        "def f(s):\n",
        "    s = re.sub('\\s+',' ', s)\n",
        "    a = [i.strip().split(' ') for i in s.split(';')]\n",
        "    mat = ', '.join([f'[{\", \".join(b)}]' for b in a])\n",
        "    print(f'np.array([{mat}])')"
      ]
    },
    {
      "cell_type": "code",
      "execution_count": 114,
      "id": "9c95a980",
      "metadata": {
        "colab": {
          "base_uri": "https://localhost:8080/"
        },
        "id": "9c95a980",
        "outputId": "ca262eda-3dcc-4bf3-b39f-ebc39685d5a1"
      },
      "outputs": [
        {
          "name": "stdout",
          "output_type": "stream",
          "text": [
            "np.array([[cos(theta)^2, +, 1j*sin(theta)^2, (1-1j)*cos(theta)*sin(theta), (1-1j)*cos(theta)*sin(theta), sin(theta)^2, +, 1j*cos(theta)^2]])\n"
          ]
        }
      ],
      "source": [
        "f('''cos(theta)^2 + 1j*sin(theta)^2 (1-1j)*cos(theta)*sin(theta) (1-1j)*cos(theta)*sin(theta)   sin(theta)^2 + 1j*cos(theta)^2''')"
      ]
    },
    {
      "cell_type": "code",
      "execution_count": 115,
      "id": "6c05d96d",
      "metadata": {
        "colab": {
          "base_uri": "https://localhost:8080/"
        },
        "id": "6c05d96d",
        "outputId": "1ad5a2fc-fb50-4525-f438-967552be2459"
      },
      "outputs": [
        {
          "data": {
            "text/plain": [
              "(2.25+0.25j)"
            ]
          },
          "execution_count": 115,
          "metadata": {},
          "output_type": "execute_result"
        }
      ],
      "source": [
        "a = np.array([[1j,2],[3,4]])\n",
        "a.mean()"
      ]
    },
    {
      "cell_type": "code",
      "execution_count": 116,
      "id": "6d3d2b12",
      "metadata": {
        "colab": {
          "base_uri": "https://localhost:8080/"
        },
        "id": "6d3d2b12",
        "outputId": "b9cae647-ed93-469d-f824-f43b30f93acf"
      },
      "outputs": [
        {
          "name": "stdout",
          "output_type": "stream",
          "text": [
            "(-85.76021587059009-34.70302336155132j) (-85.76021587059009-34.703023361551296j)\n"
          ]
        }
      ],
      "source": [
        "arr = zpf(1000, 2, 1)\n",
        "# %timeit np.trace(arr.T @ arr) \n",
        "# %timeit np.trace(arr @ arr.T)\n",
        "# %timeit np.trace((arr @ arr.T if arr.shape[0] < arr.shape[1] else arr.T @ arr)) # fastest\n",
        "print(np.trace(arr.T @ arr), np.trace(arr @ arr.T))\n",
        "\n",
        "# Output:\n",
        "# 10.1 ms ± 2.01 ms per loop (mean ± std. dev. of 7 runs, 10 loops each)\n",
        "# 15 µs ± 1.97 µs per loop (mean ± std. dev. of 7 runs, 10,000 loops each)\n",
        "# 12.7 µs ± 295 ns per loop (mean ± std. dev. of 7 runs, 100,000 loops each)"
      ]
    },
    {
      "cell_type": "code",
      "execution_count": 117,
      "id": "1405aef9",
      "metadata": {
        "colab": {
          "base_uri": "https://localhost:8080/"
        },
        "id": "1405aef9",
        "outputId": "487ef956-0689-4f8a-ec5f-549e547e85ea"
      },
      "outputs": [
        {
          "name": "stdout",
          "output_type": "stream",
          "text": [
            "[[1. 0.]\n",
            " [0. 1.]]\n",
            "[[1. 1.]\n",
            " [1. 1.]]\n",
            "[[1. 1. 0. 0.]\n",
            " [1. 1. 0. 0.]\n",
            " [0. 0. 1. 1.]\n",
            " [0. 0. 1. 1.]]\n"
          ]
        }
      ],
      "source": [
        "print(np.eye(2) * np.ones((2,2)))           # elementwise product\n",
        "print(np.eye(2) @ np.ones((2,2)))           # matrix product\n",
        "print(np.kron(np.eye(2), np.ones((2,2))))   # kronecker product"
      ]
    },
    {
      "cell_type": "markdown",
      "id": "D5eJv_FPnlr3",
      "metadata": {
        "id": "D5eJv_FPnlr3"
      },
      "source": [
        "# Simulation Model: QM"
      ]
    },
    {
      "attachments": {},
      "cell_type": "markdown",
      "id": "00463ca1",
      "metadata": {},
      "source": [
        "### Fock States"
      ]
    },
    {
      "attachments": {},
      "cell_type": "markdown",
      "id": "20e7a441",
      "metadata": {},
      "source": [
        "#### `is_fock_state`"
      ]
    },
    {
      "cell_type": "code",
      "execution_count": 118,
      "id": "654009cf",
      "metadata": {},
      "outputs": [],
      "source": [
        "def is_fock_state(np_arr):\n",
        "    return all([(i.is_integer() and i >= 0) for i in np_arr])"
      ]
    },
    {
      "attachments": {},
      "cell_type": "markdown",
      "id": "87cf35d8",
      "metadata": {},
      "source": [
        "#### `get_fock_basis_states`\n",
        "\n",
        "This function was written recursively with memoization (see `@cache`) in order to make it faster. The tradeoff is that it rapidly fills up computer memory with cached data.\n",
        "\n",
        "Even with memoization, this function's runtime is worse than exponential in n, the number of particles. \n",
        "\n",
        "Use sparingly, and only on inputs with small n.\n"
      ]
    },
    {
      "cell_type": "code",
      "execution_count": 119,
      "id": "70oBPCYlnkZH",
      "metadata": {
        "id": "70oBPCYlnkZH"
      },
      "outputs": [],
      "source": [
        "@cache\n",
        "def get_fock_basis_states(n, m):\n",
        "  '''Returns a numpy array of all (n + m - 1 Choose n) Fock basis \n",
        "  states with n particles in m modes.'''\n",
        "\n",
        "  if not isinstance(n, int) or n < 0:\n",
        "    raise ValueError(\"n must be a non-negative integer\")\n",
        "  if not isinstance(m, int) or m < 1:\n",
        "    raise ValueError(\"m must be a positive integer\")\n",
        "\n",
        "  if m == 1:\n",
        "    return np.array([[n]], dtype=int)\n",
        "  if n == 1:\n",
        "    return np.eye(m, dtype=int)\n",
        "\n",
        "  states = None\n",
        "  for i in range(0,n+1):\n",
        "    sub_states = get_fock_basis_states(n-i, m-1)\n",
        "    first_mode = np.full((sub_states.shape[0],1), i)\n",
        "    new_states = np.concatenate((first_mode, sub_states), axis=1)\n",
        "    if i == 0:\n",
        "      states = new_states\n",
        "    else:\n",
        "      states = np.concatenate((states, new_states))\n",
        "  return states\n",
        "     "
      ]
    },
    {
      "attachments": {},
      "cell_type": "markdown",
      "id": "0a539144",
      "metadata": {},
      "source": [
        "### Unitaries"
      ]
    },
    {
      "attachments": {},
      "cell_type": "markdown",
      "id": "7e44f577",
      "metadata": {},
      "source": [
        "#### `HilbertSpaceUnitary`\n",
        "\n",
        "Recall \n",
        "\n",
        "$$\\langle S | \\varphi (U) | T \\rangle = \\frac{Per(U_{S,T})}{\\sqrt{s_1! \\dots s_m! t_1! \\dots t_m!}}$$\n",
        "\n",
        "See pg 95 of https://www.scottaaronson.com/qisii.pdf for more info."
      ]
    },
    {
      "cell_type": "code",
      "execution_count": 120,
      "id": "LXk0KksMsmL7",
      "metadata": {
        "id": "LXk0KksMsmL7"
      },
      "outputs": [],
      "source": [
        "class HilbertSpaceUnitary(object):\n",
        "  '''Converts the m x m unitary of a linear optical network to \n",
        "  the larger M x M unitary acting on the entire Hilbert space,\n",
        "  where M := n+m-1 choose n. Lazily computes entries as needed.'''\n",
        "\n",
        "  def __init__(self, U, n):\n",
        "    self.U = U # U should be an m x m unitary\n",
        "    self.n = n\n",
        "    self.entries = {}\n",
        "    self.factorial = np.vectorize(math.factorial) \n",
        "    # Assuming few collisions, this should be fine. With high photon counts, we \n",
        "    # might consider memozing our factorial function.\n",
        "\n",
        "  def get_entry(self, S, T):\n",
        "    '''This gives the entry <S|\\phi(U)|T>, that is,\n",
        "    the amplitude of a T to S transition.\n",
        "    S and T must both be Fock states.'''\n",
        "\n",
        "    if np.sum(S) != self.n or np.sum(T) != self.n:\n",
        "      raise ValueError(f\"Fock states must have {self.n} particles.\")\n",
        "    if not is_fock_state(S):\n",
        "      raise ValueError(\"S must be a Fock state.\")\n",
        "    if not is_fock_state(T):\n",
        "      raise ValueError(\"T must be a Fock state.\")\n",
        "\n",
        "    key = (S.tobytes(),T.tobytes())\n",
        "    if key not in self.entries:\n",
        "      U_ST = np.repeat(np.repeat(self.U, S, axis=0), T, axis=1).astype(complex)\n",
        "      self.entries[key] = ( \n",
        "          permanent.permanent(U_ST) \n",
        "          / sqrt(np.prod(self.factorial(S)))\n",
        "          / sqrt(np.prod(self.factorial(T)))\n",
        "      ) # watch out for multiplication overflows on normalization factor\n",
        "    return self.entries[key]\n",
        "  \n",
        "  def __getitem__(self, S_and_T):\n",
        "    '''Makes object subscriptable.\n",
        "    self[S,T] is equivalent to self.get_entry(S,T)'''\n",
        "    S,T = S_and_T\n",
        "    return self.get_entry(S,T)"
      ]
    },
    {
      "attachments": {},
      "cell_type": "markdown",
      "id": "babe6a3f",
      "metadata": {},
      "source": [
        "#### `get_hilbert_space_unitary_matrix`\n",
        "\n",
        "Exponential runtime - use only if you need to see the whole hilbert space unitary matrix at once. \n",
        "\n",
        "When possible, use HilbertSpaceUnitary to calculate entries lazily instead."
      ]
    },
    {
      "cell_type": "code",
      "execution_count": 121,
      "id": "c11ce0db",
      "metadata": {},
      "outputs": [],
      "source": [
        "def get_hilbert_space_unitary_matrix(U, n, p=False):\n",
        "  '''Converts the m x m unitary of a linear optical network to \n",
        "  the larger M x M unitary acting on the entire Hilbert space.\n",
        "  U is an m x m unitary (m is number of modes)\n",
        "  n is number of particles\n",
        "  p determines whether or not to print the matrix\n",
        "  M := n+m-1 choose n'''\n",
        "  m = U.shape[0]\n",
        "  basis_states = get_fock_basis_states(n,m)\n",
        "  hsu = HilbertSpaceUnitary(U, n)\n",
        "  M = basis_states.shape[0]\n",
        "  hsu_matrix = np.zeros((M,M), dtype=complex)\n",
        "  for i in range(M):\n",
        "    for j in range(M):\n",
        "      hsu_matrix[i,j] = hsu.get_entry(basis_states[i], basis_states[j])\n",
        "  if p:\n",
        "    rounded_hsu = np.around(hsu_matrix,2)\n",
        "    for i in range(M):\n",
        "      print(basis_states[i], end=':\\t')\n",
        "      print(rounded_hsu[i])\n",
        "  return hsu_matrix"
      ]
    },
    {
      "attachments": {},
      "cell_type": "markdown",
      "id": "473f707b",
      "metadata": {},
      "source": [
        "#### `qr_haar`"
      ]
    },
    {
      "cell_type": "code",
      "execution_count": 122,
      "id": "kO04QEV64lRL",
      "metadata": {
        "id": "kO04QEV64lRL"
      },
      "outputs": [],
      "source": [
        "# Source: https://pennylane.ai/qml/demos/tutorial_haar_measure.html\n",
        "\n",
        "def qr_haar(m):\n",
        "    \"\"\"Generate a Haar-random matrix using the QR decomposition.\n",
        "    m is the number of modes.\"\"\"\n",
        "    # Step 1\n",
        "    A, B = np.random.normal(size=(m, m)), np.random.normal(size=(m, m))\n",
        "    Z = A + 1j * B\n",
        "\n",
        "    # Step 2\n",
        "    Q, R = qr(Z)\n",
        "\n",
        "    # Step 3\n",
        "    Lambda = np.diag([R[i, i] / np.abs(R[i, i]) for i in range(m)])\n",
        "\n",
        "    # Step 4\n",
        "    return np.dot(Q, Lambda)"
      ]
    },
    {
      "attachments": {},
      "cell_type": "markdown",
      "id": "f8cd3367",
      "metadata": {},
      "source": [
        "## Tests\n",
        "\n",
        "Tests are not currently comprehensive nor rigorous. Outputs need to be checked by eye.\n",
        "\n",
        "TESTS ARE ABLE TO RUN != CODE IS WORKING CORRECTLY"
      ]
    },
    {
      "attachments": {},
      "cell_type": "markdown",
      "id": "e2b2abb9",
      "metadata": {},
      "source": [
        "### test `get_fock_basis_states`\n",
        "\n",
        "Takes a long time and eats up memory very quickly. The advantage of using `@cache` can be seen by running `get_fock_basis_states` twice in a row, or running it with smaller inputs after it finishes - after the first run, future calls are almost instantaneous."
      ]
    },
    {
      "cell_type": "code",
      "execution_count": 123,
      "id": "6459fb31",
      "metadata": {},
      "outputs": [],
      "source": [
        "# get_fock_basis_states(3,100)"
      ]
    },
    {
      "attachments": {},
      "cell_type": "markdown",
      "id": "ba51b231",
      "metadata": {},
      "source": [
        "### test `qr_haar` and `HilbertSpaceUnitary`"
      ]
    },
    {
      "cell_type": "code",
      "execution_count": 124,
      "id": "029c28cd",
      "metadata": {},
      "outputs": [
        {
          "name": "stdout",
          "output_type": "stream",
          "text": [
            "0.0014924225988723592\n",
            "0.0014924225988723592\n"
          ]
        }
      ],
      "source": [
        "U = qr_haar(100) #np.array([[0, 1], [1, 0]], dtype=complex)\n",
        "\n",
        "#print(U)\n",
        "\n",
        "UH = HilbertSpaceUnitary(U, 1)\n",
        "\n",
        "zers = np.zeros(100, dtype=int)\n",
        "zert = np.zeros(100, dtype=int)\n",
        "\n",
        "zers[0] = 1\n",
        "zert[0] = 1\n",
        "\n",
        "print(abs(UH.get_entry(zers, zert))**2)\n",
        "print(abs(UH[zers, zert])**2)"
      ]
    },
    {
      "attachments": {},
      "cell_type": "markdown",
      "id": "6828c88a",
      "metadata": {},
      "source": [
        "### test `get_hilbert_space_unitary_matrix`"
      ]
    },
    {
      "cell_type": "code",
      "execution_count": 130,
      "id": "2eb58498",
      "metadata": {},
      "outputs": [
        {
          "name": "stdout",
          "output_type": "stream",
          "text": [
            "Hadamard with 1 photon, 2 modes:\n",
            "[1 0]:\t[0.71-0.j 0.71-0.j]\n",
            "[0 1]:\t[ 0.71-0.j -0.71+0.j]\n",
            "\n",
            "Hadamard with 2 photons, 2 modes:\n",
            "[0 2]:\t[ 0.5 +0.j -0.71+0.j  0.5 +0.j]\n",
            "[1 1]:\t[-0.71+0.j  0.  +0.j  0.71+0.j]\n",
            "[2 0]:\t[0.5 +0.j 0.71+0.j 0.5 +0.j]\n",
            "\n",
            "Haar random unitary with 1 photon, 6 modes:\n",
            "[1 0 0 0 0 0]:\t[ 0.06+0.38j  0.29-0.01j -0.28-0.32j -0.34+0.05j -0.34+0.49j  0.31+0.1j ]\n",
            "[0 1 0 0 0 0]:\t[-0.52+0.03j  0.24-0.38j -0.07+0.51j  0.34+0.09j -0.26+0.1j   0.19+0.15j]\n",
            "[0 0 1 0 0 0]:\t[ 0.49-0.08j -0.31+0.03j  0.06+0.13j  0.18+0.13j -0.14-0.04j  0.36+0.66j]\n",
            "[0 0 0 1 0 0]:\t[-0.18+0.09j -0.23+0.37j -0.13+0.59j -0.61-0.09j  0.1 -0.02j  0.11+0.07j]\n",
            "[0 0 0 0 1 0]:\t[ 0.5 -0.07j  0.5 -0.01j  0.09+0.37j -0.02-0.51j -0.21+0.01j -0.18-0.07j]\n",
            "[0 0 0 0 0 1]:\t[ 0.08-0.16j -0.39+0.16j  0.  +0.14j  0.08+0.23j -0.6 +0.36j -0.37-0.28j]\n",
            "\n",
            "Haar random unitary with 2 photons, 6 modes:\n",
            "[0 0 0 0 0 2]:\t[ 0.06+0.21j  0.46+0.05j  0.23-0.44j -0.19-0.15j  0.05-0.15j -0.05+0.04j\n",
            " -0.05+0.02j -0.08-0.12j  0.05-0.08j -0.02+0.j   -0.03-0.08j -0.09-0.11j\n",
            "  0.26-0.33j  0.27+0.07j  0.13-0.12j -0.01+0.11j  0.03+0.02j  0.06+0.01j\n",
            "  0.01+0.18j -0.11+0.05j -0.02-0.03j]\n",
            "[0 0 0 0 1 1]:\t[ 0.07+0.1j   0.21+0.03j  0.17-0.11j  0.18+0.25j -0.13+0.15j  0.17-0.06j\n",
            " -0.  +0.04j -0.19-0.22j  0.08-0.19j -0.07+0.02j -0.09-0.06j  0.13+0.31j\n",
            " -0.22+0.15j -0.11-0.14j -0.28+0.12j -0.15+0.02j  0.08+0.09j -0.03+0.07j\n",
            " -0.29+0.26j -0.23-0.09j  0.04-0.13j]\n",
            "[0 0 0 0 2 0]:\t[ 0.03+0.02j  0.05+0.02j  0.04-0.j    0.01+0.15j -0.04+0.13j -0.26+0.02j\n",
            "  0.27-0.08j -0.03-0.11j  0.01-0.1j  -0.13+0.06j  0.07+0.26j -0.02-0.37j\n",
            " -0.15+0.01j -0.13-0.05j  0.25-0.01j  0.36-0.06j  0.1 +0.25j -0.07-0.36j\n",
            " -0.15+0.03j -0.13-0.03j  0.25-0.08j]\n",
            "[0 0 0 1 1 0]:\t[-0.02-0.03j -0.04-0.02j -0.03+0.01j  0.11-0.04j  0.14-0.j   -0.05+0.45j\n",
            "  0.28-0.18j  0.04-0.09j  0.05-0.05j -0.32+0.j   -0.22+0.24j -0.11+0.07j\n",
            "  0.1 -0.09j  0.12-0.01j -0.16+0.27j -0.18+0.25j -0.07+0.24j -0.26+0.09j\n",
            "  0.09-0.04j  0.1 +0.02j -0.12+0.08j]\n",
            "[0 0 0 1 0 1]:\t[-0.03-0.08j -0.14-0.02j -0.08+0.07j  0.41-0.15j  0.19+0.23j -0.04-0.21j\n",
            " -0.14-0.07j -0.13-0.38j  0.2 -0.16j -0.12-0.02j -0.09-0.28j  0.15-0.08j\n",
            " -0.03-0.28j  0.13-0.08j  0.05-0.26j  0.1 +0.j    0.07+0.04j -0.1 +0.06j\n",
            "  0.08-0.14j  0.11+0.01j -0.  +0.05j]\n",
            "[0 0 0 2 0 0]:\t[ 0.01+0.02j  0.02+0.01j  0.01-0.j   -0.09+0.01j -0.09-0.08j  0.36+0.11j\n",
            "  0.19-0.49j -0.  +0.09j -0.08+0.08j -0.33-0.15j -0.26-0.26j  0.24-0.29j\n",
            " -0.02+0.06j -0.07+0.03j -0.08-0.17j  0.01-0.13j -0.04-0.17j  0.17-0.05j\n",
            " -0.02+0.02j -0.04-0.01j  0.03-0.03j]\n",
            "[0 0 1 1 0 0]:\t[-0.01+0.14j  0.04+0.05j -0.02-0.j    0.11+0.05j -0.15-0.41j -0.14-0.14j\n",
            " -0.13+0.01j  0.05-0.07j -0.44+0.14j -0.12+0.03j -0.04-0.19j  0.1 +0.05j\n",
            "  0.01-0.03j -0.36-0.04j  0.09-0.17j -0.03+0.17j -0.04+0.28j -0.35-0.j\n",
            "  0.08-0.02j -0.07-0.06j -0.12+0.08j]\n",
            "[0 0 1 0 1 0]:\t[-0.03-0.2j  -0.06-0.12j  0.04+0.01j -0.06+0.05j  0.31-0.24j  0.09-0.14j\n",
            "  0.03+0.04j -0.01-0.08j -0.22+0.16j -0.06+0.05j -0.  -0.05j  0.11+0.22j\n",
            " -0.01-0.03j  0.24+0.34j -0.22+0.02j  0.09-0.01j  0.12+0.23j  0.05-0.2j\n",
            " -0.17+0.01j  0.14+0.29j  0.34-0.11j]\n",
            "[0 0 1 0 0 1]:\t[ 0.07-0.49j -0.41-0.21j  0.14-0.04j -0.16-0.05j -0.16+0.04j -0.02+0.07j\n",
            " -0.04+0.05j -0.08-0.08j -0.08-0.01j -0.03+0.01j -0.05-0.09j -0.12-0.09j\n",
            "  0.24-0.13j -0.12-0.13j  0.17-0.08j -0.2 +0.16j  0.04+0.07j  0.09+0.09j\n",
            " -0.28+0.25j -0.06-0.11j  0.04-0.12j]\n",
            "[0 0 2 0 0 0]:\t[-0.31+0.48j -0.04-0.15j  0.02+0.01j -0.03-0.04j -0.03+0.24j  0.02+0.05j\n",
            " -0.01+0.05j -0.01-0.03j -0.09+0.13j -0.01+0.02j -0.03-0.05j -0.09-0.05j\n",
            "  0.06+0.01j -0.18-0.27j  0.09-0.02j -0.21+0.05j  0.06+0.08j  0.14+0.07j\n",
            " -0.1 -0.01j  0.32+0.41j  0.23-0.08j]\n",
            "[0 1 1 0 0 0]:\t[-0.04+0.25j -0.18-0.16j  0.06-0.01j -0.11-0.04j  0.08+0.31j  0.07+0.09j\n",
            " -0.07+0.14j -0.  -0.1j  -0.37+0.17j -0.1 +0.03j  0.07-0.15j -0.01-0.06j\n",
            "  0.03+0.01j  0.27-0.02j -0.09+0.17j  0.24-0.23j -0.03+0.19j  0.08-0.05j\n",
            " -0.04+0.09j -0.1 -0.28j -0.35+0.08j]\n",
            "[0 1 0 1 0 0]:\t[ 0.01+0.04j -0.01+0.j   -0.04+0.02j  0.2 -0.04j -0.07-0.07j -0.28-0.12j\n",
            " -0.01-0.12j -0.02-0.11j -0.16+0.14j -0.41-0.15j  0.02+0.04j -0.29+0.32j\n",
            "  0.04-0.16j -0.04+0.01j  0.12+0.25j  0.1 -0.11j  0.02-0.41j  0.25+0.05j\n",
            " -0.02-0.03j -0.11-0.05j  0.13-0.07j]\n",
            "[0 1 0 0 1 0]:\t[-0.03-0.06j  0.01-0.03j  0.07-0.03j -0.01+0.12j  0.02-0.14j  0.05-0.25j\n",
            "  0.26+0.16j -0.05-0.19j  0.01-0.j   -0.28+0.03j  0.13+0.31j -0.03-0.07j\n",
            " -0.17+0.13j  0.03+0.13j  0.16-0.27j -0.17-0.19j -0.05+0.08j  0.2 +0.29j\n",
            " -0.02+0.06j  0.2 +0.09j -0.37+0.07j]\n",
            "[0 1 0 0 0 1]:\t[-0.04-0.15j -0.04+0.01j  0.17-0.22j -0.28+0.02j -0.12-0.07j  0.01+0.12j\n",
            " -0.14+0.07j -0.16-0.37j  0.15-0.14j -0.1 -0.01j  0.  -0.18j -0.04+0.04j\n",
            "  0.08+0.23j -0.29+0.04j -0.05+0.26j  0.16-0.16j  0.07-0.02j -0.  -0.17j\n",
            "  0.3 -0.15j  0.24+0.12j -0.06+0.12j]\n",
            "[0 2 0 0 0 0]:\t[ 0.01+0.06j -0.09-0.03j  0.06-0.05j -0.14+0.02j  0.07+0.1j   0.11+0.06j\n",
            " -0.1 +0.24j -0.05-0.2j  -0.13+0.12j -0.26-0.07j  0.25+0.21j  0.16-0.15j\n",
            " -0.03+0.17j  0.14-0.05j -0.09-0.18j -0.16+0.29j  0.03-0.38j -0.25-0.05j\n",
            "  0.18-0.08j -0.14-0.1j   0.27-0.03j]\n",
            "[1 1 0 0 0 0]:\t[ 0.06+0.09j -0.23+0.05j  0.05-0.23j -0.08+0.09j  0.03+0.02j -0.17-0.02j\n",
            " -0.07-0.31j -0.12-0.15j -0.08+0.05j  0.26-0.17j -0.2 +0.18j  0.04+0.16j\n",
            "  0.03+0.28j  0.17-0.05j  0.09-0.16j  0.01+0.08j -0.05+0.17j  0.16+0.1j\n",
            "  0.11-0.36j -0.21+0.04j -0.06-0.28j]\n",
            "[1 0 1 0 0 0]:\t[ 0.07+0.34j -0.49-0.07j  0.09-0.08j -0.08+0.05j -0.11-0.15j -0.1 -0.05j\n",
            " -0.04-0.14j -0.06+0.05j  0.12-0.26j  0.03-0.08j  0.12+0.13j  0.16+0.01j\n",
            "  0.05-0.17j  0.01+0.17j -0.13+0.02j  0.11-0.14j -0.21-0.1j  -0.2 +0.13j\n",
            " -0.12+0.21j -0.07+0.2j   0.09+0.26j]\n",
            "[1 0 0 1 0 0]:\t[ 0.04+0.05j -0.04+0.03j -0.03+0.08j  0.21-0.26j -0.22-0.11j  0.3 +0.j\n",
            "  0.16+0.02j -0.28-0.29j -0.11+0.12j  0.32-0.17j  0.15+0.14j -0.12-0.16j\n",
            " -0.08-0.24j -0.08+0.11j -0.09+0.15j -0.21-0.04j -0.15+0.02j  0.05-0.28j\n",
            "  0.03-0.08j -0.09+0.06j -0.07-0.09j]\n",
            "[1 0 0 0 1 0]:\t[-0.07-0.05j  0.03-0.08j  0.09-0.15j  0.33+0.15j  0.11-0.15j  0.04+0.25j\n",
            " -0.21+0.03j -0.15-0.02j  0.02+0.2j   0.13-0.19j -0.12-0.05j -0.18-0.12j\n",
            " -0.22+0.26j  0.11+0.03j  0.21-0.01j  0.18+0.16j -0.3 -0.08j  0.03+0.01j\n",
            " -0.15+0.2j   0.18-0.05j  0.09+0.27j]\n",
            "[1 0 0 0 0 1]:\t[-0.13-0.17j  0.04-0.03j  0.03-0.59j  0.05-0.19j  0.14+0.16j -0.05-0.11j\n",
            "  0.04-0.14j  0.21+0.05j  0.  +0.24j  0.06-0.06j  0.16+0.13j  0.15-0.01j\n",
            " -0.11-0.14j -0.25-0.07j -0.16+0.07j -0.06-0.19j -0.13+0.03j -0.1 +0.1j\n",
            " -0.12-0.11j  0.13-0.2j   0.1 +0.03j]\n",
            "[2 0 0 0 0 0]:\t[ 0.09+0.06j -0.22+0.17j -0.13-0.33j  0.13-0.26j -0.16-0.03j  0.11-0.03j\n",
            "  0.16+0.14j  0.36-0.04j -0.08-0.18j -0.02+0.18j -0.12-0.13j -0.14+0.02j\n",
            " -0.13+0.21j  0.13+0.04j  0.08-0.01j  0.03+0.16j  0.15-0.18j -0.06-0.18j\n",
            " -0.3 -0.14j -0.02+0.18j -0.14+0.05j]\n",
            "\n"
          ]
        }
      ],
      "source": [
        "hadamard = np.array([[1, 1], [1, -1]]) / sqrt(2)\n",
        "\n",
        "print(\"Hadamard with 1 photon, 2 modes:\")\n",
        "hsu_had = get_hilbert_space_unitary_matrix(hadamard, 1, p=True) # p=True prints resulting unitary\n",
        "print()\n",
        "\n",
        "print(\"Hadamard with 2 photons, 2 modes:\")\n",
        "hsu_had = get_hilbert_space_unitary_matrix(hadamard, 2, p=True)\n",
        "print()\n",
        "\n",
        "m = 6\n",
        "U = qr_haar(m)\n",
        "\n",
        "print(f\"Haar random unitary with 1 photon, {m} modes:\")\n",
        "hsu_haar = get_hilbert_space_unitary_matrix(U, 1, p=True)\n",
        "print()\n",
        "\n",
        "print(f\"Haar random unitary with 2 photons, {m} modes:\")\n",
        "hsu_haar = get_hilbert_space_unitary_matrix(U, 2, p=True)\n",
        "print()"
      ]
    },
    {
      "cell_type": "markdown",
      "id": "18318e98",
      "metadata": {},
      "source": [
        "# Experiments"
      ]
    },
    {
      "attachments": {},
      "cell_type": "markdown",
      "id": "ba2c6605",
      "metadata": {},
      "source": [
        "### Spoof Haar\n",
        "\n",
        "```\n",
        "                       ┌─────────────┐\n",
        "[Detector] ◄──[ent]──► │             │──► [Detector]\n",
        "[Detector] ◄──[ent]──► │             │──► [Detector]\n",
        "[Detector] ◄──[ent]──► │ Haar-Random │──► [Detector]\n",
        "[Detector] ◄──[ent]──► │   Unitary   │──► [Detector]\n",
        "[Detector] ◄──[ent]──► │             │──► [Detector]\n",
        "[Detector] ◄──[ent]──► │             │──► [Detector]\n",
        "                       └─────────────┘\n",
        "```"
      ]
    },
    {
      "cell_type": "code",
      "execution_count": 126,
      "id": "d8c847b1",
      "metadata": {},
      "outputs": [],
      "source": [
        "def spoof_haar(num_src, N=1000):\n",
        "    m = 2*num_src\n",
        "    ents = [ent(N, r=1) for i in range(num_src)]\n",
        "    l_ents = np.concatenate(tuple([ent[0] for ent in ents]))\n",
        "    r_ents = np.concatenate(tuple([ent[1] for ent in ents]))\n",
        "    haar_U = qr_haar(m)\n",
        "    r_ents = haar_U @ r_ents\n",
        "    return threshold_detector(l_ents), threshold_detector(r_ents)"
      ]
    },
    {
      "cell_type": "code",
      "execution_count": 127,
      "id": "5705aaac",
      "metadata": {},
      "outputs": [
        {
          "name": "stdout",
          "output_type": "stream",
          "text": [
            "[[ True False False ... False False False]\n",
            " [False False False ... False False False]\n",
            " [False False False ... False False False]\n",
            " ...\n",
            " [False False False ...  True False False]\n",
            " [False False False ... False False False]\n",
            " [False False False ...  True False False]]\n"
          ]
        },
        {
          "data": {
            "image/png": "[encoded data removed]",
            "text/plain": [
              "<Figure size 144x144 with 1 Axes>"
            ]
          },
          "metadata": {
            "needs_background": "light"
          },
          "output_type": "display_data"
        }
      ],
      "source": [
        "l_res, r_res = spoof_haar(10, N=100)\n",
        "print(l_res)\n",
        "\n",
        "def tup_to_bin(tup):\n",
        "    return \"\".join(str(int(item)) for item in tup)\n",
        "\n",
        "lcounts = get_all_coincidence_counts(l_res)\n",
        "sortedCounts = []\n",
        "bins = []\n",
        "counts = []\n",
        "for tup in lcounts:\n",
        "    bins.append(tup_to_bin(tup))\n",
        "    counts.append(lcounts[tup])\n",
        "    sortedCounts.append((lcounts[tup], tup_to_bin(tup)))\n",
        "plt.bar(bins, counts)\n",
        "plt.show()\n",
        "# print(sorted(sortedCounts, reverse=True))\n",
        "# print(get_all_coincidence_counts(r_res))\n",
        "# print_all_coincidence_counts(l_res)\n",
        "# print_all_coincidence_counts(r_res)"
      ]
    },
    {
      "cell_type": "code",
      "execution_count": 69,
      "id": "6232537f",
      "metadata": {},
      "outputs": [
        {
          "name": "stdout",
          "output_type": "stream",
          "text": [
            "(array([[-0.74099294+0.16184481j,  0.21287508+1.91419989j,\n",
            "         0.71838481-0.57196803j,  1.0773436 -0.33571333j,\n",
            "        -0.5446664 +1.62237974j,  0.27392988-0.84154139j,\n",
            "        -0.88561892+0.65372563j, -0.0707417 -1.33824528j,\n",
            "        -0.14346415+1.63254198j, -0.23777257-0.90908239j,\n",
            "         0.276396  +0.79686222j, -1.00124541+0.10690834j,\n",
            "        -1.50910459-0.97732892j, -0.9099713 -0.31031501j,\n",
            "        -0.34664532-0.20665061j,  1.15847376+1.11686945j,\n",
            "         1.01320523-1.30062745j],\n",
            "       [-0.62269306-0.97079359j, -1.70721335-0.96663417j,\n",
            "        -0.22977587+1.9751126j ,  0.99168193-1.00549399j,\n",
            "        -1.15276319+1.16469594j, -1.00128802+0.47625497j,\n",
            "         0.01759188+2.46703329j,  0.21705338-1.24036086j,\n",
            "        -0.96527358-1.1083993j , -0.08394024-0.74964804j,\n",
            "         0.17550755-1.03158761j, -1.87344845+1.13386307j,\n",
            "        -0.64876164-0.42742245j, -0.73505726+0.86843706j,\n",
            "         2.75342294-0.03561887j,  1.24477757-0.54179433j,\n",
            "        -1.97358324+0.74857973j]]), array([[-0.58262591+0.00887598j,  0.17103081-2.06131733j,\n",
            "         0.51524661+0.61770043j,  1.54210968+0.64645571j,\n",
            "        -0.74439244-2.34528472j,  0.17453595+0.5855389j ,\n",
            "        -0.71669427-1.25994866j,  0.01986837+1.42704205j,\n",
            "         0.04933194-1.49574444j, -0.42592615+0.75155843j,\n",
            "        -0.33629652-0.79759355j, -0.78439289-0.27860783j,\n",
            "        -1.23942901+1.30765417j, -1.00271381+0.17304219j,\n",
            "        -0.95248784+0.44113254j,  1.46966155-1.21034817j,\n",
            "         0.89568291+1.16845342j],\n",
            "       [-0.89348951+0.8871559j , -1.33586682+0.75480658j,\n",
            "         0.25988894-1.9597727j ,  0.57680712+0.47717618j,\n",
            "        -1.47133476-1.36100222j, -0.56617482-0.03910894j,\n",
            "        -0.27142388-2.19121917j,  0.05062769+1.23715921j,\n",
            "        -0.73593567+0.92854875j, -0.53053988+1.10280181j,\n",
            "        -0.22516912+0.87991663j, -1.7055297 -1.17475114j,\n",
            "         0.15238363+0.25039993j, -0.93129691-0.67336237j,\n",
            "         2.60028404+0.38356368j,  0.98676941+0.3083808j ,\n",
            "        -2.00165762-0.6432342j ]]))\n"
          ]
        }
      ],
      "source": [
        "print(ent(17,r=1))"
      ]
    }
  ],
  "metadata": {
    "colab": {
      "collapsed_sections": [],
      "provenance": [],
      "toc_visible": true
    },
    "kernelspec": {
      "display_name": "Python 3.10.4 ('ronakr': conda)",
      "language": "python",
      "name": "python3"
    },
    "language_info": {
      "codemirror_mode": {
        "name": "ipython",
        "version": 3
      },
      "file_extension": ".py",
      "mimetype": "text/x-python",
      "name": "python",
      "nbconvert_exporter": "python",
      "pygments_lexer": "ipython3",
      "version": "3.10.4 (main, Mar 31 2022, 08:41:55) [GCC 7.5.0]"
    },
    "vscode": {
      "interpreter": {
        "hash": "eaba163e9a8852b62833323186c9b1ec3be888b762b728d20972db8b5137f3e8"
      }
    }
  },
  "nbformat": 4,
  "nbformat_minor": 5
}
