{
 "cells": [
  {
   "cell_type": "code",
   "execution_count": 1,
   "id": "449e3b6a",
   "metadata": {},
   "outputs": [],
   "source": [
    "from ipynb.fs.full.arl_libq import *"
   ]
  },
  {
   "cell_type": "code",
   "execution_count": 2,
   "id": "32a39542",
   "metadata": {},
   "outputs": [],
   "source": [
    "import strawberryfields as sf\n",
    "from strawberryfields.ops import *"
   ]
  },
  {
   "cell_type": "markdown",
   "id": "e8e4192a",
   "metadata": {},
   "source": [
    "# GBS Experiment"
   ]
  },
  {
   "cell_type": "code",
   "execution_count": 3,
   "id": "21a97f0a",
   "metadata": {},
   "outputs": [],
   "source": [
    "def recover_fock_state(i, m, cutoff):\n",
    "    state = []\n",
    "    for _ in range(m):\n",
    "        state.append(i % cutoff)\n",
    "        i //= cutoff\n",
    "    return tuple(reversed(state))"
   ]
  },
  {
   "cell_type": "code",
   "execution_count": 4,
   "id": "89b0f164",
   "metadata": {},
   "outputs": [],
   "source": [
    "def qm_gbs(\n",
    "    U, \n",
    "    r=1, \n",
    "    cutoff=10\n",
    "):\n",
    "    '''Simulates Quantum Mechanical predictions of detection event likelyhoods\n",
    "    resulting from passing squeezed states through the provided unitary.\n",
    "    Returns map (detection_event -> probability).\n",
    "    \n",
    "    U : m x m matrix\n",
    "        = unitary to be applied.'''\n",
    "\n",
    "    m = U.shape[0]\n",
    "    gbs = sf.Program(m)\n",
    "\n",
    "    with gbs.context as q:\n",
    "        # prepare the input squeezed states\n",
    "        S = Sgate(r)\n",
    "        for i in range(m):\n",
    "            S | q[i]\n",
    "\n",
    "        # linear interferometer\n",
    "        Interferometer(U) | q\n",
    "        \n",
    "        # measure in Fock basis\n",
    "        for i in range(m):\n",
    "            MeasureFock() | q[i]\n",
    "        \n",
    "    eng = sf.Engine(backend=\"gaussian\")\n",
    "    result = eng.run(gbs)\n",
    "    \n",
    "    # Simple alternative:\n",
    "    # result = eng.run(gbs, shots=1000)\n",
    "    # return = Counter(result.samples > 0)\n",
    "        \n",
    "    state = result.state\n",
    "    probs = state.all_fock_probs(cutoff=cutoff)\n",
    "    qm_distr = defaultdict(lambda: 0)\n",
    "    for i,p in enumerate(np.reshape(probs, cutoff**m)): # warning: run-time might blow up\n",
    "        fock_outcome = recover_fock_state(i, m, cutoff)\n",
    "        det_event = tuple([(1 if photon_num > 0 else 0) for photon_num in fock_outcome])\n",
    "        qm_distr[det_event] += p\n",
    "            \n",
    "    # Using the walrus may let you get this distribution more directly using the torontonian\n",
    "    # See: https://the-walrus.readthedocs.io/en/latest/_modules/thewalrus/samples.html#generate_torontonian_sample\n",
    "    \n",
    "    return qm_distr"
   ]
  },
  {
   "cell_type": "code",
   "execution_count": 5,
   "id": "e5afcf82",
   "metadata": {},
   "outputs": [],
   "source": [
    "def stoch_gbs(\n",
    "    U, \n",
    "    r=1, \n",
    "    out_gamma=DEFAULT_MEAS_THRESH, \n",
    "    N=1000000\n",
    "):\n",
    "    '''Simulates Stochastic Mechanical predictions of detection event likelyhoods\n",
    "    resulting from applying provided unitary to squeezed vacuum states.\n",
    "    Returns map (detection_event -> probability).\n",
    "    \n",
    "    U : m x m matrix\n",
    "        = unitary to be applied.\n",
    "    r : float\n",
    "        = squeezing strength.\n",
    "    out_gamma : float\n",
    "        = measurement threshold for output detectors.\n",
    "    N : int\n",
    "        = number of samples.'''\n",
    "    \n",
    "    m = U.shape[0]\n",
    "    \n",
    "    squeezed_states = np.concatenate([squeezed_zpf(N, r=r) for i in range(m)])\n",
    "    dets = threshold_detector(squeezed_states, out_gamma)\n",
    "    \n",
    "    stoch_distr = defaultdict(lambda: 0)\n",
    "    \n",
    "    counts = Counter(map(tuple, dets.astype(int).T))\n",
    "    stoch_normalization = 0\n",
    "    for det_event in counts.keys():\n",
    "        stoch_distr[det_event] = counts[det_event]\n",
    "        stoch_normalization += counts[det_event]\n",
    "    if stoch_normalization != 0:\n",
    "        for det_event in stoch_distr:\n",
    "            stoch_distr[det_event] /= stoch_normalization\n",
    "                \n",
    "    return stoch_distr"
   ]
  },
  {
   "cell_type": "code",
   "execution_count": 6,
   "id": "caafdd78",
   "metadata": {},
   "outputs": [],
   "source": [
    "def gbs(\n",
    "    m=None,\n",
    "    U=None, \n",
    "    r=1,\n",
    "    cutoff=10, \n",
    "    out_gamma=DEFAULT_MEAS_THRESH,\n",
    "    N=1000000\n",
    "):\n",
    "    '''Gaussian Boson Sampling (GBS) experiment.\n",
    "    Defaults to applying Haar-Random Unitary.\n",
    "    Converts Fock states to 0/1 detection events.'''\n",
    "        \n",
    "    if m is None:\n",
    "        if U is None:\n",
    "            raise ValueError('Either unitary or number of modes must be specified.')\n",
    "        m = U.shape[0]\n",
    "            \n",
    "    if U is None:\n",
    "        U = qr_haar(m)\n",
    "    if not is_unitary(U):\n",
    "        raise ValueError('U must be unitary.')\n",
    "    if U.shape != (m, m):\n",
    "        raise ValueError(f'Unitary must act on {m} modes.')\n",
    "    \n",
    "    qm_distr = qm_gbs(U, r, cutoff)\n",
    "    stoch_distr = stoch_gbs(U, r, out_gamma, N)\n",
    "\n",
    "    return qm_distr, stoch_distr"
   ]
  },
  {
   "cell_type": "code",
   "execution_count": 7,
   "id": "e89e6e26",
   "metadata": {},
   "outputs": [],
   "source": [
    "# hardcodes 3 modes\n",
    "def optimizable_gbs(x, m=3, U=None, cutoff=10, N=100000, shots=3, dist_func=DEFAULT_DIST_FUNC):\n",
    "    running_tot = 0\n",
    "    for i in range(shots):\n",
    "        qm_distr, stoch_distr = gbs( \n",
    "            m=m,\n",
    "            U=U,\n",
    "            r=x[0], \n",
    "            cutoff=cutoff,\n",
    "            out_gamma=x[1], \n",
    "            N=N\n",
    "        )\n",
    "        running_tot += dist_func(*distr_dicts_to_arrays(qm_distr, stoch_distr))\n",
    "    return running_tot / shots"
   ]
  },
  {
   "cell_type": "markdown",
   "id": "fc3e5949",
   "metadata": {},
   "source": [
    "## GBS Tests"
   ]
  },
  {
   "cell_type": "code",
   "execution_count": 8,
   "id": "41562515",
   "metadata": {},
   "outputs": [
    {
     "name": "stderr",
     "output_type": "stream",
     "text": [
      "OMP: Info #276: omp_set_nested routine deprecated, please use omp_set_max_active_levels instead.\n"
     ]
    },
    {
     "data": {
      "image/png": "[encoded data removed]",
      "text/plain": [
       "<Figure size 800x550 with 1 Axes>"
      ]
     },
     "metadata": {},
     "output_type": "display_data"
    },
    {
     "name": "stdout",
     "output_type": "stream",
     "text": [
      "Trace Distance: 0.39077659023988986\n",
      "Hellinger Distance: 0.3599356793972347\n",
      "Chi-Square Test Statistic: 0.7280868485457455\n",
      "Chi-Square p-value: 0.9981105000201301\n",
      "\n"
     ]
    }
   ],
   "source": [
    "analyze_distr(*gbs(3))"
   ]
  },
  {
   "cell_type": "code",
   "execution_count": 9,
   "id": "953e3841",
   "metadata": {},
   "outputs": [
    {
     "data": {
      "image/png": "[encoded data removed]",
      "text/plain": [
       "<Figure size 800x550 with 1 Axes>"
      ]
     },
     "metadata": {},
     "output_type": "display_data"
    },
    {
     "name": "stdout",
     "output_type": "stream",
     "text": [
      "Trace Distance: 0.27558054016965394\n",
      "Hellinger Distance: 0.21426560135378414\n",
      "Chi-Square Test Statistic: 0.3269852333069961\n",
      "Chi-Square p-value: 0.9548759022050648\n",
      "\n"
     ]
    }
   ],
   "source": [
    "# Basic Hadamard\n",
    "analyze_distr(*gbs(U=hadamard))"
   ]
  },
  {
   "cell_type": "markdown",
   "id": "5d52b06a",
   "metadata": {},
   "source": [
    "### Haar-Random Unitary"
   ]
  },
  {
   "cell_type": "code",
   "execution_count": 10,
   "id": "8ad3a232",
   "metadata": {},
   "outputs": [
    {
     "data": {
      "text/plain": [
       "array([1.01163173, 1.98302813])"
      ]
     },
     "execution_count": 10,
     "metadata": {},
     "output_type": "execute_result"
    }
   ],
   "source": [
    "x0 = [1, DEFAULT_MEAS_THRESH]\n",
    "res = minimize(optimizable_gbs, x0, method='Nelder-Mead', tol=1e-2)\n",
    "res.x"
   ]
  },
  {
   "cell_type": "code",
   "execution_count": 11,
   "id": "20829d37",
   "metadata": {},
   "outputs": [
    {
     "name": "stdout",
     "output_type": "stream",
     "text": [
      "0.5103803347053361\n"
     ]
    }
   ],
   "source": [
    "print(optimizable_gbs(res.x))"
   ]
  },
  {
   "cell_type": "code",
   "execution_count": 12,
   "id": "b0661775",
   "metadata": {},
   "outputs": [
    {
     "data": {
      "image/png": "[encoded data removed]",
      "text/plain": [
       "<Figure size 800x550 with 1 Axes>"
      ]
     },
     "metadata": {},
     "output_type": "display_data"
    },
    {
     "name": "stdout",
     "output_type": "stream",
     "text": [
      "Trace Distance: 0.5556483882972747\n",
      "Hellinger Distance: 0.48059018405921683\n",
      "Chi-Square Test Statistic: 1.8608713680267206\n",
      "Chi-Square p-value: 0.9671378221696912\n",
      "\n"
     ]
    }
   ],
   "source": [
    "analyze_distr(*gbs(\n",
    "    3, \n",
    "    r=res.x[0], \n",
    "    out_gamma=res.x[1], \n",
    "    N=1000000\n",
    "))"
   ]
  },
  {
   "cell_type": "code",
   "execution_count": 13,
   "id": "550db217",
   "metadata": {},
   "outputs": [
    {
     "name": "stdout",
     "output_type": "stream",
     "text": [
      "0.5365118029714034\n"
     ]
    }
   ],
   "source": [
    "# past trace distance optimizations\n",
    "print(optimizable_gbs([1.02929687, 1.91132578]))"
   ]
  },
  {
   "cell_type": "markdown",
   "id": "6d1029b3",
   "metadata": {},
   "source": [
    "### Basic Hadamard"
   ]
  },
  {
   "cell_type": "code",
   "execution_count": 14,
   "id": "4d0d0fa5",
   "metadata": {},
   "outputs": [
    {
     "data": {
      "text/plain": [
       "array([0.61716621, 1.31835864])"
      ]
     },
     "execution_count": 14,
     "metadata": {},
     "output_type": "execute_result"
    }
   ],
   "source": [
    "x0 = [1, DEFAULT_MEAS_THRESH]\n",
    "res = minimize(optimizable_gbs, x0, \n",
    "               args=(2, hadamard, 10, 100000, 3), \n",
    "               method='Nelder-Mead', tol=1e-2)\n",
    "res.x"
   ]
  },
  {
   "cell_type": "code",
   "execution_count": 15,
   "id": "97a8ee7f",
   "metadata": {},
   "outputs": [
    {
     "name": "stdout",
     "output_type": "stream",
     "text": [
      "0.21746172561556854\n"
     ]
    }
   ],
   "source": [
    "print(optimizable_gbs(res.x))"
   ]
  },
  {
   "cell_type": "code",
   "execution_count": 16,
   "id": "fd369d2b",
   "metadata": {},
   "outputs": [
    {
     "data": {
      "image/png": "[encoded data removed]",
      "text/plain": [
       "<Figure size 800x550 with 1 Axes>"
      ]
     },
     "metadata": {},
     "output_type": "display_data"
    },
    {
     "name": "stdout",
     "output_type": "stream",
     "text": [
      "Trace Distance: 0.0007099347130713994\n",
      "Hellinger Distance: 0.0006055788543501858\n",
      "Chi-Square Test Statistic: 9.186413337621887e-07\n",
      "Chi-Square p-value: 0.9999999997658265\n",
      "\n"
     ]
    }
   ],
   "source": [
    "analyze_distr(*gbs(\n",
    "    U=hadamard, \n",
    "    r=res.x[0], \n",
    "    out_gamma=res.x[1], \n",
    "    N=1000000\n",
    "))"
   ]
  },
  {
   "cell_type": "code",
   "execution_count": 17,
   "id": "df12c3ba",
   "metadata": {},
   "outputs": [
    {
     "name": "stdout",
     "output_type": "stream",
     "text": [
      "0.21282460052629693\n"
     ]
    }
   ],
   "source": [
    "# past trace distance optimizations\n",
    "print(optimizable_gbs([0.58431614, 1.3241543]))"
   ]
  }
 ],
 "metadata": {
  "kernelspec": {
   "display_name": "Python 3 (ipykernel)",
   "language": "python",
   "name": "python3"
  },
  "language_info": {
   "codemirror_mode": {
    "name": "ipython",
    "version": 3
   },
   "file_extension": ".py",
   "mimetype": "text/x-python",
   "name": "python",
   "nbconvert_exporter": "python",
   "pygments_lexer": "ipython3",
   "version": "3.10.9"
  }
 },
 "nbformat": 4,
 "nbformat_minor": 5
}
